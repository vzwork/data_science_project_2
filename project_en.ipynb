{
 "cells": [
  {
   "cell_type": "markdown",
   "metadata": {},
   "source": [
    "# Description"
   ]
  },
  {
   "cell_type": "markdown",
   "metadata": {},
   "source": [
    "Some hotel company is experiencing losses. Guests reserver their rooms, but don't show up. We need to make a model that will predict whether a person will show up or not. And then the company can ask for a deposit before reservation."
   ]
  },
  {
   "cell_type": "markdown",
   "metadata": {},
   "source": [
    "# Buiness Information"
   ]
  },
  {
   "cell_type": "markdown",
   "metadata": {},
   "source": [
    "The deposit will cover first night, and costs of one cleaning.\n",
    "\n",
    "The types of rooms:\n",
    "- A category: $1000/night $400/cleaning\n",
    "- B category: $800/night  $350/cleaning\n",
    "- C category: $600/night  $350/cleaning\n",
    "- D category: $550/night  $150/cleaning\n",
    "- E category: $500/night  $150/cleaning\n",
    "- F category: $450/night  $150/cleaning\n",
    "- G category: $350/night  $150/cleaning\n",
    "\n",
    "Season costs adjustment:\n",
    "- Sprint: 20%\n",
    "- Summer: 40%\n",
    "- Fall:   20%\n",
    "\n",
    "Loss of business is calculated by one night stay and one cleaning\n",
    "\n",
    "The budget for development of the model is $400,000"
   ]
  },
  {
   "cell_type": "markdown",
   "metadata": {},
   "source": [
    "# Plan"
   ]
  },
  {
   "cell_type": "markdown",
   "metadata": {},
   "source": [
    "- import libraries\n",
    "- inspect data\n",
    "- run business calculations\n",
    "- run business calculations with model\n",
    "- run business calculations with model on the test data\n",
    "- describe a person who is likely to loose the deposit\n",
    "- conclusion"
   ]
  },
  {
   "cell_type": "markdown",
   "metadata": {},
   "source": [
    "# Libraries"
   ]
  },
  {
   "cell_type": "code",
   "execution_count": 1,
   "metadata": {},
   "outputs": [],
   "source": [
    "import pandas as pd\n",
    "import numpy as np\n",
    "import matplotlib.pyplot as plt\n",
    "import seaborn as sns\n",
    "import os\n",
    "\n",
    "from sklearn.preprocessing import OrdinalEncoder\n",
    "from sklearn.preprocessing import StandardScaler\n",
    "\n",
    "from sklearn.model_selection import cross_val_score\n",
    "\n",
    "from sklearn.tree import DecisionTreeClassifier\n",
    "from sklearn.ensemble import RandomForestClassifier\n",
    "from sklearn.linear_model import LogisticRegression\n",
    "\n",
    "from sklearn.model_selection import GridSearchCV\n",
    "from sklearn.metrics import f1_score"
   ]
  },
  {
   "cell_type": "markdown",
   "metadata": {},
   "source": [
    "# Data Inspection"
   ]
  },
  {
   "cell_type": "code",
   "execution_count": 2,
   "metadata": {},
   "outputs": [],
   "source": [
    "local_path_df_train = './datasets/hotel_train.csv'\n",
    "local_path_df_test = './datasets/hotel_test.csv'\n",
    "web_path_df_train = '/datasets/hotel_train.csv'\n",
    "web_path_df_test = '/datasets/hotel_test.csv'"
   ]
  },
  {
   "cell_type": "code",
   "execution_count": 3,
   "metadata": {},
   "outputs": [],
   "source": [
    "if os.path.exists(local_path_df_train):\n",
    "  df_train_raw = pd.read_csv(local_path_df_train)\n",
    "elif os.path.exists(web_path_df_train):\n",
    "  df_train_raw = pd.read_csv(web_path_df_train)\n",
    "if os.path.exists(local_path_df_test):\n",
    "  df_test_raw = pd.read_csv(local_path_df_test)\n",
    "elif os.path.exists(web_path_df_test):\n",
    "  df_test_raw = pd.read_csv(web_path_df_test)"
   ]
  },
  {
   "cell_type": "markdown",
   "metadata": {},
   "source": [
    "In order for the model to work we have to have the same number of features, before we clean the data, we will combine test df and train df, and then split them up. This will be especially useful for the OHE."
   ]
  },
  {
   "cell_type": "code",
   "execution_count": 4,
   "metadata": {},
   "outputs": [],
   "source": [
    "df_train = df_train_raw\n",
    "df_test = df_test_raw"
   ]
  },
  {
   "cell_type": "code",
   "execution_count": 5,
   "metadata": {},
   "outputs": [],
   "source": [
    "df_train['is_train'] = 1\n",
    "df_test['is_train'] = 0"
   ]
  },
  {
   "cell_type": "code",
   "execution_count": 6,
   "metadata": {},
   "outputs": [],
   "source": [
    "df = pd.concat([df_train, df_test]).reset_index(drop=True)"
   ]
  },
  {
   "cell_type": "code",
   "execution_count": 7,
   "metadata": {},
   "outputs": [
    {
     "name": "stdout",
     "output_type": "stream",
     "text": [
      "(97641, 26)\n"
     ]
    }
   ],
   "source": [
    "print(df.shape)"
   ]
  },
  {
   "cell_type": "code",
   "execution_count": 8,
   "metadata": {},
   "outputs": [
    {
     "name": "stdout",
     "output_type": "stream",
     "text": [
      "Index(['id', 'is_canceled', 'lead_time', 'arrival_date_year',\n",
      "       'arrival_date_month', 'arrival_date_week_number',\n",
      "       'arrival_date_day_of_month', 'stays_in_weekend_nights',\n",
      "       'stays_in_week_nights', 'adults', 'children', 'babies', 'meal',\n",
      "       'country', 'distribution_channel', 'is_repeated_guest',\n",
      "       'previous_cancellations', 'previous_bookings_not_canceled',\n",
      "       'reserved_room_type', 'booking_changes', 'days_in_waiting_list',\n",
      "       'customer_type', 'required_car_parking_spaces',\n",
      "       'total_of_special_requests', 'total_nights', 'is_train'],\n",
      "      dtype='object')\n"
     ]
    }
   ],
   "source": [
    "print(df.columns)"
   ]
  },
  {
   "cell_type": "markdown",
   "metadata": {},
   "source": [
    "# is_canceled"
   ]
  },
  {
   "cell_type": "markdown",
   "metadata": {},
   "source": [
    "target feature - guest canceled reservation"
   ]
  },
  {
   "cell_type": "code",
   "execution_count": 9,
   "metadata": {},
   "outputs": [
    {
     "name": "stdout",
     "output_type": "stream",
     "text": [
      "int64\n"
     ]
    }
   ],
   "source": [
    "print(df['is_canceled'].dtype)"
   ]
  },
  {
   "cell_type": "code",
   "execution_count": 10,
   "metadata": {},
   "outputs": [
    {
     "name": "stdout",
     "output_type": "stream",
     "text": [
      "[0 1]\n"
     ]
    }
   ],
   "source": [
    "print(pd.unique(df['is_canceled']))"
   ]
  },
  {
   "cell_type": "code",
   "execution_count": 11,
   "metadata": {},
   "outputs": [
    {
     "name": "stdout",
     "output_type": "stream",
     "text": [
      "0.37520099138681495\n"
     ]
    }
   ],
   "source": [
    "print(df['is_canceled'].sum() / df['is_canceled'].size)"
   ]
  },
  {
   "cell_type": "code",
   "execution_count": 12,
   "metadata": {},
   "outputs": [
    {
     "name": "stdout",
     "output_type": "stream",
     "text": [
      "Train data ratio\n",
      "0.3686090542550093\n",
      "Test data ratio\n",
      "0.3884672343576453\n"
     ]
    }
   ],
   "source": [
    "# we have to check ratio 'is_train' == 1 and 'is_train' == 0\n",
    "print('Train data ratio')\n",
    "print(df[df['is_train'] == 1]['is_canceled'].sum() / df[df['is_train'] == 1]['is_canceled'].size)\n",
    "print('Test data ratio')\n",
    "print(df[df['is_train'] == 0]['is_canceled'].sum() / df[df['is_train'] == 0]['is_canceled'].size)"
   ]
  },
  {
   "cell_type": "markdown",
   "metadata": {},
   "source": [
    "- no missing values\n",
    "- binary target value, as expected\n",
    "- distribution of the answers is close to 50/50 ratio"
   ]
  },
  {
   "cell_type": "markdown",
   "metadata": {},
   "source": [
    "# lead_time"
   ]
  },
  {
   "cell_type": "markdown",
   "metadata": {},
   "source": [
    "feature - number of days before reservation date"
   ]
  },
  {
   "cell_type": "code",
   "execution_count": 13,
   "metadata": {},
   "outputs": [
    {
     "name": "stdout",
     "output_type": "stream",
     "text": [
      "float64\n"
     ]
    }
   ],
   "source": [
    "print(df['lead_time'].dtype)"
   ]
  },
  {
   "cell_type": "code",
   "execution_count": 14,
   "metadata": {},
   "outputs": [
    {
     "name": "stdout",
     "output_type": "stream",
     "text": [
      "0     7.0\n",
      "1    14.0\n",
      "2     0.0\n",
      "3     9.0\n",
      "4    85.0\n",
      "Name: lead_time, dtype: float64\n"
     ]
    }
   ],
   "source": [
    "print(df['lead_time'].head())"
   ]
  },
  {
   "cell_type": "code",
   "execution_count": 15,
   "metadata": {},
   "outputs": [],
   "source": [
    "try:\n",
    "  df['lead_time'] = df['lead_time'].astype('int64')\n",
    "except:\n",
    "  print('could not convert \\'lead_time\\' to int54')"
   ]
  },
  {
   "cell_type": "code",
   "execution_count": 16,
   "metadata": {},
   "outputs": [
    {
     "name": "stdout",
     "output_type": "stream",
     "text": [
      "Lead time for train data\n"
     ]
    },
    {
     "data": {
      "image/png": "[encoded data removed]",
      "text/plain": [
       "<Figure size 432x288 with 1 Axes>"
      ]
     },
     "metadata": {
      "needs_background": "light"
     },
     "output_type": "display_data"
    }
   ],
   "source": [
    "print('Lead time for train data')\n",
    "plt.hist(df[df['is_train'] == 1]['lead_time'], bins=20)\n",
    "plt.show()"
   ]
  },
  {
   "cell_type": "code",
   "execution_count": 17,
   "metadata": {},
   "outputs": [
    {
     "name": "stdout",
     "output_type": "stream",
     "text": [
      "Lead time for test data\n"
     ]
    },
    {
     "data": {
      "image/png": "[encoded data removed]",
      "text/plain": [
       "<Figure size 432x288 with 1 Axes>"
      ]
     },
     "metadata": {
      "needs_background": "light"
     },
     "output_type": "display_data"
    }
   ],
   "source": [
    "print('Lead time for test data')\n",
    "plt.hist(df[df['is_train'] == 0]['lead_time'], bins=20)\n",
    "plt.show()"
   ]
  },
  {
   "cell_type": "markdown",
   "metadata": {},
   "source": [
    "- changed the data type to int64\n",
    "- no missing values\n",
    "- checked for the outliers, data looks uniform\n",
    "- in this case quantity data will work, it ranges from short period to the longer period"
   ]
  },
  {
   "cell_type": "markdown",
   "metadata": {},
   "source": [
    "# arrival_date_year"
   ]
  },
  {
   "cell_type": "markdown",
   "metadata": {},
   "source": [
    "feature - year of the reservation"
   ]
  },
  {
   "cell_type": "code",
   "execution_count": 18,
   "metadata": {},
   "outputs": [
    {
     "name": "stdout",
     "output_type": "stream",
     "text": [
      "int64\n"
     ]
    }
   ],
   "source": [
    "print(df['arrival_date_year'].dtype)"
   ]
  },
  {
   "cell_type": "code",
   "execution_count": 19,
   "metadata": {},
   "outputs": [
    {
     "name": "stdout",
     "output_type": "stream",
     "text": [
      "[2015 2016 2017]\n"
     ]
    }
   ],
   "source": [
    "print(pd.unique(df['arrival_date_year']))"
   ]
  },
  {
   "cell_type": "markdown",
   "metadata": {},
   "source": [
    "- no missing values\n",
    "- range from 2015 to 2017, it will scale with the scaler"
   ]
  },
  {
   "cell_type": "markdown",
   "metadata": {},
   "source": [
    "# arrival_date_month "
   ]
  },
  {
   "cell_type": "markdown",
   "metadata": {},
   "source": [
    "feature - arrival date"
   ]
  },
  {
   "cell_type": "code",
   "execution_count": 20,
   "metadata": {},
   "outputs": [
    {
     "name": "stdout",
     "output_type": "stream",
     "text": [
      "object\n"
     ]
    }
   ],
   "source": [
    "print(df['arrival_date_month'].dtype)"
   ]
  },
  {
   "cell_type": "code",
   "execution_count": 21,
   "metadata": {},
   "outputs": [
    {
     "name": "stdout",
     "output_type": "stream",
     "text": [
      "['July' 'August' 'September' 'October' 'November' 'December' 'January'\n",
      " 'February' 'March' 'April' 'May' 'June']\n"
     ]
    }
   ],
   "source": [
    "print(pd.unique(df['arrival_date_month']))"
   ]
  },
  {
   "cell_type": "markdown",
   "metadata": {},
   "source": [
    "- no missing values\n",
    "- data type is object\n",
    "- in the case of month it maces sense to do OHE operation\n",
    "- OHE because months are very specific and it will work better with algorithms like that"
   ]
  },
  {
   "cell_type": "code",
   "execution_count": 22,
   "metadata": {},
   "outputs": [],
   "source": [
    "arrival_date_month = pd.get_dummies(df['arrival_date_month'])"
   ]
  },
  {
   "cell_type": "code",
   "execution_count": 23,
   "metadata": {},
   "outputs": [
    {
     "name": "stdout",
     "output_type": "stream",
     "text": [
      "   April  August  December  February  January  July  June  March  May  \\\n",
      "0      0       0         0         0        0     1     0      0    0   \n",
      "1      0       0         0         0        0     1     0      0    0   \n",
      "\n",
      "   November  October  September  \n",
      "0         0        0          0  \n",
      "1         0        0          0  \n"
     ]
    }
   ],
   "source": [
    "print(arrival_date_month.head(2))"
   ]
  },
  {
   "cell_type": "code",
   "execution_count": 24,
   "metadata": {},
   "outputs": [],
   "source": [
    "df = pd.merge(df, arrival_date_month, left_index=True, right_index=True)"
   ]
  },
  {
   "cell_type": "markdown",
   "metadata": {},
   "source": [
    "<div class=\"alert alert-success\">\n",
    "<h2>Комментарий ревьюера<a class=\"tocSkip\"></a></h2>\n",
    "    \n",
    "**Отлично!** ✔️: согласен, в этом случае OHE подходит больше</div>"
   ]
  },
  {
   "cell_type": "markdown",
   "metadata": {},
   "source": [
    "# arrival_date_week_number"
   ]
  },
  {
   "cell_type": "markdown",
   "metadata": {},
   "source": [
    "feature - week of the arrival"
   ]
  },
  {
   "cell_type": "code",
   "execution_count": 25,
   "metadata": {},
   "outputs": [
    {
     "name": "stdout",
     "output_type": "stream",
     "text": [
      "int64\n"
     ]
    }
   ],
   "source": [
    "print(df['arrival_date_week_number'].dtype)"
   ]
  },
  {
   "cell_type": "code",
   "execution_count": 26,
   "metadata": {},
   "outputs": [
    {
     "data": {
      "image/png": "[encoded data removed]",
      "text/plain": [
       "<Figure size 432x288 with 1 Axes>"
      ]
     },
     "metadata": {
      "needs_background": "light"
     },
     "output_type": "display_data"
    }
   ],
   "source": [
    "plt.hist(df['arrival_date_week_number'], bins = 20)\n",
    "plt.show()"
   ]
  },
  {
   "cell_type": "markdown",
   "metadata": {},
   "source": [
    "- no missing values\n",
    "- data looks uniform"
   ]
  },
  {
   "cell_type": "markdown",
   "metadata": {},
   "source": [
    "# arrival_date_day_of_month"
   ]
  },
  {
   "cell_type": "markdown",
   "metadata": {},
   "source": [
    "feature - day of month"
   ]
  },
  {
   "cell_type": "code",
   "execution_count": 27,
   "metadata": {},
   "outputs": [
    {
     "name": "stdout",
     "output_type": "stream",
     "text": [
      "int64\n"
     ]
    }
   ],
   "source": [
    "print(df['arrival_date_day_of_month'].dtype)"
   ]
  },
  {
   "cell_type": "code",
   "execution_count": 28,
   "metadata": {},
   "outputs": [
    {
     "data": {
      "image/png": "[encoded data removed]",
      "text/plain": [
       "<Figure size 432x288 with 1 Axes>"
      ]
     },
     "metadata": {
      "needs_background": "light"
     },
     "output_type": "display_data"
    }
   ],
   "source": [
    "plt.hist(df['arrival_date_day_of_month'], bins=31)\n",
    "plt.show()"
   ]
  },
  {
   "cell_type": "markdown",
   "metadata": {},
   "source": [
    "- no missing values\n",
    "- data looks uniform"
   ]
  },
  {
   "cell_type": "markdown",
   "metadata": {},
   "source": [
    "# stays_in_weekend_nights"
   ]
  },
  {
   "cell_type": "markdown",
   "metadata": {},
   "source": [
    "feature - number of nights over weeked"
   ]
  },
  {
   "cell_type": "code",
   "execution_count": 29,
   "metadata": {},
   "outputs": [
    {
     "name": "stdout",
     "output_type": "stream",
     "text": [
      "int64\n"
     ]
    }
   ],
   "source": [
    "print(df['stays_in_weekend_nights'].dtype)"
   ]
  },
  {
   "cell_type": "code",
   "execution_count": 30,
   "metadata": {},
   "outputs": [
    {
     "name": "stdout",
     "output_type": "stream",
     "text": [
      "[0 2 1 4 3]\n"
     ]
    }
   ],
   "source": [
    "print(pd.unique(df['stays_in_weekend_nights']))"
   ]
  },
  {
   "cell_type": "code",
   "execution_count": 31,
   "metadata": {},
   "outputs": [
    {
     "data": {
      "image/png": "[encoded data removed]",
      "text/plain": [
       "<Figure size 432x288 with 1 Axes>"
      ]
     },
     "metadata": {
      "needs_background": "light"
     },
     "output_type": "display_data"
    }
   ],
   "source": [
    "plt.hist(df['stays_in_weekend_nights'], bins=4)\n",
    "plt.show()"
   ]
  },
  {
   "cell_type": "markdown",
   "metadata": {},
   "source": [
    "- no missing values\n",
    "- data looks uniform"
   ]
  },
  {
   "cell_type": "markdown",
   "metadata": {},
   "source": [
    "# stays_in_week_nights"
   ]
  },
  {
   "cell_type": "markdown",
   "metadata": {},
   "source": [
    "feature - number of nights over week"
   ]
  },
  {
   "cell_type": "code",
   "execution_count": 32,
   "metadata": {},
   "outputs": [
    {
     "name": "stdout",
     "output_type": "stream",
     "text": [
      "int64\n"
     ]
    }
   ],
   "source": [
    "print(df['stays_in_week_nights'].dtype)"
   ]
  },
  {
   "cell_type": "code",
   "execution_count": 33,
   "metadata": {},
   "outputs": [
    {
     "name": "stdout",
     "output_type": "stream",
     "text": [
      "[1 2 3 4 5 6 0]\n"
     ]
    }
   ],
   "source": [
    "print(pd.unique(df['stays_in_week_nights']))"
   ]
  },
  {
   "cell_type": "code",
   "execution_count": 34,
   "metadata": {},
   "outputs": [
    {
     "data": {
      "image/png": "[encoded data removed]",
      "text/plain": [
       "<Figure size 432x288 with 1 Axes>"
      ]
     },
     "metadata": {
      "needs_background": "light"
     },
     "output_type": "display_data"
    }
   ],
   "source": [
    "plt.hist(df['stays_in_week_nights'], bins=7)\n",
    "plt.show()"
   ]
  },
  {
   "cell_type": "markdown",
   "metadata": {},
   "source": [
    "- not missing values\n",
    "- data looks uniform"
   ]
  },
  {
   "cell_type": "code",
   "execution_count": 35,
   "metadata": {},
   "outputs": [],
   "source": [
    "difference_column = df['stays_in_week_nights'] + df['stays_in_weekend_nights'] - df['total_nights']"
   ]
  },
  {
   "cell_type": "code",
   "execution_count": 36,
   "metadata": {},
   "outputs": [
    {
     "name": "stdout",
     "output_type": "stream",
     "text": [
      "unexpected difference: 0\n"
     ]
    }
   ],
   "source": [
    "print('unexpected difference:', difference_column.sum())"
   ]
  },
  {
   "cell_type": "markdown",
   "metadata": {},
   "source": [
    "# adults"
   ]
  },
  {
   "cell_type": "markdown",
   "metadata": {},
   "source": [
    "feature - number of adults"
   ]
  },
  {
   "cell_type": "code",
   "execution_count": 37,
   "metadata": {},
   "outputs": [
    {
     "name": "stdout",
     "output_type": "stream",
     "text": [
      "float64\n"
     ]
    }
   ],
   "source": [
    "print(df['adults'].dtype)"
   ]
  },
  {
   "cell_type": "code",
   "execution_count": 38,
   "metadata": {},
   "outputs": [
    {
     "name": "stdout",
     "output_type": "stream",
     "text": [
      "[1. 2. 3. 4. 0.]\n"
     ]
    }
   ],
   "source": [
    "print(pd.unique(df['adults']))"
   ]
  },
  {
   "cell_type": "code",
   "execution_count": 39,
   "metadata": {},
   "outputs": [],
   "source": [
    "try:\n",
    "  df['adults'] = df['adults'].astype('int64')\n",
    "except:\n",
    "  print('could not convert \\'adults\\' to int64')"
   ]
  },
  {
   "cell_type": "code",
   "execution_count": 40,
   "metadata": {},
   "outputs": [
    {
     "data": {
      "image/png": "[encoded data removed]",
      "text/plain": [
       "<Figure size 432x288 with 1 Axes>"
      ]
     },
     "metadata": {
      "needs_background": "light"
     },
     "output_type": "display_data"
    }
   ],
   "source": [
    "plt.hist(df['adults'], bins=5)\n",
    "plt.show()"
   ]
  },
  {
   "cell_type": "markdown",
   "metadata": {},
   "source": [
    "- no missing values\n",
    "- data looks uniform"
   ]
  },
  {
   "cell_type": "markdown",
   "metadata": {},
   "source": [
    "# children"
   ]
  },
  {
   "cell_type": "markdown",
   "metadata": {},
   "source": [
    "feature - number of children age 3 - 14"
   ]
  },
  {
   "cell_type": "code",
   "execution_count": 41,
   "metadata": {},
   "outputs": [
    {
     "name": "stdout",
     "output_type": "stream",
     "text": [
      "float64\n"
     ]
    }
   ],
   "source": [
    "print(df['children'].dtype)"
   ]
  },
  {
   "cell_type": "code",
   "execution_count": 42,
   "metadata": {},
   "outputs": [
    {
     "name": "stdout",
     "output_type": "stream",
     "text": [
      "[0. 1. 2. 3.]\n"
     ]
    }
   ],
   "source": [
    "print(pd.unique(df['children']))"
   ]
  },
  {
   "cell_type": "code",
   "execution_count": 43,
   "metadata": {},
   "outputs": [
    {
     "name": "stdout",
     "output_type": "stream",
     "text": [
      "0.0    92072\n",
      "1.0     3559\n",
      "2.0     1989\n",
      "3.0       21\n",
      "Name: children, dtype: int64\n"
     ]
    }
   ],
   "source": [
    "print(pd.value_counts(df['children']))"
   ]
  },
  {
   "cell_type": "code",
   "execution_count": 44,
   "metadata": {},
   "outputs": [],
   "source": [
    "try:\n",
    "  df['children'] = df['children'].astype('int64')\n",
    "except:\n",
    "  print('could not convert \\'children\\' to int64')"
   ]
  },
  {
   "cell_type": "code",
   "execution_count": 45,
   "metadata": {},
   "outputs": [
    {
     "data": {
      "image/png": "[encoded data removed]",
      "text/plain": [
       "<Figure size 432x288 with 1 Axes>"
      ]
     },
     "metadata": {
      "needs_background": "light"
     },
     "output_type": "display_data"
    }
   ],
   "source": [
    "plt.hist(df['children'], bins=4)\n",
    "plt.show()"
   ]
  },
  {
   "cell_type": "markdown",
   "metadata": {},
   "source": [
    "- no missing values\n",
    "- data looks uniform"
   ]
  },
  {
   "cell_type": "markdown",
   "metadata": {},
   "source": [
    "# babies"
   ]
  },
  {
   "cell_type": "markdown",
   "metadata": {},
   "source": [
    "feature - number of babies age 0 - 3"
   ]
  },
  {
   "cell_type": "code",
   "execution_count": 46,
   "metadata": {},
   "outputs": [
    {
     "name": "stdout",
     "output_type": "stream",
     "text": [
      "float64\n"
     ]
    }
   ],
   "source": [
    "print(df['babies'].dtype)"
   ]
  },
  {
   "cell_type": "code",
   "execution_count": 47,
   "metadata": {},
   "outputs": [
    {
     "name": "stdout",
     "output_type": "stream",
     "text": [
      "[ 0.  1.  2. 10.  9.]\n"
     ]
    }
   ],
   "source": [
    "print(pd.unique(df['babies']))"
   ]
  },
  {
   "cell_type": "code",
   "execution_count": 48,
   "metadata": {},
   "outputs": [
    {
     "name": "stdout",
     "output_type": "stream",
     "text": [
      "0.0     97014\n",
      "1.0       618\n",
      "2.0         7\n",
      "9.0         1\n",
      "10.0        1\n",
      "Name: babies, dtype: int64\n"
     ]
    }
   ],
   "source": [
    "print(pd.value_counts(df['babies']))"
   ]
  },
  {
   "cell_type": "markdown",
   "metadata": {},
   "source": [
    "There must have been a mistake when entering data, those two values look like outliers. Replace them with 0"
   ]
  },
  {
   "cell_type": "code",
   "execution_count": 49,
   "metadata": {},
   "outputs": [],
   "source": [
    "df['babies'] = df['babies'].mask(df['babies'] > 2, 0)"
   ]
  },
  {
   "cell_type": "code",
   "execution_count": 50,
   "metadata": {},
   "outputs": [],
   "source": [
    "df['babies'] = df['babies'].mask(df['babies'] > 1, 1)"
   ]
  },
  {
   "cell_type": "code",
   "execution_count": 51,
   "metadata": {},
   "outputs": [
    {
     "name": "stdout",
     "output_type": "stream",
     "text": [
      "[0. 1.]\n"
     ]
    }
   ],
   "source": [
    "print(pd.unique(df['babies']))"
   ]
  },
  {
   "cell_type": "code",
   "execution_count": 52,
   "metadata": {},
   "outputs": [],
   "source": [
    "try:\n",
    "  df['babies'] = df['babies'].astype('int64')\n",
    "except:\n",
    "  print('could not convert \\'babies\\' to int64')"
   ]
  },
  {
   "cell_type": "code",
   "execution_count": 53,
   "metadata": {},
   "outputs": [
    {
     "name": "stdout",
     "output_type": "stream",
     "text": [
      "0    97016\n",
      "1      625\n",
      "Name: babies, dtype: int64\n"
     ]
    }
   ],
   "source": [
    "print(pd.value_counts(df['babies']))"
   ]
  },
  {
   "cell_type": "markdown",
   "metadata": {},
   "source": [
    "- no missing values\n",
    "- data looks uniform"
   ]
  },
  {
   "cell_type": "markdown",
   "metadata": {},
   "source": [
    "# meal"
   ]
  },
  {
   "cell_type": "markdown",
   "metadata": {},
   "source": [
    "feature - the type of the meal plan a person has\n",
    "- SC - no meal\n",
    "- BB - breakfast\n",
    "- HB - breakfast, lunch\n",
    "- FB - breakfast, lunch, dinner"
   ]
  },
  {
   "cell_type": "code",
   "execution_count": 54,
   "metadata": {},
   "outputs": [
    {
     "name": "stdout",
     "output_type": "stream",
     "text": [
      "object\n"
     ]
    }
   ],
   "source": [
    "print(df['meal'].dtype)"
   ]
  },
  {
   "cell_type": "code",
   "execution_count": 55,
   "metadata": {},
   "outputs": [
    {
     "name": "stdout",
     "output_type": "stream",
     "text": [
      "['BB       ' 'FB       ' 'HB       ' 'SC       ' 'SC']\n"
     ]
    }
   ],
   "source": [
    "print(pd.unique(df['meal']))"
   ]
  },
  {
   "cell_type": "code",
   "execution_count": 56,
   "metadata": {},
   "outputs": [],
   "source": [
    "df['meal'] = df['meal'].str.strip()"
   ]
  },
  {
   "cell_type": "code",
   "execution_count": 57,
   "metadata": {},
   "outputs": [
    {
     "name": "stdout",
     "output_type": "stream",
     "text": [
      "['BB' 'FB' 'HB' 'SC']\n"
     ]
    }
   ],
   "source": [
    "print(pd.unique(df['meal']))"
   ]
  },
  {
   "cell_type": "markdown",
   "metadata": {},
   "source": [
    "apply OHE to this series"
   ]
  },
  {
   "cell_type": "code",
   "execution_count": 58,
   "metadata": {},
   "outputs": [],
   "source": [
    "meal = pd.get_dummies(df['meal'])"
   ]
  },
  {
   "cell_type": "code",
   "execution_count": 59,
   "metadata": {},
   "outputs": [
    {
     "data": {
      "text/html": [
       "<div>\n",
       "<style scoped>\n",
       "    .dataframe tbody tr th:only-of-type {\n",
       "        vertical-align: middle;\n",
       "    }\n",
       "\n",
       "    .dataframe tbody tr th {\n",
       "        vertical-align: top;\n",
       "    }\n",
       "\n",
       "    .dataframe thead th {\n",
       "        text-align: right;\n",
       "    }\n",
       "</style>\n",
       "<table border=\"1\" class=\"dataframe\">\n",
       "  <thead>\n",
       "    <tr style=\"text-align: right;\">\n",
       "      <th></th>\n",
       "      <th>BB</th>\n",
       "      <th>FB</th>\n",
       "      <th>HB</th>\n",
       "      <th>SC</th>\n",
       "    </tr>\n",
       "  </thead>\n",
       "  <tbody>\n",
       "    <tr>\n",
       "      <th>0</th>\n",
       "      <td>1</td>\n",
       "      <td>0</td>\n",
       "      <td>0</td>\n",
       "      <td>0</td>\n",
       "    </tr>\n",
       "    <tr>\n",
       "      <th>1</th>\n",
       "      <td>1</td>\n",
       "      <td>0</td>\n",
       "      <td>0</td>\n",
       "      <td>0</td>\n",
       "    </tr>\n",
       "    <tr>\n",
       "      <th>2</th>\n",
       "      <td>1</td>\n",
       "      <td>0</td>\n",
       "      <td>0</td>\n",
       "      <td>0</td>\n",
       "    </tr>\n",
       "    <tr>\n",
       "      <th>3</th>\n",
       "      <td>0</td>\n",
       "      <td>1</td>\n",
       "      <td>0</td>\n",
       "      <td>0</td>\n",
       "    </tr>\n",
       "    <tr>\n",
       "      <th>4</th>\n",
       "      <td>1</td>\n",
       "      <td>0</td>\n",
       "      <td>0</td>\n",
       "      <td>0</td>\n",
       "    </tr>\n",
       "  </tbody>\n",
       "</table>\n",
       "</div>"
      ],
      "text/plain": [
       "   BB  FB  HB  SC\n",
       "0   1   0   0   0\n",
       "1   1   0   0   0\n",
       "2   1   0   0   0\n",
       "3   0   1   0   0\n",
       "4   1   0   0   0"
      ]
     },
     "execution_count": 59,
     "metadata": {},
     "output_type": "execute_result"
    }
   ],
   "source": [
    "meal.head()"
   ]
  },
  {
   "cell_type": "markdown",
   "metadata": {},
   "source": [
    "- everything looks good\n",
    "- ready to merge"
   ]
  },
  {
   "cell_type": "code",
   "execution_count": 60,
   "metadata": {},
   "outputs": [],
   "source": [
    "df = pd.merge(df, meal, left_index=True, right_index=True)"
   ]
  },
  {
   "cell_type": "markdown",
   "metadata": {},
   "source": [
    "# country"
   ]
  },
  {
   "cell_type": "markdown",
   "metadata": {},
   "source": [
    "feature - Citizenship of the visitor"
   ]
  },
  {
   "cell_type": "code",
   "execution_count": 61,
   "metadata": {},
   "outputs": [
    {
     "name": "stdout",
     "output_type": "stream",
     "text": [
      "object\n"
     ]
    }
   ],
   "source": [
    "print(df['country'].dtype)"
   ]
  },
  {
   "cell_type": "code",
   "execution_count": 62,
   "metadata": {},
   "outputs": [
    {
     "name": "stdout",
     "output_type": "stream",
     "text": [
      "['GBR' 'PRT' 'ESP' 'IRL' 'FRA' 'ROU' 'NOR' 'USA' 'DEU' 'BEL' 'CHE' 'CN'\n",
      " 'GRC' 'NLD' 'ARG' 'RUS' 'SWE' 'POL' 'EST' 'CZE' 'ITA' 'FIN' 'DNK' 'MOZ'\n",
      " 'BWA' 'LUX' 'BRA' 'SVN' 'ALB' 'CHN' 'MEX' 'MAR' 'SMR' 'LVA' 'CHL' 'AUT'\n",
      " 'LTU' 'TUR' 'ISR' 'IND' 'CYM' 'AUS' 'CPV' 'ZWE' 'DZA' 'KOR' 'CRI' 'HUN'\n",
      " 'TUN' 'ARE' 'HRV' 'HKG' 'IRN' 'GIB' 'JEY' 'URY' 'ZAF' 'COL' 'GGY' 'KWT'\n",
      " 'CYP' 'KAZ' 'THA' 'DOM' 'NGA' 'BLR' 'VEN' 'UKR' 'ARM' 'JPN' 'LKA' 'MYS'\n",
      " 'BIH' 'MUS' 'OMN' 'SUR' 'JAM' 'BGR' 'CIV' 'SRB' 'JOR' 'SYR' 'PHL' 'PRI'\n",
      " 'SGP' 'BDI' 'LBN' 'AGO' 'VNM' 'AZE' 'PLW' 'NZL' 'EGY' 'MDV' 'CMR' 'MLT'\n",
      " 'SVK' 'MWI' 'STP' 'TWN' 'IDN' 'SEN' 'PER' 'SAU' 'KNA' 'ETH' 'ECU' 'IRQ'\n",
      " 'AND' 'HND' 'PAK' 'GEO' 'ZMB' 'QAT' 'KHM' 'MCO' 'BGD' 'ISL' 'UZB' 'IMN'\n",
      " 'TJK' 'NIC' 'BEN' 'MAC' 'VGB' 'TZA' 'GAB' 'MKD' 'TMP' 'GLP' 'KEN' 'LIE'\n",
      " 'MMR' 'PAN' 'BFA' 'LBY' 'GNB' 'MLI' 'BHR' 'NAM' 'BOL' 'SYC' 'PRY' 'BRB'\n",
      " 'ABW' 'SLV' 'DMA' 'CUB' 'PYF' 'UGA' 'GUY' 'LCA' 'ATA' 'RWA' 'MNE' 'FJI'\n",
      " 'MDG' 'CAF' 'NPL' 'BHS' 'UMI' 'MYT' 'GTM' 'GHA' 'ASM' 'TGO' 'MRT' 'NCL'\n",
      " 'KIR' 'SDN' 'ATF' 'SLE' 'LAO' 'FRO']\n"
     ]
    }
   ],
   "source": [
    "print(pd.unique(df['country']))"
   ]
  },
  {
   "cell_type": "code",
   "execution_count": 63,
   "metadata": {},
   "outputs": [],
   "source": [
    "encoder = OrdinalEncoder()"
   ]
  },
  {
   "cell_type": "code",
   "execution_count": 64,
   "metadata": {},
   "outputs": [],
   "source": [
    "df[['country']] = encoder.fit_transform(df[['country']])"
   ]
  },
  {
   "cell_type": "markdown",
   "metadata": {},
   "source": [
    "# distribution_channel"
   ]
  },
  {
   "cell_type": "markdown",
   "metadata": {},
   "source": [
    "feature - nothing to add"
   ]
  },
  {
   "cell_type": "code",
   "execution_count": 65,
   "metadata": {},
   "outputs": [
    {
     "name": "stdout",
     "output_type": "stream",
     "text": [
      "object\n"
     ]
    }
   ],
   "source": [
    "print(df['distribution_channel'].dtype)"
   ]
  },
  {
   "cell_type": "code",
   "execution_count": 66,
   "metadata": {},
   "outputs": [
    {
     "name": "stdout",
     "output_type": "stream",
     "text": [
      "['Direct' 'TA/TO' 'Corporate' 'GDS']\n"
     ]
    }
   ],
   "source": [
    "print(pd.unique(df['distribution_channel']))"
   ]
  },
  {
   "cell_type": "code",
   "execution_count": 67,
   "metadata": {},
   "outputs": [
    {
     "name": "stdout",
     "output_type": "stream",
     "text": [
      "TA/TO        81537\n",
      "Direct       10495\n",
      "Corporate     5425\n",
      "GDS            184\n",
      "Name: distribution_channel, dtype: int64\n"
     ]
    }
   ],
   "source": [
    "print(pd.value_counts(df['distribution_channel']))"
   ]
  },
  {
   "cell_type": "markdown",
   "metadata": {},
   "source": [
    "OHE"
   ]
  },
  {
   "cell_type": "code",
   "execution_count": 68,
   "metadata": {},
   "outputs": [],
   "source": [
    "distribution_channel = pd.get_dummies(df['distribution_channel'])"
   ]
  },
  {
   "cell_type": "code",
   "execution_count": 69,
   "metadata": {},
   "outputs": [
    {
     "name": "stdout",
     "output_type": "stream",
     "text": [
      "(97641, 4)\n"
     ]
    }
   ],
   "source": [
    "print(distribution_channel.shape)"
   ]
  },
  {
   "cell_type": "markdown",
   "metadata": {},
   "source": [
    "- no missing values\n",
    "- ready to merge"
   ]
  },
  {
   "cell_type": "code",
   "execution_count": 70,
   "metadata": {},
   "outputs": [],
   "source": [
    "df = pd.merge(df, distribution_channel, left_index=True, right_index=True)"
   ]
  },
  {
   "cell_type": "markdown",
   "metadata": {},
   "source": [
    "# is_repeated_guest"
   ]
  },
  {
   "cell_type": "markdown",
   "metadata": {},
   "source": [
    "feature - guest visited before"
   ]
  },
  {
   "cell_type": "code",
   "execution_count": 71,
   "metadata": {},
   "outputs": [
    {
     "name": "stdout",
     "output_type": "stream",
     "text": [
      "int64\n"
     ]
    }
   ],
   "source": [
    "print(df['is_repeated_guest'].dtype)"
   ]
  },
  {
   "cell_type": "code",
   "execution_count": 72,
   "metadata": {},
   "outputs": [
    {
     "name": "stdout",
     "output_type": "stream",
     "text": [
      "[0 1]\n"
     ]
    }
   ],
   "source": [
    "print(pd.unique(df['is_repeated_guest']))"
   ]
  },
  {
   "cell_type": "markdown",
   "metadata": {},
   "source": [
    "- no missing values\n",
    "- simple binary data\n",
    "- ready"
   ]
  },
  {
   "cell_type": "markdown",
   "metadata": {},
   "source": [
    "# previous_cancellations"
   ]
  },
  {
   "cell_type": "markdown",
   "metadata": {},
   "source": [
    "feature - number of cancellations for this guest"
   ]
  },
  {
   "cell_type": "code",
   "execution_count": 73,
   "metadata": {},
   "outputs": [
    {
     "name": "stdout",
     "output_type": "stream",
     "text": [
      "int64\n"
     ]
    }
   ],
   "source": [
    "print(df['previous_cancellations'].dtype)"
   ]
  },
  {
   "cell_type": "code",
   "execution_count": 74,
   "metadata": {},
   "outputs": [
    {
     "name": "stdout",
     "output_type": "stream",
     "text": [
      "0     91777\n",
      "1      5532\n",
      "2        83\n",
      "3        57\n",
      "11       35\n",
      "24       28\n",
      "6        22\n",
      "25       19\n",
      "26       18\n",
      "19       17\n",
      "4        15\n",
      "5        14\n",
      "13       12\n",
      "14       11\n",
      "21        1\n",
      "Name: previous_cancellations, dtype: int64\n"
     ]
    }
   ],
   "source": [
    "print(pd.value_counts(df['previous_cancellations']))"
   ]
  },
  {
   "cell_type": "markdown",
   "metadata": {},
   "source": [
    "- no missing values\n",
    "- although data does not seem uniform, it will be useful for our model"
   ]
  },
  {
   "cell_type": "markdown",
   "metadata": {},
   "source": [
    "# previous_bookings_not_canceled"
   ]
  },
  {
   "cell_type": "markdown",
   "metadata": {},
   "source": [
    "feature - number of reservations that were successfully used"
   ]
  },
  {
   "cell_type": "code",
   "execution_count": 75,
   "metadata": {},
   "outputs": [
    {
     "name": "stdout",
     "output_type": "stream",
     "text": [
      "int64\n"
     ]
    }
   ],
   "source": [
    "print(df['previous_bookings_not_canceled'].dtype)"
   ]
  },
  {
   "cell_type": "code",
   "execution_count": 76,
   "metadata": {},
   "outputs": [
    {
     "name": "stdout",
     "output_type": "stream",
     "text": [
      "[ 0  1  2  3  4  5  6 10 12 13 15 21  7  9  8 11 14 18 22 16 17 19 20 23\n",
      " 24 26 27 28 29 30 31 32 33 34 35 36 37 38 39 40 41 42 43 44 45 47 48 49\n",
      " 50 51 52 53 54 55 56 57 58 25 59 60 61 62 63 64 65 66 67 68 69 70 71 72]\n"
     ]
    }
   ],
   "source": [
    "print(pd.unique(df['previous_bookings_not_canceled']))"
   ]
  },
  {
   "cell_type": "code",
   "execution_count": 77,
   "metadata": {},
   "outputs": [
    {
     "data": {
      "image/png": "[encoded data removed]",
      "text/plain": [
       "<Figure size 432x288 with 1 Axes>"
      ]
     },
     "metadata": {
      "needs_background": "light"
     },
     "output_type": "display_data"
    }
   ],
   "source": [
    "plt.hist(df[df['previous_bookings_not_canceled'] > 0]['previous_bookings_not_canceled'], bins=20)\n",
    "plt.show()"
   ]
  },
  {
   "cell_type": "markdown",
   "metadata": {},
   "source": [
    "- It might be a good idea to assume that those values are outliers but\n",
    "- if that is a regular client, a businessman who visits often\n",
    "- it would make them upset to have to go through reservations\n",
    "- if they visited the hotel every week 50 / year for a year\n",
    "- seem resonable\n",
    "- no corrections needed"
   ]
  },
  {
   "cell_type": "markdown",
   "metadata": {},
   "source": [
    "# reserved_room_type"
   ]
  },
  {
   "cell_type": "markdown",
   "metadata": {},
   "source": [
    "feature - type of reserved room, different price categories"
   ]
  },
  {
   "cell_type": "code",
   "execution_count": 78,
   "metadata": {},
   "outputs": [
    {
     "name": "stdout",
     "output_type": "stream",
     "text": [
      "object\n"
     ]
    }
   ],
   "source": [
    "print(df['reserved_room_type'].dtype)"
   ]
  },
  {
   "cell_type": "code",
   "execution_count": 79,
   "metadata": {},
   "outputs": [
    {
     "name": "stdout",
     "output_type": "stream",
     "text": [
      "['A               ' 'C               ' 'D               '\n",
      " 'E               ' 'G               ' 'F               '\n",
      " 'B               ']\n"
     ]
    }
   ],
   "source": [
    "print(pd.unique(df['reserved_room_type']))"
   ]
  },
  {
   "cell_type": "code",
   "execution_count": 80,
   "metadata": {},
   "outputs": [],
   "source": [
    "df['reserved_room_type'] = df['reserved_room_type'].str.strip()"
   ]
  },
  {
   "cell_type": "code",
   "execution_count": 81,
   "metadata": {},
   "outputs": [
    {
     "name": "stdout",
     "output_type": "stream",
     "text": [
      "['A' 'C' 'D' 'E' 'G' 'F' 'B']\n"
     ]
    }
   ],
   "source": [
    "print(pd.unique(df['reserved_room_type']))"
   ]
  },
  {
   "cell_type": "markdown",
   "metadata": {},
   "source": [
    "OHE"
   ]
  },
  {
   "cell_type": "code",
   "execution_count": 82,
   "metadata": {},
   "outputs": [],
   "source": [
    "reserved_room_type = pd.get_dummies(df['reserved_room_type'])"
   ]
  },
  {
   "cell_type": "code",
   "execution_count": 83,
   "metadata": {},
   "outputs": [
    {
     "name": "stdout",
     "output_type": "stream",
     "text": [
      "(97641, 7)\n"
     ]
    }
   ],
   "source": [
    "print(reserved_room_type.shape)"
   ]
  },
  {
   "cell_type": "markdown",
   "metadata": {},
   "source": [
    "- no missing values\n",
    "- ready to merge"
   ]
  },
  {
   "cell_type": "code",
   "execution_count": 84,
   "metadata": {},
   "outputs": [],
   "source": [
    "df = pd.merge(df, reserved_room_type, left_index=True, right_index=True)"
   ]
  },
  {
   "cell_type": "markdown",
   "metadata": {},
   "source": [
    "# booking_changes"
   ]
  },
  {
   "cell_type": "markdown",
   "metadata": {},
   "source": [
    "feature - number of times a person changed the reservation parameters"
   ]
  },
  {
   "cell_type": "code",
   "execution_count": 85,
   "metadata": {},
   "outputs": [
    {
     "name": "stdout",
     "output_type": "stream",
     "text": [
      "int64\n"
     ]
    }
   ],
   "source": [
    "print(df['booking_changes'].dtype)"
   ]
  },
  {
   "cell_type": "code",
   "execution_count": 86,
   "metadata": {},
   "outputs": [
    {
     "name": "stdout",
     "output_type": "stream",
     "text": [
      "[ 0  1  3  2  4  5  6 10 16  7  9 13  8 14 15 17 18 11]\n"
     ]
    }
   ],
   "source": [
    "print(pd.unique(df['booking_changes']))"
   ]
  },
  {
   "cell_type": "code",
   "execution_count": 87,
   "metadata": {},
   "outputs": [
    {
     "data": {
      "image/png": "[encoded data removed]",
      "text/plain": [
       "<Figure size 432x288 with 1 Axes>"
      ]
     },
     "metadata": {
      "needs_background": "light"
     },
     "output_type": "display_data"
    }
   ],
   "source": [
    "plt.hist(df[df['booking_changes'] > 0]['booking_changes'], bins=20)\n",
    "plt.show()"
   ]
  },
  {
   "cell_type": "markdown",
   "metadata": {},
   "source": [
    "- no missing values\n",
    "- all of the data is useful for the model, we will not drop anything"
   ]
  },
  {
   "cell_type": "markdown",
   "metadata": {},
   "source": [
    "# days_in_waiting_list"
   ]
  },
  {
   "cell_type": "markdown",
   "metadata": {},
   "source": [
    "feature - how many days it took to confirm reservation"
   ]
  },
  {
   "cell_type": "code",
   "execution_count": 88,
   "metadata": {},
   "outputs": [
    {
     "name": "stdout",
     "output_type": "stream",
     "text": [
      "int64\n"
     ]
    }
   ],
   "source": [
    "print(df['days_in_waiting_list'].dtype)"
   ]
  },
  {
   "cell_type": "code",
   "execution_count": 89,
   "metadata": {},
   "outputs": [
    {
     "name": "stdout",
     "output_type": "stream",
     "text": [
      "[  0  50  47  65 122  75 101 150 125  22 142   2  13  44  38  48  33  77\n",
      "  21  80  59  40  58  89  53  49  60  69  87  91  57  99 111  79  98  85\n",
      "  63  15   3  20  93   4  41  34 224  31  39  56 187 176  71  55  96 236\n",
      " 259 207 215 160 120  30  32  27  62  24 108 147   5  14 107  70   8  35\n",
      " 178 174 162  68  11 193  10  76  17  45   6  19  28  42  25  46   9   1\n",
      "  43  72  12  61  81  74 167 100 121  83 113  18 185 109 154  64  16 165\n",
      "   7  84 175 183  23 117  54  26  73 223 105  36]\n"
     ]
    }
   ],
   "source": [
    "print(pd.unique(df['days_in_waiting_list']))"
   ]
  },
  {
   "cell_type": "code",
   "execution_count": 90,
   "metadata": {},
   "outputs": [
    {
     "data": {
      "image/png": "[encoded data removed]",
      "text/plain": [
       "<Figure size 432x288 with 1 Axes>"
      ]
     },
     "metadata": {
      "needs_background": "light"
     },
     "output_type": "display_data"
    }
   ],
   "source": [
    "plt.hist(df[df['days_in_waiting_list'] > 0]['days_in_waiting_list'], bins=20)\n",
    "plt.show()"
   ]
  },
  {
   "cell_type": "markdown",
   "metadata": {},
   "source": [
    "- no missing values\n",
    "- the distribution seems normal"
   ]
  },
  {
   "cell_type": "code",
   "execution_count": 91,
   "metadata": {},
   "outputs": [
    {
     "name": "stdout",
     "output_type": "stream",
     "text": [
      "Ratio of values over 130: 0.0034616605729150666\n"
     ]
    }
   ],
   "source": [
    "print('Ratio of values over 130:', len(df[df['days_in_waiting_list'] > 130]) / len(df['days_in_waiting_list']))"
   ]
  },
  {
   "cell_type": "markdown",
   "metadata": {},
   "source": [
    "Not higher then even 1% which means we can drop them"
   ]
  },
  {
   "cell_type": "code",
   "execution_count": 92,
   "metadata": {},
   "outputs": [],
   "source": [
    "df['days_in_waiting_list'] = df['days_in_waiting_list'].mask(df['days_in_waiting_list'] > 130, 0)"
   ]
  },
  {
   "cell_type": "code",
   "execution_count": 93,
   "metadata": {},
   "outputs": [
    {
     "data": {
      "image/png": "[encoded data removed]",
      "text/plain": [
       "<Figure size 432x288 with 1 Axes>"
      ]
     },
     "metadata": {
      "needs_background": "light"
     },
     "output_type": "display_data"
    }
   ],
   "source": [
    "plt.hist(df[df['days_in_waiting_list'] > 0]['days_in_waiting_list'], bins=20)\n",
    "plt.show()"
   ]
  },
  {
   "cell_type": "markdown",
   "metadata": {},
   "source": [
    "# customer_type"
   ]
  },
  {
   "cell_type": "markdown",
   "metadata": {},
   "source": [
    "feature - contract / group / transient / transient-praty"
   ]
  },
  {
   "cell_type": "code",
   "execution_count": 94,
   "metadata": {},
   "outputs": [
    {
     "name": "stdout",
     "output_type": "stream",
     "text": [
      "object\n"
     ]
    }
   ],
   "source": [
    "print(df['customer_type'].dtype)"
   ]
  },
  {
   "cell_type": "code",
   "execution_count": 95,
   "metadata": {},
   "outputs": [
    {
     "name": "stdout",
     "output_type": "stream",
     "text": [
      "['Transient' 'Contract' 'Transient-Party' 'Group']\n"
     ]
    }
   ],
   "source": [
    "print(pd.unique(df['customer_type']))"
   ]
  },
  {
   "cell_type": "code",
   "execution_count": 96,
   "metadata": {},
   "outputs": [],
   "source": [
    "customer_type = pd.get_dummies(df['customer_type'])"
   ]
  },
  {
   "cell_type": "code",
   "execution_count": 97,
   "metadata": {},
   "outputs": [
    {
     "name": "stdout",
     "output_type": "stream",
     "text": [
      "   Contract  Group  Transient  Transient-Party\n",
      "0         0      0          1                0\n",
      "1         0      0          1                0\n",
      "2         0      0          1                0\n",
      "3         0      0          1                0\n",
      "4         0      0          1                0\n"
     ]
    }
   ],
   "source": [
    "print(customer_type.head())"
   ]
  },
  {
   "cell_type": "markdown",
   "metadata": {},
   "source": [
    "- no missing values\n",
    "- ready to merge"
   ]
  },
  {
   "cell_type": "code",
   "execution_count": 98,
   "metadata": {},
   "outputs": [],
   "source": [
    "df = pd.merge(df, customer_type, left_index=True, right_index=True)"
   ]
  },
  {
   "cell_type": "markdown",
   "metadata": {},
   "source": [
    "# required_car_parking_spaces"
   ]
  },
  {
   "cell_type": "markdown",
   "metadata": {},
   "source": [
    "feature - required parking spaces"
   ]
  },
  {
   "cell_type": "code",
   "execution_count": 99,
   "metadata": {},
   "outputs": [
    {
     "name": "stdout",
     "output_type": "stream",
     "text": [
      "int64\n"
     ]
    }
   ],
   "source": [
    "print(df['required_car_parking_spaces'].dtype)"
   ]
  },
  {
   "cell_type": "code",
   "execution_count": 100,
   "metadata": {},
   "outputs": [
    {
     "name": "stdout",
     "output_type": "stream",
     "text": [
      "[0 1 2 3 8]\n"
     ]
    }
   ],
   "source": [
    "print(pd.unique(df['required_car_parking_spaces']))"
   ]
  },
  {
   "cell_type": "code",
   "execution_count": 101,
   "metadata": {},
   "outputs": [
    {
     "name": "stdout",
     "output_type": "stream",
     "text": [
      "0    92482\n",
      "1     5138\n",
      "2       17\n",
      "3        2\n",
      "8        2\n",
      "Name: required_car_parking_spaces, dtype: int64\n"
     ]
    }
   ],
   "source": [
    "print(pd.value_counts(df['required_car_parking_spaces']))"
   ]
  },
  {
   "cell_type": "markdown",
   "metadata": {},
   "source": [
    "- 8 parking spots seems like an outlier"
   ]
  },
  {
   "cell_type": "code",
   "execution_count": 102,
   "metadata": {},
   "outputs": [],
   "source": [
    "df['required_car_parking_spaces'] = df['required_car_parking_spaces'].mask(df['required_car_parking_spaces'] > 1, 1)"
   ]
  },
  {
   "cell_type": "code",
   "execution_count": 103,
   "metadata": {},
   "outputs": [
    {
     "name": "stdout",
     "output_type": "stream",
     "text": [
      "0    92482\n",
      "1     5159\n",
      "Name: required_car_parking_spaces, dtype: int64\n"
     ]
    }
   ],
   "source": [
    "print(pd.value_counts(df['required_car_parking_spaces']))"
   ]
  },
  {
   "cell_type": "markdown",
   "metadata": {},
   "source": [
    "# total_of_special_requests"
   ]
  },
  {
   "cell_type": "markdown",
   "metadata": {},
   "source": [
    "feature - number of special requests"
   ]
  },
  {
   "cell_type": "code",
   "execution_count": 104,
   "metadata": {},
   "outputs": [
    {
     "name": "stdout",
     "output_type": "stream",
     "text": [
      "int64\n"
     ]
    }
   ],
   "source": [
    "print(df['total_of_special_requests'].dtype)"
   ]
  },
  {
   "cell_type": "code",
   "execution_count": 105,
   "metadata": {},
   "outputs": [
    {
     "name": "stdout",
     "output_type": "stream",
     "text": [
      "[0 1 3 2 4 5]\n"
     ]
    }
   ],
   "source": [
    "print(pd.unique(df['total_of_special_requests']))"
   ]
  },
  {
   "cell_type": "markdown",
   "metadata": {},
   "source": [
    "- no missing values\n",
    "- ready to merge"
   ]
  },
  {
   "cell_type": "markdown",
   "metadata": {},
   "source": [
    "# total_nights"
   ]
  },
  {
   "cell_type": "markdown",
   "metadata": {},
   "source": [
    "feature - total number of nights"
   ]
  },
  {
   "cell_type": "code",
   "execution_count": 106,
   "metadata": {},
   "outputs": [
    {
     "name": "stdout",
     "output_type": "stream",
     "text": [
      "int64\n"
     ]
    }
   ],
   "source": [
    "print(df['total_nights'].dtype)"
   ]
  },
  {
   "cell_type": "code",
   "execution_count": 107,
   "metadata": {},
   "outputs": [
    {
     "name": "stdout",
     "output_type": "stream",
     "text": [
      "[ 1  2  3  4  6  7  5  8 10  9]\n"
     ]
    }
   ],
   "source": [
    "print(pd.unique(df['total_nights']))"
   ]
  },
  {
   "cell_type": "markdown",
   "metadata": {},
   "source": [
    "- no missing values\n",
    "- ready to merge"
   ]
  },
  {
   "cell_type": "markdown",
   "metadata": {},
   "source": [
    "# BUSINESS"
   ]
  },
  {
   "cell_type": "markdown",
   "metadata": {},
   "source": [
    "What is the income without deposits?"
   ]
  },
  {
   "cell_type": "markdown",
   "metadata": {},
   "source": [
    "People who showed up and payed vs people who didn't show up"
   ]
  },
  {
   "cell_type": "markdown",
   "metadata": {},
   "source": [
    "price factors:\n",
    "- showed up\n",
    "- season\n",
    "- room type\n",
    "- duration of the stay"
   ]
  },
  {
   "cell_type": "code",
   "execution_count": 110,
   "metadata": {},
   "outputs": [],
   "source": [
    "df_business = df_train_raw[['is_canceled', 'arrival_date_month', 'arrival_date_year', 'reserved_room_type', 'total_nights']]"
   ]
  },
  {
   "cell_type": "code",
   "execution_count": 111,
   "metadata": {},
   "outputs": [
    {
     "name": "stdout",
     "output_type": "stream",
     "text": [
      "[0 1]\n"
     ]
    }
   ],
   "source": [
    "print(pd.unique(df_business['is_canceled']))"
   ]
  },
  {
   "cell_type": "code",
   "execution_count": 112,
   "metadata": {},
   "outputs": [
    {
     "name": "stdout",
     "output_type": "stream",
     "text": [
      "['July' 'August' 'September' 'October' 'November' 'December' 'January'\n",
      " 'February' 'March' 'April' 'May' 'June']\n"
     ]
    }
   ],
   "source": [
    "print(pd.unique(df_business['arrival_date_month']))"
   ]
  },
  {
   "cell_type": "code",
   "execution_count": 113,
   "metadata": {},
   "outputs": [
    {
     "name": "stdout",
     "output_type": "stream",
     "text": [
      "[2015 2016]\n"
     ]
    }
   ],
   "source": [
    "print(pd.unique(df_business['arrival_date_year']))"
   ]
  },
  {
   "cell_type": "code",
   "execution_count": 114,
   "metadata": {},
   "outputs": [
    {
     "name": "stdout",
     "output_type": "stream",
     "text": [
      "['A               ' 'C               ' 'D               '\n",
      " 'E               ' 'G               ' 'F               '\n",
      " 'B               ']\n"
     ]
    }
   ],
   "source": [
    "print(pd.unique(df_business['reserved_room_type']))"
   ]
  },
  {
   "cell_type": "code",
   "execution_count": 115,
   "metadata": {},
   "outputs": [
    {
     "name": "stderr",
     "output_type": "stream",
     "text": [
      "/tmp/ipykernel_227/1553549690.py:1: SettingWithCopyWarning: \n",
      "A value is trying to be set on a copy of a slice from a DataFrame.\n",
      "Try using .loc[row_indexer,col_indexer] = value instead\n",
      "\n",
      "See the caveats in the documentation: https://pandas.pydata.org/pandas-docs/stable/user_guide/indexing.html#returning-a-view-versus-a-copy\n",
      "  df_business['reserved_room_type'] = df_business['reserved_room_type'].str.strip()\n"
     ]
    }
   ],
   "source": [
    "df_business['reserved_room_type'] = df_business['reserved_room_type'].str.strip()"
   ]
  },
  {
   "cell_type": "code",
   "execution_count": 116,
   "metadata": {},
   "outputs": [
    {
     "name": "stdout",
     "output_type": "stream",
     "text": [
      "['A' 'C' 'D' 'E' 'G' 'F' 'B']\n"
     ]
    }
   ],
   "source": [
    "print(pd.unique(df_business['reserved_room_type']))"
   ]
  },
  {
   "cell_type": "code",
   "execution_count": 117,
   "metadata": {},
   "outputs": [
    {
     "name": "stdout",
     "output_type": "stream",
     "text": [
      "[ 1  2  3  4  6  7  5  8 10  9]\n"
     ]
    }
   ],
   "source": [
    "print(pd.unique(df_business['total_nights']))"
   ]
  },
  {
   "cell_type": "code",
   "execution_count": 118,
   "metadata": {},
   "outputs": [],
   "source": [
    "price_room_type = {\n",
    "  'A':1000,\n",
    "  'B':800,\n",
    "  'C':600,\n",
    "  'D':550,\n",
    "  'E':500,\n",
    "  'F':450,\n",
    "  'G':350\n",
    "}\n",
    "price_cleaning_room_type = {\n",
    "  'A':400,\n",
    "  'B':350,\n",
    "  'C':350,\n",
    "  'D':150,\n",
    "  'E':150,\n",
    "  'F':150,\n",
    "  'G':150\n",
    "}"
   ]
  },
  {
   "cell_type": "code",
   "execution_count": 119,
   "metadata": {},
   "outputs": [],
   "source": [
    "price_multiplier_month = {\n",
    "  'July': 1.4,\n",
    "  'August': 1.4,\n",
    "  'September': 1.2,\n",
    "  'October': 1.2,\n",
    "  'November': 1.2,\n",
    "  'December': 1.0,\n",
    "  'January': 1.0,\n",
    "  'February': 1.0,\n",
    "  'March': 1.2,\n",
    "  'April': 1.2,\n",
    "  'May': 1.2,\n",
    "  'June': 1.4\n",
    "}"
   ]
  },
  {
   "cell_type": "code",
   "execution_count": 120,
   "metadata": {},
   "outputs": [],
   "source": [
    "def calculate_income(row):\n",
    "    room_type = row['reserved_room_type']\n",
    "    month = row['arrival_date_month']\n",
    "    n_nights = row['total_nights']\n",
    "    price_room = price_room_type[room_type]\n",
    "    price_cleaning_room = price_cleaning_room_type[room_type]\n",
    "    season_coefficient = price_multiplier_month[month]\n",
    "    if (row['is_canceled'] == 1):\n",
    "        if ('predicted' in list(row.index) and row['predicted'] == 1):\n",
    "            # 80% of money will be saved, by customer loosing his deposit\n",
    "            return (price_room + price_cleaning_room) * season_coefficient * -1 * 0.2\n",
    "        return (price_room + price_cleaning_room) * season_coefficient * -1\n",
    "    return ((price_room * n_nights) - (price_cleaning_room * (1 + n_nights // 2))) * season_coefficient\n",
    "  "
   ]
  },
  {
   "cell_type": "code",
   "execution_count": 121,
   "metadata": {},
   "outputs": [],
   "source": [
    "pd.options.mode.chained_assignment = None"
   ]
  },
  {
   "cell_type": "code",
   "execution_count": 122,
   "metadata": {},
   "outputs": [],
   "source": [
    "df_business['costs'] = df_business.apply(lambda row: calculate_income(row), axis=1)"
   ]
  },
  {
   "cell_type": "code",
   "execution_count": 123,
   "metadata": {},
   "outputs": [
    {
     "name": "stdout",
     "output_type": "stream",
     "text": [
      "   is_canceled arrival_date_month  arrival_date_year reserved_room_type  \\\n",
      "0            0               July               2015                  A   \n",
      "1            0               July               2015                  A   \n",
      "2            0               July               2015                  C   \n",
      "3            0               July               2015                  C   \n",
      "4            1               July               2015                  A   \n",
      "5            1               July               2015                  D   \n",
      "6            1               July               2015                  E   \n",
      "7            0               July               2015                  G   \n",
      "8            0               July               2015                  D   \n",
      "9            0               July               2015                  E   \n",
      "\n",
      "   total_nights   costs  \n",
      "0             1   840.0  \n",
      "1             2  1680.0  \n",
      "2             2   700.0  \n",
      "3             2   700.0  \n",
      "4             3 -1960.0  \n",
      "5             3  -980.0  \n",
      "6             4  -910.0  \n",
      "7             4  1330.0  \n",
      "8             4  2450.0  \n",
      "9             4  2170.0  \n"
     ]
    }
   ],
   "source": [
    "print(df_business.head(10))"
   ]
  },
  {
   "cell_type": "code",
   "execution_count": 124,
   "metadata": {},
   "outputs": [],
   "source": [
    "df_business_monthly = df_business[['arrival_date_month', 'arrival_date_year', 'costs']]"
   ]
  },
  {
   "cell_type": "code",
   "execution_count": 125,
   "metadata": {},
   "outputs": [
    {
     "name": "stdout",
     "output_type": "stream",
     "text": [
      "                                          costs\n",
      "arrival_date_year arrival_date_month           \n",
      "2015              August              2359070.0\n",
      "                  December            1729200.0\n",
      "                  July                1089760.0\n",
      "                  November            2704860.0\n",
      "                  October             3827520.0\n",
      "                  September           3056940.0\n",
      "2016              April               3624300.0\n",
      "                  August              4771130.0\n",
      "                  December            2478050.0\n",
      "                  February            2002800.0\n",
      "                  January             1412100.0\n",
      "                  July                5076960.0\n",
      "                  June                3661980.0\n",
      "                  March               4537860.0\n",
      "                  May                 4227120.0\n",
      "                  November            3381900.0\n",
      "                  October             3620460.0\n",
      "                  September           3898680.0\n"
     ]
    }
   ],
   "source": [
    "print(df_business_monthly.groupby(['arrival_date_year', 'arrival_date_month']).sum())"
   ]
  },
  {
   "cell_type": "code",
   "execution_count": 126,
   "metadata": {},
   "outputs": [
    {
     "data": {
      "image/png": "[encoded data removed]",
      "text/plain": [
       "<Figure size 432x288 with 1 Axes>"
      ]
     },
     "metadata": {
      "needs_background": "light"
     },
     "output_type": "display_data"
    }
   ],
   "source": [
    "df_business_monthly.groupby(['arrival_date_year', 'arrival_date_month']).count().unstack('arrival_date_year').plot.bar()\n",
    "plt.show()"
   ]
  },
  {
   "cell_type": "markdown",
   "metadata": {},
   "source": [
    "# df_train df_test"
   ]
  },
  {
   "cell_type": "code",
   "execution_count": 127,
   "metadata": {},
   "outputs": [],
   "source": [
    "df_train = df[df['is_train'] == 1]\n",
    "df_test =  df[df['is_train'] == 0]"
   ]
  },
  {
   "cell_type": "code",
   "execution_count": 128,
   "metadata": {},
   "outputs": [],
   "source": [
    "df_train = df_train.reset_index(drop=True)\n",
    "df_test = df_test.reset_index(drop=True)"
   ]
  },
  {
   "cell_type": "code",
   "execution_count": 129,
   "metadata": {},
   "outputs": [],
   "source": [
    "df_train = df_train.drop(['is_train'], axis=1)\n",
    "df_test = df_test.drop(['is_train'], axis=1)"
   ]
  },
  {
   "cell_type": "code",
   "execution_count": 130,
   "metadata": {},
   "outputs": [],
   "source": [
    "not_feature_columns = ['id', \n",
    "                   'total_nights',\n",
    "                   'is_canceled', \n",
    "                   'arrival_date_month', \n",
    "                   'arrival_date_year',\n",
    "                   'meal',  \n",
    "                   'distribution_channel', \n",
    "                   'reserved_room_type', \n",
    "                   'customer_type']\n",
    "\n",
    "df_train_features = df_train.drop(not_feature_columns, axis=1)\n",
    "\n",
    "df_train_target = df_train['is_canceled']\n",
    "\n",
    "df_test_features = df_test.drop(not_feature_columns, axis=1)"
   ]
  },
  {
   "cell_type": "code",
   "execution_count": 131,
   "metadata": {},
   "outputs": [
    {
     "name": "stdout",
     "output_type": "stream",
     "text": [
      "47\n"
     ]
    }
   ],
   "source": [
    "print(df_train_features.columns.size)"
   ]
  },
  {
   "cell_type": "code",
   "execution_count": 132,
   "metadata": {},
   "outputs": [
    {
     "name": "stdout",
     "output_type": "stream",
     "text": [
      "47\n"
     ]
    }
   ],
   "source": [
    "print(df_test_features.columns.size)"
   ]
  },
  {
   "cell_type": "code",
   "execution_count": 133,
   "metadata": {},
   "outputs": [
    {
     "name": "stdout",
     "output_type": "stream",
     "text": [
      "21618\n"
     ]
    }
   ],
   "source": [
    "print(df_train_features.duplicated().sum())"
   ]
  },
  {
   "cell_type": "code",
   "execution_count": 134,
   "metadata": {},
   "outputs": [
    {
     "name": "stdout",
     "output_type": "stream",
     "text": [
      "7816\n"
     ]
    }
   ],
   "source": [
    "print(df_test_features.duplicated().sum())"
   ]
  },
  {
   "cell_type": "markdown",
   "metadata": {},
   "source": [
    "# MODEL"
   ]
  },
  {
   "cell_type": "code",
   "execution_count": 135,
   "metadata": {},
   "outputs": [],
   "source": [
    "scaler = StandardScaler()\n",
    "df_train_features = scaler.fit_transform(df_train_features)"
   ]
  },
  {
   "cell_type": "code",
   "execution_count": 136,
   "metadata": {},
   "outputs": [
    {
     "name": "stdout",
     "output_type": "stream",
     "text": [
      "Depth: 1\n",
      "Recall: 0.06326088360671552\n",
      "Depth: 2\n",
      "Recall: 0.2079244929158404\n",
      "Depth: 3\n",
      "Recall: 0.5469228853664437\n",
      "Depth: 4\n",
      "Recall: 0.4918567012883807\n",
      "Depth: 5\n",
      "Recall: 0.45438137534099093\n",
      "Depth: 6\n",
      "Recall: 0.5029954025897129\n",
      "Depth: 7\n",
      "Recall: 0.5099014702480905\n"
     ]
    }
   ],
   "source": [
    "tree_depths = range(1, 8)\n",
    "for tree_depth in tree_depths:\n",
    "    model = DecisionTreeClassifier(max_depth=tree_depth, random_state=12345)\n",
    "    scores = cross_val_score(model, df_train_features, df_train_target, scoring='recall', cv=6)\n",
    "    print('Depth:', tree_depth)\n",
    "    print('Recall:', sum(scores) / len(scores))\n",
    "  "
   ]
  },
  {
   "cell_type": "code",
   "execution_count": 137,
   "metadata": {},
   "outputs": [
    {
     "name": "stdout",
     "output_type": "stream",
     "text": [
      "tree_count 10\n",
      "best tree depth 6\n",
      "best recall 0.4197388539616549\n",
      "tree_count 20\n",
      "best tree depth 7\n",
      "best recall 0.43999375427665594\n",
      "tree_count 30\n",
      "best tree depth 7\n",
      "best recall 0.43978530751490946\n"
     ]
    }
   ],
   "source": [
    "tree_counts = range(10, 40, 10)\n",
    "tree_depths = range(1, 8)\n",
    "for tree_count in tree_counts:\n",
    "    print('tree_count', tree_count)\n",
    "    current_scores = []\n",
    "    for tree_depth in tree_depths:\n",
    "        model = RandomForestClassifier(n_estimators=tree_count, max_depth=tree_depth, random_state=12345)\n",
    "        scores = cross_val_score(model, df_train_features, df_train_target, scoring='recall', cv=6)\n",
    "        current_scores.append(sum(scores) / len(scores))\n",
    "    max_score = max(current_scores)\n",
    "    max_score_index = current_scores.index(max_score)\n",
    "    print('best tree depth', max_score_index + 1)\n",
    "    print('best recall', max_score)"
   ]
  },
  {
   "cell_type": "code",
   "execution_count": 138,
   "metadata": {},
   "outputs": [
    {
     "name": "stdout",
     "output_type": "stream",
     "text": [
      "LogisticRegression score 0.45513765124272715\n"
     ]
    }
   ],
   "source": [
    "model = LogisticRegression(solver='liblinear', random_state=12345)\n",
    "scores = cross_val_score(model, df_train_features, df_train_target, scoring='recall', cv=6)\n",
    "print('LogisticRegression score', sum(scores) / len(scores))"
   ]
  },
  {
   "cell_type": "code",
   "execution_count": 139,
   "metadata": {},
   "outputs": [],
   "source": [
    "model.fit(df_train_features, df_train_target)\n",
    "importance = model.coef_[0]"
   ]
  },
  {
   "cell_type": "code",
   "execution_count": 140,
   "metadata": {},
   "outputs": [
    {
     "name": "stdout",
     "output_type": "stream",
     "text": [
      "Feature: 0, Score: 0.57117\n",
      "Feature: 8, Score: 0.67715\n",
      "Feature: 10, Score: 2.51090\n",
      "Feature: 11, Score: -0.78679\n",
      "Feature: 14, Score: -5.73453\n",
      "Feature: 15, Score: -0.62991\n"
     ]
    },
    {
     "data": {
      "image/png": "[encoded data removed]",
      "text/plain": [
       "<Figure size 432x288 with 1 Axes>"
      ]
     },
     "metadata": {
      "needs_background": "light"
     },
     "output_type": "display_data"
    }
   ],
   "source": [
    "for i,j in enumerate(importance):\n",
    "    if (abs(j) > 0.5):\n",
    "        print('Feature: %0d, Score: %.5f' % (i,j))\n",
    "\n",
    "plt.bar([X for X in range(len(importance))], importance)\n",
    "plt.show()"
   ]
  },
  {
   "cell_type": "code",
   "execution_count": 141,
   "metadata": {},
   "outputs": [
    {
     "name": "stdout",
     "output_type": "stream",
     "text": [
      "lead_time\n",
      "country\n",
      "previous_cancellations\n",
      "previous_bookings_not_canceled\n",
      "required_car_parking_spaces\n",
      "total_of_special_requests\n"
     ]
    }
   ],
   "source": [
    "features = df_train.drop(not_feature_columns, axis=1).columns\n",
    "important_features = [0,8,10,11,14,15]\n",
    "for i in important_features:\n",
    "    print(features[i])"
   ]
  },
  {
   "cell_type": "markdown",
   "metadata": {},
   "source": [
    "<div style=\"background:aqua; padding:2rem;\">\n",
    "    the best model is DecisionTreeClassifier(max_depth=3, random_state=12345)\n",
    "</div>"
   ]
  },
  {
   "cell_type": "markdown",
   "metadata": {},
   "source": [
    "<div style=\"background:aqua; padding:2rem;\">\n",
    "    look at those features in final reflection\n",
    "</div>"
   ]
  },
  {
   "cell_type": "code",
   "execution_count": 142,
   "metadata": {},
   "outputs": [],
   "source": [
    "model_tree = DecisionTreeClassifier(max_depth=3, random_state=12345)\n",
    "model_tree.fit(df_train_features, df_train_target)\n",
    "series_predicted = model_tree.predict(df_train_features)"
   ]
  },
  {
   "cell_type": "code",
   "execution_count": 143,
   "metadata": {},
   "outputs": [],
   "source": [
    "df_business['predicted'] = series_predicted"
   ]
  },
  {
   "cell_type": "code",
   "execution_count": 144,
   "metadata": {},
   "outputs": [],
   "source": [
    "df_business['model_costs'] = df_business.apply(lambda row: calculate_income(row), axis=1)"
   ]
  },
  {
   "cell_type": "markdown",
   "metadata": {},
   "source": [
    "Lets look at year 2016 and find how much money we have saved"
   ]
  },
  {
   "cell_type": "code",
   "execution_count": 145,
   "metadata": {},
   "outputs": [],
   "source": [
    "df_business_2016 = df_business[df_business['arrival_date_year'] == 2016]"
   ]
  },
  {
   "cell_type": "code",
   "execution_count": 146,
   "metadata": {},
   "outputs": [
    {
     "name": "stdout",
     "output_type": "stream",
     "text": [
      "DecisionTreeClassifier\n",
      "2016 raw revenue: 42693340.0\n",
      "2016 model revenue: 54163308.0\n",
      "Percentage increase: 127%\n",
      "Money saved: 11469968.0\n"
     ]
    }
   ],
   "source": [
    "total_revenue_2016 = df_business_2016['costs'].sum()\n",
    "total_revenue_2016_with_model = df_business_2016['model_costs'].sum()  - 400000\n",
    "\n",
    "print('DecisionTreeClassifier')\n",
    "print('2016 raw revenue:', total_revenue_2016)\n",
    "print('2016 model revenue:', total_revenue_2016_with_model)\n",
    "print('Percentage increase: {:0.0f}%'.format(total_revenue_2016_with_model / total_revenue_2016 * 100))\n",
    "print('Money saved:', total_revenue_2016_with_model - total_revenue_2016)"
   ]
  },
  {
   "cell_type": "code",
   "execution_count": 147,
   "metadata": {},
   "outputs": [],
   "source": [
    "model_forest = RandomForestClassifier(n_estimators=20, max_depth=7, random_state=12345)\n",
    "model_forest.fit(df_train_features, df_train_target)\n",
    "series_predicted = model_forest.predict(df_train_features)"
   ]
  },
  {
   "cell_type": "code",
   "execution_count": 148,
   "metadata": {},
   "outputs": [],
   "source": [
    "df_business['predicted'] = series_predicted"
   ]
  },
  {
   "cell_type": "code",
   "execution_count": 149,
   "metadata": {},
   "outputs": [],
   "source": [
    "df_business['model_costs'] = df_business.apply(lambda row: calculate_income(row), axis=1)"
   ]
  },
  {
   "cell_type": "code",
   "execution_count": 150,
   "metadata": {},
   "outputs": [],
   "source": [
    "df_business_2016 = df_business[df_business['arrival_date_year'] == 2016]"
   ]
  },
  {
   "cell_type": "code",
   "execution_count": 151,
   "metadata": {},
   "outputs": [
    {
     "name": "stdout",
     "output_type": "stream",
     "text": [
      "RandomForestClassifier\n",
      "2016 raw revenue: 42693340.0\n",
      "2016 model revenue: 52507572.0\n",
      "Percentage increase: 123%\n",
      "Money saved: 9814232.0\n"
     ]
    }
   ],
   "source": [
    "total_revenue_2016 = df_business_2016['costs'].sum()\n",
    "total_revenue_2016_with_model = df_business_2016['model_costs'].sum() - 400000\n",
    "\n",
    "print('RandomForestClassifier')\n",
    "print('2016 raw revenue:', total_revenue_2016)\n",
    "print('2016 model revenue:', total_revenue_2016_with_model)\n",
    "print('Percentage increase: {:0.0f}%'.format(total_revenue_2016_with_model / total_revenue_2016 * 100))\n",
    "print('Money saved:', total_revenue_2016_with_model - total_revenue_2016)"
   ]
  },
  {
   "cell_type": "markdown",
   "metadata": {},
   "source": [
    "# TEST DATA"
   ]
  },
  {
   "cell_type": "code",
   "execution_count": 152,
   "metadata": {},
   "outputs": [],
   "source": [
    "# no need for a year, because its all 2017\n",
    "df_business_2017 = df_test_raw[['is_canceled', 'arrival_date_month', 'reserved_room_type', 'total_nights']]"
   ]
  },
  {
   "cell_type": "code",
   "execution_count": 153,
   "metadata": {},
   "outputs": [
    {
     "name": "stdout",
     "output_type": "stream",
     "text": [
      "['January' 'February' 'March' 'April' 'May' 'June' 'July' 'August']\n"
     ]
    }
   ],
   "source": [
    "print(pd.unique(df_business_2017['arrival_date_month']))"
   ]
  },
  {
   "cell_type": "code",
   "execution_count": 154,
   "metadata": {},
   "outputs": [
    {
     "name": "stdout",
     "output_type": "stream",
     "text": [
      "['A               ' 'E               ' 'G               '\n",
      " 'D               ' 'F               ' 'C               '\n",
      " 'B               ']\n"
     ]
    }
   ],
   "source": [
    "print(pd.unique(df_business_2017['reserved_room_type']))"
   ]
  },
  {
   "cell_type": "code",
   "execution_count": 155,
   "metadata": {},
   "outputs": [],
   "source": [
    "df_business_2017['reserved_room_type'] = df_business_2017['reserved_room_type'].str.strip()"
   ]
  },
  {
   "cell_type": "code",
   "execution_count": 156,
   "metadata": {},
   "outputs": [
    {
     "name": "stdout",
     "output_type": "stream",
     "text": [
      "['A' 'E' 'G' 'D' 'F' 'C' 'B']\n"
     ]
    }
   ],
   "source": [
    "print(pd.unique(df_business_2017['reserved_room_type']))"
   ]
  },
  {
   "cell_type": "code",
   "execution_count": 157,
   "metadata": {},
   "outputs": [],
   "source": [
    "df_business_2017['costs'] = df_business_2017.apply(lambda row: calculate_income(row), axis=1)"
   ]
  },
  {
   "cell_type": "code",
   "execution_count": 158,
   "metadata": {},
   "outputs": [],
   "source": [
    "scaler = StandardScaler()\n",
    "df_test_features = scaler.fit_transform(df_test_features)"
   ]
  },
  {
   "cell_type": "code",
   "execution_count": 159,
   "metadata": {},
   "outputs": [],
   "source": [
    "series_predicted_2017 = model_tree.predict(df_test_features)"
   ]
  },
  {
   "cell_type": "code",
   "execution_count": 160,
   "metadata": {},
   "outputs": [
    {
     "name": "stdout",
     "output_type": "stream",
     "text": [
      "7476\n"
     ]
    }
   ],
   "source": [
    "print(series_predicted_2017.sum())"
   ]
  },
  {
   "cell_type": "code",
   "execution_count": 161,
   "metadata": {},
   "outputs": [],
   "source": [
    "df_business_2017['predicted'] = series_predicted_2017"
   ]
  },
  {
   "cell_type": "code",
   "execution_count": 162,
   "metadata": {},
   "outputs": [],
   "source": [
    "df_business_2017['model_costs'] = df_business_2017.apply(lambda row: calculate_income(row), axis=1)"
   ]
  },
  {
   "cell_type": "code",
   "execution_count": 164,
   "metadata": {},
   "outputs": [
    {
     "name": "stdout",
     "output_type": "stream",
     "text": [
      "2017 raw revenue: 28257360.0\n",
      "2017 model revenue: 34907088.0\n",
      "Percentage increase: 124%\n",
      "Money saved: 6649728.0\n"
     ]
    }
   ],
   "source": [
    "total_revenue_2017 = df_business_2017['costs'].sum()\n",
    "total_revenue_2017_with_model = df_business_2017['model_costs'].sum() - 400000\n",
    "\n",
    "print('2017 raw revenue:', total_revenue_2017)\n",
    "print('2017 model revenue:', total_revenue_2017_with_model)\n",
    "print('Percentage increase: {:0.0f}%'.format(total_revenue_2017_with_model / total_revenue_2017 * 100))\n",
    "print('Money saved:', total_revenue_2017_with_model - total_revenue_2017)"
   ]
  },
  {
   "cell_type": "markdown",
   "metadata": {},
   "source": [
    "# Guest that is likely to loose money"
   ]
  },
  {
   "cell_type": "code",
   "execution_count": 165,
   "metadata": {},
   "outputs": [],
   "source": [
    "df_train_features = df_train.drop(\n",
    "  ['id', 'is_canceled', 'arrival_date_month', 'arrival_date_year', 'meal', 'country', 'distribution_channel', 'reserved_room_type', 'customer_type'], axis=1)"
   ]
  },
  {
   "cell_type": "code",
   "execution_count": 166,
   "metadata": {},
   "outputs": [],
   "source": [
    "series_predicted = model_tree.predict(df_train_features)\n",
    "df_bad_visitor = df_train_features.copy()\n",
    "df_bad_visitor['predicted'] = series_predicted"
   ]
  },
  {
   "cell_type": "code",
   "execution_count": 167,
   "metadata": {},
   "outputs": [],
   "source": [
    "# df_bad_visitor = df_bad_visitor[df_bad_visitor['predicted'] == 1]"
   ]
  },
  {
   "cell_type": "code",
   "execution_count": 168,
   "metadata": {},
   "outputs": [
    {
     "name": "stdout",
     "output_type": "stream",
     "text": [
      "Index(['lead_time', 'arrival_date_week_number', 'arrival_date_day_of_month',\n",
      "       'stays_in_weekend_nights', 'stays_in_week_nights', 'adults', 'children',\n",
      "       'babies', 'is_repeated_guest', 'previous_cancellations',\n",
      "       'previous_bookings_not_canceled', 'booking_changes',\n",
      "       'days_in_waiting_list', 'required_car_parking_spaces',\n",
      "       'total_of_special_requests', 'total_nights', 'April', 'August',\n",
      "       'December', 'February', 'January', 'July', 'June', 'March', 'May',\n",
      "       'November', 'October', 'September', 'BB', 'FB', 'HB', 'SC', 'Corporate',\n",
      "       'Direct', 'GDS', 'TA/TO', 'A', 'B', 'C', 'D', 'E', 'F', 'G', 'Contract',\n",
      "       'Group', 'Transient', 'Transient-Party'],\n",
      "      dtype='object')\n"
     ]
    }
   ],
   "source": [
    "print(df_train_features.columns)"
   ]
  },
  {
   "cell_type": "markdown",
   "metadata": {},
   "source": [
    "lead_time\n",
    "country\n",
    "previous_cancellations\n",
    "previous_bookings_not_canceled\n",
    "required_car_parking_spaces\n",
    "total_of_special_requests"
   ]
  },
  {
   "cell_type": "code",
   "execution_count": 169,
   "metadata": {},
   "outputs": [
    {
     "data": {
      "text/html": [
       "<div>\n",
       "<style scoped>\n",
       "    .dataframe tbody tr th:only-of-type {\n",
       "        vertical-align: middle;\n",
       "    }\n",
       "\n",
       "    .dataframe tbody tr th {\n",
       "        vertical-align: top;\n",
       "    }\n",
       "\n",
       "    .dataframe thead th {\n",
       "        text-align: right;\n",
       "    }\n",
       "</style>\n",
       "<table border=\"1\" class=\"dataframe\">\n",
       "  <thead>\n",
       "    <tr style=\"text-align: right;\">\n",
       "      <th></th>\n",
       "      <th>lead_time</th>\n",
       "      <th>previous_cancellations</th>\n",
       "      <th>previous_bookings_not_canceled</th>\n",
       "      <th>required_car_parking_spaces</th>\n",
       "      <th>total_of_special_requests</th>\n",
       "    </tr>\n",
       "    <tr>\n",
       "      <th>predicted</th>\n",
       "      <th></th>\n",
       "      <th></th>\n",
       "      <th></th>\n",
       "      <th></th>\n",
       "      <th></th>\n",
       "    </tr>\n",
       "  </thead>\n",
       "  <tbody>\n",
       "    <tr>\n",
       "      <th>0</th>\n",
       "      <td>97.691557</td>\n",
       "      <td>0.112015</td>\n",
       "      <td>0.010674</td>\n",
       "      <td>0.053955</td>\n",
       "      <td>0.518245</td>\n",
       "    </tr>\n",
       "    <tr>\n",
       "      <th>1</th>\n",
       "      <td>51.170706</td>\n",
       "      <td>0.692835</td>\n",
       "      <td>3.345627</td>\n",
       "      <td>0.139621</td>\n",
       "      <td>0.329821</td>\n",
       "    </tr>\n",
       "  </tbody>\n",
       "</table>\n",
       "</div>"
      ],
      "text/plain": [
       "           lead_time  previous_cancellations  previous_bookings_not_canceled  \\\n",
       "predicted                                                                      \n",
       "0          97.691557                0.112015                        0.010674   \n",
       "1          51.170706                0.692835                        3.345627   \n",
       "\n",
       "           required_car_parking_spaces  total_of_special_requests  \n",
       "predicted                                                          \n",
       "0                             0.053955                   0.518245  \n",
       "1                             0.139621                   0.329821  "
      ]
     },
     "execution_count": 169,
     "metadata": {},
     "output_type": "execute_result"
    }
   ],
   "source": [
    "df_bad_visitor[['predicted',\n",
    "               'lead_time',\n",
    "               'previous_cancellations',\n",
    "               'previous_bookings_not_canceled',\n",
    "               'required_car_parking_spaces',\n",
    "               'total_of_special_requests']].groupby(['predicted']).mean()"
   ]
  },
  {
   "cell_type": "markdown",
   "metadata": {},
   "source": [
    "# CONCLUSION"
   ]
  }
 ],
 "metadata": {
  "ExecuteTimeLog": [
   {
    "duration": 1531,
    "start_time": "2022-06-29T23:04:00.969Z"
   },
   {
    "duration": 3,
    "start_time": "2022-06-29T23:04:02.502Z"
   },
   {
    "duration": 968,
    "start_time": "2022-06-29T23:04:02.506Z"
   },
   {
    "duration": 3,
    "start_time": "2022-06-29T23:04:03.476Z"
   },
   {
    "duration": 11,
    "start_time": "2022-06-29T23:04:03.480Z"
   },
   {
    "duration": 63,
    "start_time": "2022-06-29T23:04:03.493Z"
   },
   {
    "duration": 3,
    "start_time": "2022-06-29T23:04:03.558Z"
   },
   {
    "duration": 8,
    "start_time": "2022-06-29T23:04:03.563Z"
   },
   {
    "duration": 6,
    "start_time": "2022-06-29T23:04:03.572Z"
   },
   {
    "duration": 5,
    "start_time": "2022-06-29T23:04:03.581Z"
   },
   {
    "duration": 6,
    "start_time": "2022-06-29T23:04:03.587Z"
   },
   {
    "duration": 82,
    "start_time": "2022-06-29T23:04:03.595Z"
   },
   {
    "duration": 4,
    "start_time": "2022-06-29T23:04:03.679Z"
   },
   {
    "duration": 10,
    "start_time": "2022-06-29T23:04:03.685Z"
   },
   {
    "duration": 13,
    "start_time": "2022-06-29T23:04:03.697Z"
   },
   {
    "duration": 205,
    "start_time": "2022-06-29T23:04:03.712Z"
   },
   {
    "duration": 157,
    "start_time": "2022-06-29T23:04:03.928Z"
   },
   {
    "duration": 3,
    "start_time": "2022-06-29T23:04:04.087Z"
   },
   {
    "duration": 6,
    "start_time": "2022-06-29T23:04:04.092Z"
   },
   {
    "duration": 4,
    "start_time": "2022-06-29T23:04:04.100Z"
   },
   {
    "duration": 27,
    "start_time": "2022-06-29T23:04:04.105Z"
   },
   {
    "duration": 8,
    "start_time": "2022-06-29T23:04:04.134Z"
   },
   {
    "duration": 6,
    "start_time": "2022-06-29T23:04:04.143Z"
   },
   {
    "duration": 14,
    "start_time": "2022-06-29T23:04:04.150Z"
   },
   {
    "duration": 4,
    "start_time": "2022-06-29T23:04:04.165Z"
   },
   {
    "duration": 152,
    "start_time": "2022-06-29T23:04:04.170Z"
   },
   {
    "duration": 3,
    "start_time": "2022-06-29T23:04:04.328Z"
   },
   {
    "duration": 139,
    "start_time": "2022-06-29T23:04:04.334Z"
   },
   {
    "duration": 3,
    "start_time": "2022-06-29T23:04:04.474Z"
   },
   {
    "duration": 9,
    "start_time": "2022-06-29T23:04:04.479Z"
   },
   {
    "duration": 193,
    "start_time": "2022-06-29T23:04:04.490Z"
   },
   {
    "duration": 3,
    "start_time": "2022-06-29T23:04:04.685Z"
   },
   {
    "duration": 6,
    "start_time": "2022-06-29T23:04:04.690Z"
   },
   {
    "duration": 123,
    "start_time": "2022-06-29T23:04:04.697Z"
   },
   {
    "duration": 8,
    "start_time": "2022-06-29T23:04:04.821Z"
   },
   {
    "duration": 6,
    "start_time": "2022-06-29T23:04:04.831Z"
   },
   {
    "duration": 4,
    "start_time": "2022-06-29T23:04:04.838Z"
   },
   {
    "duration": 125,
    "start_time": "2022-06-29T23:04:04.843Z"
   },
   {
    "duration": 3,
    "start_time": "2022-06-29T23:04:04.969Z"
   },
   {
    "duration": 9,
    "start_time": "2022-06-29T23:04:04.973Z"
   },
   {
    "duration": 8,
    "start_time": "2022-06-29T23:04:04.983Z"
   },
   {
    "duration": 110,
    "start_time": "2022-06-29T23:04:04.993Z"
   },
   {
    "duration": 3,
    "start_time": "2022-06-29T23:04:05.105Z"
   },
   {
    "duration": 19,
    "start_time": "2022-06-29T23:04:05.110Z"
   },
   {
    "duration": 4,
    "start_time": "2022-06-29T23:04:05.130Z"
   },
   {
    "duration": 8,
    "start_time": "2022-06-29T23:04:05.136Z"
   },
   {
    "duration": 4,
    "start_time": "2022-06-29T23:04:05.145Z"
   },
   {
    "duration": 4,
    "start_time": "2022-06-29T23:04:05.150Z"
   },
   {
    "duration": 6,
    "start_time": "2022-06-29T23:04:05.156Z"
   },
   {
    "duration": 7,
    "start_time": "2022-06-29T23:04:05.164Z"
   },
   {
    "duration": 13,
    "start_time": "2022-06-29T23:04:05.172Z"
   },
   {
    "duration": 52,
    "start_time": "2022-06-29T23:04:05.187Z"
   },
   {
    "duration": 6,
    "start_time": "2022-06-29T23:04:05.241Z"
   },
   {
    "duration": 10,
    "start_time": "2022-06-29T23:04:05.249Z"
   },
   {
    "duration": 7,
    "start_time": "2022-06-29T23:04:05.261Z"
   },
   {
    "duration": 18,
    "start_time": "2022-06-29T23:04:05.269Z"
   },
   {
    "duration": 3,
    "start_time": "2022-06-29T23:04:05.289Z"
   },
   {
    "duration": 10,
    "start_time": "2022-06-29T23:04:05.293Z"
   },
   {
    "duration": 14,
    "start_time": "2022-06-29T23:04:05.329Z"
   },
   {
    "duration": 85,
    "start_time": "2022-06-29T23:04:05.345Z"
   },
   {
    "duration": 4,
    "start_time": "2022-06-29T23:04:05.432Z"
   },
   {
    "duration": 12,
    "start_time": "2022-06-29T23:04:05.437Z"
   },
   {
    "duration": 17,
    "start_time": "2022-06-29T23:04:05.451Z"
   },
   {
    "duration": 12,
    "start_time": "2022-06-29T23:04:05.469Z"
   },
   {
    "duration": 6,
    "start_time": "2022-06-29T23:04:05.482Z"
   },
   {
    "duration": 25,
    "start_time": "2022-06-29T23:04:05.489Z"
   },
   {
    "duration": 15,
    "start_time": "2022-06-29T23:04:05.516Z"
   },
   {
    "duration": 6,
    "start_time": "2022-06-29T23:04:05.532Z"
   },
   {
    "duration": 4,
    "start_time": "2022-06-29T23:04:05.540Z"
   },
   {
    "duration": 8,
    "start_time": "2022-06-29T23:04:05.545Z"
   },
   {
    "duration": 5,
    "start_time": "2022-06-29T23:04:05.555Z"
   },
   {
    "duration": 7,
    "start_time": "2022-06-29T23:04:05.561Z"
   },
   {
    "duration": 194,
    "start_time": "2022-06-29T23:04:05.569Z"
   },
   {
    "duration": 4,
    "start_time": "2022-06-29T23:04:05.764Z"
   },
   {
    "duration": 10,
    "start_time": "2022-06-29T23:04:05.769Z"
   },
   {
    "duration": 27,
    "start_time": "2022-06-29T23:04:05.781Z"
   },
   {
    "duration": 21,
    "start_time": "2022-06-29T23:04:05.809Z"
   },
   {
    "duration": 7,
    "start_time": "2022-06-29T23:04:05.832Z"
   },
   {
    "duration": 5,
    "start_time": "2022-06-29T23:04:05.841Z"
   },
   {
    "duration": 23,
    "start_time": "2022-06-29T23:04:05.847Z"
   },
   {
    "duration": 4,
    "start_time": "2022-06-29T23:04:05.871Z"
   },
   {
    "duration": 5,
    "start_time": "2022-06-29T23:04:05.883Z"
   },
   {
    "duration": 211,
    "start_time": "2022-06-29T23:04:05.890Z"
   },
   {
    "duration": 3,
    "start_time": "2022-06-29T23:04:06.102Z"
   },
   {
    "duration": 6,
    "start_time": "2022-06-29T23:04:06.106Z"
   },
   {
    "duration": 129,
    "start_time": "2022-06-29T23:04:06.113Z"
   },
   {
    "duration": 3,
    "start_time": "2022-06-29T23:04:06.243Z"
   },
   {
    "duration": 10,
    "start_time": "2022-06-29T23:04:06.247Z"
   },
   {
    "duration": 8,
    "start_time": "2022-06-29T23:04:06.259Z"
   },
   {
    "duration": 4,
    "start_time": "2022-06-29T23:04:06.268Z"
   },
   {
    "duration": 22,
    "start_time": "2022-06-29T23:04:06.273Z"
   },
   {
    "duration": 3,
    "start_time": "2022-06-29T23:04:06.296Z"
   },
   {
    "duration": 28,
    "start_time": "2022-06-29T23:04:06.301Z"
   },
   {
    "duration": 4,
    "start_time": "2022-06-29T23:04:06.330Z"
   },
   {
    "duration": 4,
    "start_time": "2022-06-29T23:04:06.335Z"
   },
   {
    "duration": 5,
    "start_time": "2022-06-29T23:04:06.341Z"
   },
   {
    "duration": 4,
    "start_time": "2022-06-29T23:04:06.347Z"
   },
   {
    "duration": 6,
    "start_time": "2022-06-29T23:04:06.352Z"
   },
   {
    "duration": 4,
    "start_time": "2022-06-29T23:04:06.359Z"
   },
   {
    "duration": 4,
    "start_time": "2022-06-29T23:04:06.365Z"
   },
   {
    "duration": 108,
    "start_time": "2022-06-29T23:04:06.370Z"
   },
   {
    "duration": 14,
    "start_time": "2022-06-29T23:04:06.480Z"
   },
   {
    "duration": 41,
    "start_time": "2022-06-29T23:04:06.496Z"
   },
   {
    "duration": 21,
    "start_time": "2022-06-29T23:04:06.538Z"
   },
   {
    "duration": 3,
    "start_time": "2022-06-29T23:04:06.560Z"
   },
   {
    "duration": 5,
    "start_time": "2022-06-29T23:04:06.564Z"
   },
   {
    "duration": 6,
    "start_time": "2022-06-29T23:04:06.570Z"
   },
   {
    "duration": 6,
    "start_time": "2022-06-29T23:04:06.577Z"
   },
   {
    "duration": 8,
    "start_time": "2022-06-29T23:04:06.585Z"
   },
   {
    "duration": 9,
    "start_time": "2022-06-29T23:04:06.595Z"
   },
   {
    "duration": 7,
    "start_time": "2022-06-29T23:04:06.628Z"
   },
   {
    "duration": 19,
    "start_time": "2022-06-29T23:04:06.636Z"
   },
   {
    "duration": 5,
    "start_time": "2022-06-29T23:04:06.656Z"
   },
   {
    "duration": 6,
    "start_time": "2022-06-29T23:04:06.662Z"
   },
   {
    "duration": 5,
    "start_time": "2022-06-29T23:04:06.669Z"
   },
   {
    "duration": 6,
    "start_time": "2022-06-29T23:04:06.675Z"
   },
   {
    "duration": 7,
    "start_time": "2022-06-29T23:04:06.682Z"
   },
   {
    "duration": 871,
    "start_time": "2022-06-29T23:04:06.690Z"
   },
   {
    "duration": 6,
    "start_time": "2022-06-29T23:04:07.562Z"
   },
   {
    "duration": 6,
    "start_time": "2022-06-29T23:04:07.569Z"
   },
   {
    "duration": 14,
    "start_time": "2022-06-29T23:04:07.577Z"
   },
   {
    "duration": 485,
    "start_time": "2022-06-29T23:04:07.592Z"
   },
   {
    "duration": 32599,
    "start_time": "2022-06-29T23:04:08.078Z"
   },
   {
    "duration": 141809,
    "start_time": "2022-06-29T23:04:40.679Z"
   },
   {
    "duration": 80745,
    "start_time": "2022-06-29T23:07:02.489Z"
   },
   {
    "duration": 347,
    "start_time": "2022-06-29T23:08:23.235Z"
   },
   {
    "duration": 4,
    "start_time": "2022-06-29T23:08:23.583Z"
   },
   {
    "duration": 8,
    "start_time": "2022-06-29T23:08:23.588Z"
   },
   {
    "duration": 893,
    "start_time": "2022-06-29T23:08:23.598Z"
   },
   {
    "duration": 6,
    "start_time": "2022-06-29T23:08:24.492Z"
   },
   {
    "duration": 7,
    "start_time": "2022-06-29T23:08:24.499Z"
   },
   {
    "duration": 310,
    "start_time": "2022-06-29T23:08:24.507Z"
   },
   {
    "duration": 4,
    "start_time": "2022-06-29T23:08:24.818Z"
   },
   {
    "duration": 884,
    "start_time": "2022-06-29T23:08:24.829Z"
   },
   {
    "duration": 5,
    "start_time": "2022-06-29T23:08:25.715Z"
   },
   {
    "duration": 15,
    "start_time": "2022-06-29T23:08:25.721Z"
   },
   {
    "duration": 7,
    "start_time": "2022-06-29T23:08:25.738Z"
   },
   {
    "duration": 7,
    "start_time": "2022-06-29T23:08:25.747Z"
   },
   {
    "duration": 6,
    "start_time": "2022-06-29T23:08:25.755Z"
   },
   {
    "duration": 14,
    "start_time": "2022-06-29T23:08:25.762Z"
   },
   {
    "duration": 5,
    "start_time": "2022-06-29T23:08:25.778Z"
   },
   {
    "duration": 437,
    "start_time": "2022-06-29T23:08:25.785Z"
   },
   {
    "duration": 239,
    "start_time": "2022-06-29T23:08:26.223Z"
   },
   {
    "duration": 21,
    "start_time": "2022-06-29T23:08:26.464Z"
   },
   {
    "duration": 3,
    "start_time": "2022-06-29T23:08:26.487Z"
   },
   {
    "duration": 6,
    "start_time": "2022-06-29T23:08:26.491Z"
   },
   {
    "duration": 459,
    "start_time": "2022-06-29T23:08:26.499Z"
   },
   {
    "duration": 5,
    "start_time": "2022-06-29T23:08:26.959Z"
   },
   {
    "duration": 21,
    "start_time": "2022-06-29T23:08:26.965Z"
   },
   {
    "duration": 105,
    "start_time": "2022-06-29T23:08:26.987Z"
   },
   {
    "duration": 22,
    "start_time": "2022-06-29T23:08:27.094Z"
   },
   {
    "duration": 12,
    "start_time": "2022-06-29T23:08:27.117Z"
   },
   {
    "duration": 18,
    "start_time": "2022-06-29T23:08:27.130Z"
   },
   {
    "duration": 1664,
    "start_time": "2022-06-30T19:30:49.170Z"
   },
   {
    "duration": 3,
    "start_time": "2022-06-30T19:30:52.687Z"
   },
   {
    "duration": 675,
    "start_time": "2022-06-30T19:30:54.257Z"
   },
   {
    "duration": 2,
    "start_time": "2022-06-30T19:30:56.813Z"
   },
   {
    "duration": 5,
    "start_time": "2022-06-30T19:30:57.526Z"
   },
   {
    "duration": 65,
    "start_time": "2022-06-30T19:30:57.995Z"
   },
   {
    "duration": 4,
    "start_time": "2022-06-30T19:30:58.407Z"
   },
   {
    "duration": 4,
    "start_time": "2022-06-30T19:30:59.162Z"
   },
   {
    "duration": 5,
    "start_time": "2022-06-30T19:31:08.936Z"
   },
   {
    "duration": 5,
    "start_time": "2022-06-30T19:31:09.813Z"
   },
   {
    "duration": 5,
    "start_time": "2022-06-30T19:31:10.206Z"
   },
   {
    "duration": 47,
    "start_time": "2022-06-30T19:31:19.658Z"
   },
   {
    "duration": 4,
    "start_time": "2022-06-30T19:33:14.483Z"
   },
   {
    "duration": 5,
    "start_time": "2022-06-30T19:33:14.939Z"
   },
   {
    "duration": 6,
    "start_time": "2022-06-30T19:33:15.139Z"
   },
   {
    "duration": 181,
    "start_time": "2022-06-30T19:33:15.365Z"
   },
   {
    "duration": 158,
    "start_time": "2022-06-30T19:33:15.575Z"
   },
   {
    "duration": 4,
    "start_time": "2022-06-30T19:33:16.407Z"
   },
   {
    "duration": 5,
    "start_time": "2022-06-30T19:33:16.582Z"
   },
   {
    "duration": 4,
    "start_time": "2022-06-30T19:33:17.359Z"
   },
   {
    "duration": 8,
    "start_time": "2022-06-30T19:33:20.451Z"
   },
   {
    "duration": 9,
    "start_time": "2022-06-30T19:33:20.831Z"
   },
   {
    "duration": 10,
    "start_time": "2022-06-30T19:33:22.015Z"
   },
   {
    "duration": 19,
    "start_time": "2022-06-30T19:33:25.472Z"
   },
   {
    "duration": 3,
    "start_time": "2022-06-30T19:33:32.244Z"
   },
   {
    "duration": 161,
    "start_time": "2022-06-30T19:33:41.429Z"
   },
   {
    "duration": 4,
    "start_time": "2022-06-30T19:33:44.052Z"
   },
   {
    "duration": 170,
    "start_time": "2022-06-30T19:33:44.717Z"
   },
   {
    "duration": 3,
    "start_time": "2022-06-30T19:34:00.829Z"
   },
   {
    "duration": 4,
    "start_time": "2022-06-30T19:34:01.010Z"
   },
   {
    "duration": 244,
    "start_time": "2022-06-30T19:34:01.395Z"
   },
   {
    "duration": 4,
    "start_time": "2022-06-30T19:34:43.945Z"
   },
   {
    "duration": 5,
    "start_time": "2022-06-30T19:34:44.368Z"
   },
   {
    "duration": 125,
    "start_time": "2022-06-30T19:34:44.982Z"
   },
   {
    "duration": 5,
    "start_time": "2022-06-30T19:39:07.573Z"
   },
   {
    "duration": 3,
    "start_time": "2022-06-30T19:39:27.237Z"
   },
   {
    "duration": 3,
    "start_time": "2022-06-30T19:41:16.636Z"
   },
   {
    "duration": 4,
    "start_time": "2022-06-30T19:41:16.810Z"
   },
   {
    "duration": 6,
    "start_time": "2022-06-30T19:41:17.009Z"
   },
   {
    "duration": 147,
    "start_time": "2022-06-30T19:41:17.229Z"
   },
   {
    "duration": 3,
    "start_time": "2022-06-30T19:41:39.531Z"
   },
   {
    "duration": 4,
    "start_time": "2022-06-30T19:41:40.899Z"
   },
   {
    "duration": 5,
    "start_time": "2022-06-30T19:41:41.419Z"
   },
   {
    "duration": 115,
    "start_time": "2022-06-30T19:41:42.317Z"
   },
   {
    "duration": 6,
    "start_time": "2022-06-30T19:42:17.299Z"
   },
   {
    "duration": 4,
    "start_time": "2022-06-30T19:52:45.464Z"
   },
   {
    "duration": 108,
    "start_time": "2022-06-30T19:52:45.822Z"
   },
   {
    "duration": 4,
    "start_time": "2022-06-30T19:52:47.594Z"
   },
   {
    "duration": 5,
    "start_time": "2022-06-30T19:52:51.220Z"
   },
   {
    "duration": 6,
    "start_time": "2022-06-30T19:52:51.828Z"
   },
   {
    "duration": 6,
    "start_time": "2022-06-30T19:53:05.914Z"
   },
   {
    "duration": 6,
    "start_time": "2022-06-30T19:53:07.030Z"
   },
   {
    "duration": 4,
    "start_time": "2022-06-30T19:53:16.606Z"
   },
   {
    "duration": 4,
    "start_time": "2022-06-30T19:53:18.464Z"
   },
   {
    "duration": 4,
    "start_time": "2022-06-30T19:53:19.157Z"
   },
   {
    "duration": 3,
    "start_time": "2022-06-30T19:56:10.009Z"
   },
   {
    "duration": 8,
    "start_time": "2022-06-30T19:56:10.192Z"
   },
   {
    "duration": 36,
    "start_time": "2022-06-30T19:56:10.335Z"
   },
   {
    "duration": 9,
    "start_time": "2022-06-30T19:56:10.496Z"
   },
   {
    "duration": 14,
    "start_time": "2022-06-30T19:56:11.095Z"
   },
   {
    "duration": 13,
    "start_time": "2022-06-30T19:56:11.272Z"
   },
   {
    "duration": 17,
    "start_time": "2022-06-30T19:56:13.670Z"
   },
   {
    "duration": 5,
    "start_time": "2022-06-30T22:05:36.320Z"
   },
   {
    "duration": 4,
    "start_time": "2022-06-30T22:06:09.997Z"
   },
   {
    "duration": 7,
    "start_time": "2022-06-30T22:06:17.615Z"
   },
   {
    "duration": 2,
    "start_time": "2022-06-30T22:06:49.815Z"
   },
   {
    "duration": 132,
    "start_time": "2022-06-30T22:07:44.295Z"
   },
   {
    "duration": 14,
    "start_time": "2022-06-30T22:08:08.986Z"
   },
   {
    "duration": 13,
    "start_time": "2022-06-30T22:08:27.826Z"
   },
   {
    "duration": 51,
    "start_time": "2022-06-30T22:11:31.575Z"
   },
   {
    "duration": 13,
    "start_time": "2022-06-30T22:11:37.046Z"
   },
   {
    "duration": 13,
    "start_time": "2022-06-30T22:16:14.583Z"
   },
   {
    "duration": 46,
    "start_time": "2022-06-30T22:17:23.431Z"
   },
   {
    "duration": 10,
    "start_time": "2022-06-30T22:17:45.251Z"
   },
   {
    "duration": 4,
    "start_time": "2022-06-30T22:17:50.817Z"
   },
   {
    "duration": 44,
    "start_time": "2022-06-30T22:18:42.382Z"
   },
   {
    "duration": 4,
    "start_time": "2022-06-30T22:19:07.469Z"
   },
   {
    "duration": 8,
    "start_time": "2022-06-30T22:19:07.651Z"
   },
   {
    "duration": 12,
    "start_time": "2022-06-30T22:19:08.145Z"
   },
   {
    "duration": 9,
    "start_time": "2022-06-30T22:19:08.502Z"
   },
   {
    "duration": 3,
    "start_time": "2022-06-30T22:19:08.634Z"
   },
   {
    "duration": 17,
    "start_time": "2022-06-30T22:19:08.967Z"
   },
   {
    "duration": 4,
    "start_time": "2022-06-30T22:19:13.514Z"
   },
   {
    "duration": 4,
    "start_time": "2022-06-30T22:19:13.596Z"
   },
   {
    "duration": 4,
    "start_time": "2022-06-30T22:19:13.930Z"
   },
   {
    "duration": 5,
    "start_time": "2022-06-30T22:19:14.010Z"
   },
   {
    "duration": 4,
    "start_time": "2022-06-30T22:19:14.349Z"
   },
   {
    "duration": 4,
    "start_time": "2022-06-30T22:19:14.491Z"
   },
   {
    "duration": 149,
    "start_time": "2022-06-30T22:19:14.685Z"
   },
   {
    "duration": 4,
    "start_time": "2022-06-30T22:19:19.812Z"
   },
   {
    "duration": 8,
    "start_time": "2022-06-30T22:19:19.892Z"
   },
   {
    "duration": 27,
    "start_time": "2022-06-30T22:19:19.973Z"
   },
   {
    "duration": 7,
    "start_time": "2022-06-30T22:19:20.054Z"
   },
   {
    "duration": 8,
    "start_time": "2022-06-30T22:19:20.223Z"
   },
   {
    "duration": 3,
    "start_time": "2022-06-30T22:19:20.306Z"
   },
   {
    "duration": 15,
    "start_time": "2022-06-30T22:19:23.007Z"
   },
   {
    "duration": 4,
    "start_time": "2022-06-30T22:19:23.573Z"
   },
   {
    "duration": 4,
    "start_time": "2022-06-30T22:19:23.733Z"
   },
   {
    "duration": 137,
    "start_time": "2022-06-30T22:19:23.913Z"
   },
   {
    "duration": 3,
    "start_time": "2022-06-30T22:20:50.376Z"
   },
   {
    "duration": 4,
    "start_time": "2022-06-30T22:20:50.560Z"
   },
   {
    "duration": 122,
    "start_time": "2022-06-30T22:20:51.576Z"
   },
   {
    "duration": 5,
    "start_time": "2022-06-30T22:22:07.285Z"
   },
   {
    "duration": 5,
    "start_time": "2022-06-30T22:23:53.659Z"
   },
   {
    "duration": 132,
    "start_time": "2022-06-30T22:24:00.065Z"
   },
   {
    "duration": 1325,
    "start_time": "2022-06-30T22:24:32.062Z"
   },
   {
    "duration": 3,
    "start_time": "2022-06-30T22:24:34.685Z"
   },
   {
    "duration": 265,
    "start_time": "2022-06-30T22:24:34.759Z"
   },
   {
    "duration": 3,
    "start_time": "2022-06-30T22:24:35.026Z"
   },
   {
    "duration": 8,
    "start_time": "2022-06-30T22:24:35.030Z"
   },
   {
    "duration": 63,
    "start_time": "2022-06-30T22:24:35.090Z"
   },
   {
    "duration": 3,
    "start_time": "2022-06-30T22:24:35.178Z"
   },
   {
    "duration": 4,
    "start_time": "2022-06-30T22:24:35.264Z"
   },
   {
    "duration": 4,
    "start_time": "2022-06-30T22:24:35.593Z"
   },
   {
    "duration": 4,
    "start_time": "2022-06-30T22:24:35.674Z"
   },
   {
    "duration": 4,
    "start_time": "2022-06-30T22:24:35.756Z"
   },
   {
    "duration": 51,
    "start_time": "2022-06-30T22:24:35.840Z"
   },
   {
    "duration": 4,
    "start_time": "2022-06-30T22:24:36.340Z"
   },
   {
    "duration": 5,
    "start_time": "2022-06-30T22:24:36.436Z"
   },
   {
    "duration": 5,
    "start_time": "2022-06-30T22:24:36.509Z"
   },
   {
    "duration": 163,
    "start_time": "2022-06-30T22:24:36.592Z"
   },
   {
    "duration": 147,
    "start_time": "2022-06-30T22:24:36.756Z"
   },
   {
    "duration": 4,
    "start_time": "2022-06-30T22:24:37.021Z"
   },
   {
    "duration": 4,
    "start_time": "2022-06-30T22:24:37.096Z"
   },
   {
    "duration": 5,
    "start_time": "2022-06-30T22:24:37.429Z"
   },
   {
    "duration": 7,
    "start_time": "2022-06-30T22:24:37.515Z"
   },
   {
    "duration": 10,
    "start_time": "2022-06-30T22:24:37.680Z"
   },
   {
    "duration": 7,
    "start_time": "2022-06-30T22:24:37.762Z"
   },
   {
    "duration": 16,
    "start_time": "2022-06-30T22:24:37.854Z"
   },
   {
    "duration": 4,
    "start_time": "2022-06-30T22:24:38.182Z"
   },
   {
    "duration": 145,
    "start_time": "2022-06-30T22:24:38.266Z"
   },
   {
    "duration": 3,
    "start_time": "2022-06-30T22:24:38.603Z"
   },
   {
    "duration": 159,
    "start_time": "2022-06-30T22:24:38.680Z"
   },
   {
    "duration": 4,
    "start_time": "2022-06-30T22:24:39.018Z"
   },
   {
    "duration": 4,
    "start_time": "2022-06-30T22:24:39.099Z"
   },
   {
    "duration": 226,
    "start_time": "2022-06-30T22:24:39.184Z"
   },
   {
    "duration": 4,
    "start_time": "2022-06-30T22:24:39.516Z"
   },
   {
    "duration": 4,
    "start_time": "2022-06-30T22:24:39.600Z"
   },
   {
    "duration": 129,
    "start_time": "2022-06-30T22:24:39.681Z"
   },
   {
    "duration": 5,
    "start_time": "2022-06-30T22:24:40.020Z"
   },
   {
    "duration": 4,
    "start_time": "2022-06-30T22:24:40.110Z"
   },
   {
    "duration": 3,
    "start_time": "2022-06-30T22:24:40.438Z"
   },
   {
    "duration": 5,
    "start_time": "2022-06-30T22:24:40.518Z"
   },
   {
    "duration": 5,
    "start_time": "2022-06-30T22:24:40.602Z"
   },
   {
    "duration": 132,
    "start_time": "2022-06-30T22:24:40.682Z"
   },
   {
    "duration": 3,
    "start_time": "2022-06-30T22:24:41.022Z"
   },
   {
    "duration": 4,
    "start_time": "2022-06-30T22:24:41.172Z"
   },
   {
    "duration": 6,
    "start_time": "2022-06-30T22:24:41.499Z"
   },
   {
    "duration": 5,
    "start_time": "2022-06-30T22:24:42.056Z"
   },
   {
    "duration": 106,
    "start_time": "2022-06-30T22:24:42.558Z"
   },
   {
    "duration": 3,
    "start_time": "2022-06-30T22:24:42.888Z"
   },
   {
    "duration": 5,
    "start_time": "2022-06-30T22:24:42.970Z"
   },
   {
    "duration": 7,
    "start_time": "2022-06-30T22:24:43.052Z"
   },
   {
    "duration": 6,
    "start_time": "2022-06-30T22:24:43.221Z"
   },
   {
    "duration": 5,
    "start_time": "2022-06-30T22:24:43.306Z"
   },
   {
    "duration": 5,
    "start_time": "2022-06-30T22:24:43.389Z"
   },
   {
    "duration": 5,
    "start_time": "2022-06-30T22:24:43.470Z"
   },
   {
    "duration": 6,
    "start_time": "2022-06-30T22:24:43.552Z"
   },
   {
    "duration": 4,
    "start_time": "2022-06-30T22:24:44.140Z"
   },
   {
    "duration": 12,
    "start_time": "2022-06-30T22:24:44.228Z"
   },
   {
    "duration": 48,
    "start_time": "2022-06-30T22:24:44.306Z"
   },
   {
    "duration": 12,
    "start_time": "2022-06-30T22:24:44.390Z"
   },
   {
    "duration": 13,
    "start_time": "2022-06-30T22:24:44.556Z"
   },
   {
    "duration": 9,
    "start_time": "2022-06-30T22:24:44.642Z"
   },
   {
    "duration": 17,
    "start_time": "2022-06-30T22:24:44.816Z"
   },
   {
    "duration": 5,
    "start_time": "2022-06-30T22:24:45.140Z"
   },
   {
    "duration": 8,
    "start_time": "2022-06-30T22:24:45.222Z"
   },
   {
    "duration": 2,
    "start_time": "2022-06-30T22:24:45.307Z"
   },
   {
    "duration": 64,
    "start_time": "2022-06-30T22:24:45.398Z"
   },
   {
    "duration": 3,
    "start_time": "2022-06-30T22:24:48.084Z"
   },
   {
    "duration": 10,
    "start_time": "2022-06-30T22:24:48.319Z"
   },
   {
    "duration": 12,
    "start_time": "2022-06-30T22:24:48.524Z"
   },
   {
    "duration": 8,
    "start_time": "2022-06-30T22:24:48.900Z"
   },
   {
    "duration": 4,
    "start_time": "2022-06-30T22:24:49.090Z"
   },
   {
    "duration": 17,
    "start_time": "2022-06-30T22:24:51.672Z"
   },
   {
    "duration": 4,
    "start_time": "2022-06-30T22:24:52.556Z"
   },
   {
    "duration": 5,
    "start_time": "2022-06-30T22:24:52.632Z"
   },
   {
    "duration": 4,
    "start_time": "2022-06-30T22:24:52.969Z"
   },
   {
    "duration": 4,
    "start_time": "2022-06-30T22:24:53.051Z"
   },
   {
    "duration": 3,
    "start_time": "2022-06-30T22:24:53.634Z"
   },
   {
    "duration": 5,
    "start_time": "2022-06-30T22:24:53.864Z"
   },
   {
    "duration": 148,
    "start_time": "2022-06-30T22:24:54.080Z"
   },
   {
    "duration": 3,
    "start_time": "2022-06-30T22:24:55.173Z"
   },
   {
    "duration": 8,
    "start_time": "2022-06-30T22:24:55.345Z"
   },
   {
    "duration": 28,
    "start_time": "2022-06-30T22:24:55.533Z"
   },
   {
    "duration": 8,
    "start_time": "2022-06-30T22:24:55.708Z"
   },
   {
    "duration": 9,
    "start_time": "2022-06-30T22:24:56.389Z"
   },
   {
    "duration": 4,
    "start_time": "2022-06-30T22:24:56.464Z"
   },
   {
    "duration": 16,
    "start_time": "2022-06-30T22:24:56.632Z"
   },
   {
    "duration": 4,
    "start_time": "2022-06-30T22:24:57.013Z"
   },
   {
    "duration": 4,
    "start_time": "2022-06-30T22:24:57.184Z"
   },
   {
    "duration": 141,
    "start_time": "2022-06-30T22:24:57.369Z"
   },
   {
    "duration": 4,
    "start_time": "2022-06-30T22:24:58.682Z"
   },
   {
    "duration": 5,
    "start_time": "2022-06-30T22:24:58.868Z"
   },
   {
    "duration": 130,
    "start_time": "2022-06-30T22:24:59.067Z"
   },
   {
    "duration": 6,
    "start_time": "2022-06-30T22:24:59.434Z"
   },
   {
    "duration": 6,
    "start_time": "2022-06-30T22:24:59.864Z"
   },
   {
    "duration": 124,
    "start_time": "2022-06-30T22:25:01.670Z"
   },
   {
    "duration": 6,
    "start_time": "2022-06-30T22:25:23.216Z"
   },
   {
    "duration": 1343,
    "start_time": "2022-06-30T22:26:00.980Z"
   },
   {
    "duration": 3,
    "start_time": "2022-06-30T22:26:04.728Z"
   },
   {
    "duration": 282,
    "start_time": "2022-06-30T22:26:04.800Z"
   },
   {
    "duration": 3,
    "start_time": "2022-06-30T22:26:05.083Z"
   },
   {
    "duration": 7,
    "start_time": "2022-06-30T22:26:05.087Z"
   },
   {
    "duration": 65,
    "start_time": "2022-06-30T22:26:05.134Z"
   },
   {
    "duration": 4,
    "start_time": "2022-06-30T22:26:05.214Z"
   },
   {
    "duration": 3,
    "start_time": "2022-06-30T22:26:05.302Z"
   },
   {
    "duration": 4,
    "start_time": "2022-06-30T22:26:05.633Z"
   },
   {
    "duration": 5,
    "start_time": "2022-06-30T22:26:05.715Z"
   },
   {
    "duration": 4,
    "start_time": "2022-06-30T22:26:05.797Z"
   },
   {
    "duration": 48,
    "start_time": "2022-06-30T22:26:05.882Z"
   },
   {
    "duration": 4,
    "start_time": "2022-06-30T22:26:06.384Z"
   },
   {
    "duration": 5,
    "start_time": "2022-06-30T22:26:06.468Z"
   },
   {
    "duration": 5,
    "start_time": "2022-06-30T22:26:06.555Z"
   },
   {
    "duration": 172,
    "start_time": "2022-06-30T22:26:06.637Z"
   },
   {
    "duration": 149,
    "start_time": "2022-06-30T22:26:06.811Z"
   },
   {
    "duration": 4,
    "start_time": "2022-06-30T22:26:07.062Z"
   },
   {
    "duration": 4,
    "start_time": "2022-06-30T22:26:07.141Z"
   },
   {
    "duration": 4,
    "start_time": "2022-06-30T22:26:07.479Z"
   },
   {
    "duration": 8,
    "start_time": "2022-06-30T22:26:07.570Z"
   },
   {
    "duration": 11,
    "start_time": "2022-06-30T22:26:07.723Z"
   },
   {
    "duration": 8,
    "start_time": "2022-06-30T22:26:07.807Z"
   },
   {
    "duration": 16,
    "start_time": "2022-06-30T22:26:07.893Z"
   },
   {
    "duration": 4,
    "start_time": "2022-06-30T22:26:08.234Z"
   },
   {
    "duration": 129,
    "start_time": "2022-06-30T22:26:08.311Z"
   },
   {
    "duration": 4,
    "start_time": "2022-06-30T22:26:08.646Z"
   },
   {
    "duration": 148,
    "start_time": "2022-06-30T22:26:08.727Z"
   },
   {
    "duration": 4,
    "start_time": "2022-06-30T22:26:09.057Z"
   },
   {
    "duration": 4,
    "start_time": "2022-06-30T22:26:09.141Z"
   },
   {
    "duration": 201,
    "start_time": "2022-06-30T22:26:09.225Z"
   },
   {
    "duration": 4,
    "start_time": "2022-06-30T22:26:09.559Z"
   },
   {
    "duration": 4,
    "start_time": "2022-06-30T22:26:09.648Z"
   },
   {
    "duration": 111,
    "start_time": "2022-06-30T22:26:09.732Z"
   },
   {
    "duration": 4,
    "start_time": "2022-06-30T22:26:10.068Z"
   },
   {
    "duration": 3,
    "start_time": "2022-06-30T22:26:10.148Z"
   },
   {
    "duration": 4,
    "start_time": "2022-06-30T22:26:10.479Z"
   },
   {
    "duration": 6,
    "start_time": "2022-06-30T22:26:10.570Z"
   },
   {
    "duration": 5,
    "start_time": "2022-06-30T22:26:10.655Z"
   },
   {
    "duration": 126,
    "start_time": "2022-06-30T22:26:10.727Z"
   },
   {
    "duration": 4,
    "start_time": "2022-06-30T22:26:11.073Z"
   },
   {
    "duration": 4,
    "start_time": "2022-06-30T22:26:11.145Z"
   },
   {
    "duration": 5,
    "start_time": "2022-06-30T22:26:11.232Z"
   },
   {
    "duration": 4,
    "start_time": "2022-06-30T22:26:11.316Z"
   },
   {
    "duration": 104,
    "start_time": "2022-06-30T22:26:11.403Z"
   },
   {
    "duration": 3,
    "start_time": "2022-06-30T22:26:11.735Z"
   },
   {
    "duration": 4,
    "start_time": "2022-06-30T22:26:11.813Z"
   },
   {
    "duration": 5,
    "start_time": "2022-06-30T22:26:11.899Z"
   },
   {
    "duration": 5,
    "start_time": "2022-06-30T22:26:12.064Z"
   },
   {
    "duration": 5,
    "start_time": "2022-06-30T22:26:12.147Z"
   },
   {
    "duration": 5,
    "start_time": "2022-06-30T22:26:12.243Z"
   },
   {
    "duration": 4,
    "start_time": "2022-06-30T22:26:12.316Z"
   },
   {
    "duration": 5,
    "start_time": "2022-06-30T22:26:12.399Z"
   },
   {
    "duration": 3,
    "start_time": "2022-06-30T22:26:12.993Z"
   },
   {
    "duration": 8,
    "start_time": "2022-06-30T22:26:13.071Z"
   },
   {
    "duration": 32,
    "start_time": "2022-06-30T22:26:13.154Z"
   },
   {
    "duration": 9,
    "start_time": "2022-06-30T22:26:13.234Z"
   },
   {
    "duration": 10,
    "start_time": "2022-06-30T22:26:13.408Z"
   },
   {
    "duration": 9,
    "start_time": "2022-06-30T22:26:13.483Z"
   },
   {
    "duration": 18,
    "start_time": "2022-06-30T22:26:13.651Z"
   },
   {
    "duration": 5,
    "start_time": "2022-06-30T22:26:13.995Z"
   },
   {
    "duration": 8,
    "start_time": "2022-06-30T22:26:14.069Z"
   },
   {
    "duration": 2,
    "start_time": "2022-06-30T22:26:14.164Z"
   },
   {
    "duration": 67,
    "start_time": "2022-06-30T22:26:14.235Z"
   },
   {
    "duration": 3,
    "start_time": "2022-06-30T22:26:15.778Z"
   },
   {
    "duration": 7,
    "start_time": "2022-06-30T22:26:15.862Z"
   },
   {
    "duration": 13,
    "start_time": "2022-06-30T22:26:15.956Z"
   },
   {
    "duration": 9,
    "start_time": "2022-06-30T22:26:16.218Z"
   },
   {
    "duration": 4,
    "start_time": "2022-06-30T22:26:16.411Z"
   },
   {
    "duration": 19,
    "start_time": "2022-06-30T22:26:16.737Z"
   },
   {
    "duration": 4,
    "start_time": "2022-06-30T22:26:17.279Z"
   },
   {
    "duration": 4,
    "start_time": "2022-06-30T22:26:17.475Z"
   },
   {
    "duration": 4,
    "start_time": "2022-06-30T22:26:18.562Z"
   },
   {
    "duration": 5,
    "start_time": "2022-06-30T22:26:18.791Z"
   },
   {
    "duration": 3,
    "start_time": "2022-06-30T22:26:19.460Z"
   },
   {
    "duration": 4,
    "start_time": "2022-06-30T22:26:19.620Z"
   },
   {
    "duration": 153,
    "start_time": "2022-06-30T22:26:19.771Z"
   },
   {
    "duration": 4,
    "start_time": "2022-06-30T22:26:20.627Z"
   },
   {
    "duration": 8,
    "start_time": "2022-06-30T22:26:20.796Z"
   },
   {
    "duration": 30,
    "start_time": "2022-06-30T22:26:20.995Z"
   },
   {
    "duration": 8,
    "start_time": "2022-06-30T22:26:21.491Z"
   },
   {
    "duration": 8,
    "start_time": "2022-06-30T22:26:21.660Z"
   },
   {
    "duration": 3,
    "start_time": "2022-06-30T22:26:21.739Z"
   },
   {
    "duration": 16,
    "start_time": "2022-06-30T22:26:21.907Z"
   },
   {
    "duration": 5,
    "start_time": "2022-06-30T22:26:22.159Z"
   },
   {
    "duration": 4,
    "start_time": "2022-06-30T22:26:22.248Z"
   },
   {
    "duration": 146,
    "start_time": "2022-06-30T22:26:22.329Z"
   },
   {
    "duration": 4,
    "start_time": "2022-06-30T22:26:22.671Z"
   },
   {
    "duration": 4,
    "start_time": "2022-06-30T22:26:22.743Z"
   },
   {
    "duration": 134,
    "start_time": "2022-06-30T22:26:22.835Z"
   },
   {
    "duration": 6,
    "start_time": "2022-06-30T22:26:22.995Z"
   },
   {
    "duration": 5,
    "start_time": "2022-06-30T22:26:23.447Z"
   },
   {
    "duration": 113,
    "start_time": "2022-06-30T22:26:23.643Z"
   },
   {
    "duration": 3,
    "start_time": "2022-06-30T22:27:14.741Z"
   },
   {
    "duration": 9,
    "start_time": "2022-06-30T22:27:14.893Z"
   },
   {
    "duration": 9,
    "start_time": "2022-06-30T22:27:15.072Z"
   },
   {
    "duration": 5,
    "start_time": "2022-06-30T22:27:15.218Z"
   },
   {
    "duration": 17,
    "start_time": "2022-06-30T22:27:15.589Z"
   },
   {
    "duration": 4,
    "start_time": "2022-06-30T22:28:25.140Z"
   },
   {
    "duration": 4,
    "start_time": "2022-06-30T22:28:26.108Z"
   },
   {
    "duration": 5,
    "start_time": "2022-06-30T22:28:27.512Z"
   },
   {
    "duration": 5,
    "start_time": "2022-06-30T22:28:29.763Z"
   },
   {
    "duration": 5,
    "start_time": "2022-06-30T22:28:30.570Z"
   },
   {
    "duration": 4,
    "start_time": "2022-06-30T22:29:21.139Z"
   },
   {
    "duration": 3,
    "start_time": "2022-06-30T22:29:23.386Z"
   },
   {
    "duration": 3,
    "start_time": "2022-06-30T22:29:32.988Z"
   },
   {
    "duration": 4,
    "start_time": "2022-06-30T22:29:33.371Z"
   },
   {
    "duration": 41,
    "start_time": "2022-06-30T22:29:35.308Z"
   },
   {
    "duration": 14,
    "start_time": "2022-06-30T22:30:44.603Z"
   },
   {
    "duration": 15,
    "start_time": "2022-06-30T22:30:47.633Z"
   },
   {
    "duration": 104,
    "start_time": "2022-06-30T22:34:21.587Z"
   },
   {
    "duration": 10,
    "start_time": "2022-06-30T22:34:30.304Z"
   },
   {
    "duration": 3,
    "start_time": "2022-06-30T22:34:32.268Z"
   },
   {
    "duration": 4,
    "start_time": "2022-06-30T22:34:33.030Z"
   },
   {
    "duration": 58,
    "start_time": "2022-06-30T22:35:43.273Z"
   },
   {
    "duration": 41,
    "start_time": "2022-06-30T22:35:49.572Z"
   },
   {
    "duration": 42,
    "start_time": "2022-06-30T22:35:54.956Z"
   },
   {
    "duration": 43,
    "start_time": "2022-06-30T22:36:01.165Z"
   },
   {
    "duration": 11,
    "start_time": "2022-06-30T22:36:26.678Z"
   },
   {
    "duration": 3,
    "start_time": "2022-06-30T22:36:27.875Z"
   },
   {
    "duration": 3,
    "start_time": "2022-06-30T22:36:28.636Z"
   },
   {
    "duration": 60,
    "start_time": "2022-06-30T22:36:30.113Z"
   },
   {
    "duration": 11,
    "start_time": "2022-06-30T22:36:38.818Z"
   },
   {
    "duration": 3,
    "start_time": "2022-06-30T22:36:39.173Z"
   },
   {
    "duration": 3,
    "start_time": "2022-06-30T22:36:39.750Z"
   },
   {
    "duration": 53,
    "start_time": "2022-06-30T22:36:42.349Z"
   },
   {
    "duration": 27,
    "start_time": "2022-06-30T22:37:03.736Z"
   },
   {
    "duration": 5,
    "start_time": "2022-06-30T22:39:11.827Z"
   },
   {
    "duration": 4,
    "start_time": "2022-06-30T22:39:12.042Z"
   },
   {
    "duration": 6,
    "start_time": "2022-06-30T22:39:12.225Z"
   },
   {
    "duration": 4,
    "start_time": "2022-06-30T22:39:12.443Z"
   },
   {
    "duration": 6,
    "start_time": "2022-06-30T22:39:12.644Z"
   },
   {
    "duration": 20,
    "start_time": "2022-06-30T22:39:12.906Z"
   },
   {
    "duration": 6,
    "start_time": "2022-06-30T22:39:47.464Z"
   },
   {
    "duration": 5,
    "start_time": "2022-06-30T22:39:48.771Z"
   },
   {
    "duration": 4,
    "start_time": "2022-06-30T22:39:50.221Z"
   },
   {
    "duration": 3,
    "start_time": "2022-06-30T22:39:50.710Z"
   },
   {
    "duration": 4,
    "start_time": "2022-06-30T22:44:16.931Z"
   },
   {
    "duration": 2,
    "start_time": "2022-06-30T22:46:39.172Z"
   },
   {
    "duration": 952,
    "start_time": "2022-06-30T22:46:40.666Z"
   },
   {
    "duration": 6,
    "start_time": "2022-06-30T22:46:43.773Z"
   },
   {
    "duration": 5,
    "start_time": "2022-06-30T22:46:46.386Z"
   },
   {
    "duration": 14,
    "start_time": "2022-06-30T22:46:46.637Z"
   },
   {
    "duration": 10,
    "start_time": "2022-06-30T22:47:36.124Z"
   },
   {
    "duration": 119,
    "start_time": "2022-06-30T22:47:42.374Z"
   },
   {
    "duration": 113,
    "start_time": "2022-06-30T22:48:50.213Z"
   },
   {
    "duration": 342,
    "start_time": "2022-06-30T22:49:25.186Z"
   },
   {
    "duration": 10,
    "start_time": "2022-06-30T22:49:49.493Z"
   },
   {
    "duration": 10,
    "start_time": "2022-06-30T22:49:58.495Z"
   },
   {
    "duration": 205,
    "start_time": "2022-06-30T22:50:15.399Z"
   },
   {
    "duration": 0,
    "start_time": "2022-06-30T22:53:10.195Z"
   },
   {
    "duration": 12046,
    "start_time": "2022-06-30T22:53:19.554Z"
   },
   {
    "duration": 0,
    "start_time": "2022-06-30T22:53:31.604Z"
   },
   {
    "duration": 6,
    "start_time": "2022-06-30T22:53:36.021Z"
   },
   {
    "duration": 16,
    "start_time": "2022-06-30T22:53:37.773Z"
   },
   {
    "duration": 24794,
    "start_time": "2022-06-30T22:53:40.879Z"
   },
   {
    "duration": 3,
    "start_time": "2022-06-30T22:54:35.505Z"
   },
   {
    "duration": 892,
    "start_time": "2022-06-30T22:54:36.316Z"
   },
   {
    "duration": 7,
    "start_time": "2022-06-30T22:54:38.092Z"
   },
   {
    "duration": 6,
    "start_time": "2022-06-30T22:54:39.136Z"
   },
   {
    "duration": 15,
    "start_time": "2022-06-30T22:54:39.691Z"
   },
   {
    "duration": 53299,
    "start_time": "2022-06-30T22:54:42.474Z"
   },
   {
    "duration": 17608,
    "start_time": "2022-06-30T22:55:36.276Z"
   },
   {
    "duration": 5,
    "start_time": "2022-06-30T22:57:35.394Z"
   },
   {
    "duration": 14,
    "start_time": "2022-06-30T22:57:42.795Z"
   },
   {
    "duration": 195,
    "start_time": "2022-06-30T22:57:44.505Z"
   },
   {
    "duration": 20,
    "start_time": "2022-06-30T23:01:40.445Z"
   },
   {
    "duration": 12,
    "start_time": "2022-06-30T23:01:40.632Z"
   },
   {
    "duration": 16,
    "start_time": "2022-06-30T23:01:40.784Z"
   },
   {
    "duration": 11,
    "start_time": "2022-06-30T23:01:41.009Z"
   },
   {
    "duration": 4,
    "start_time": "2022-06-30T23:01:41.838Z"
   },
   {
    "duration": 4,
    "start_time": "2022-06-30T23:01:42.408Z"
   },
   {
    "duration": 46,
    "start_time": "2022-06-30T23:01:45.544Z"
   },
   {
    "duration": 26,
    "start_time": "2022-06-30T23:01:46.079Z"
   },
   {
    "duration": 72,
    "start_time": "2022-06-30T23:06:20.692Z"
   },
   {
    "duration": 8671,
    "start_time": "2022-06-30T23:07:41.556Z"
   },
   {
    "duration": 15806,
    "start_time": "2022-06-30T23:07:58.007Z"
   },
   {
    "duration": 4002,
    "start_time": "2022-06-30T23:08:35.697Z"
   },
   {
    "duration": 71397,
    "start_time": "2022-06-30T23:08:52.692Z"
   },
   {
    "duration": 127852,
    "start_time": "2022-06-30T23:10:12.342Z"
   },
   {
    "duration": 12974,
    "start_time": "2022-06-30T23:14:52.902Z"
   },
   {
    "duration": 9,
    "start_time": "2022-06-30T23:16:50.511Z"
   },
   {
    "duration": 86,
    "start_time": "2022-06-30T23:16:56.630Z"
   },
   {
    "duration": 4,
    "start_time": "2022-06-30T23:16:57.852Z"
   },
   {
    "duration": 25,
    "start_time": "2022-06-30T23:17:19.644Z"
   },
   {
    "duration": 929,
    "start_time": "2022-06-30T23:17:28.647Z"
   },
   {
    "duration": 6,
    "start_time": "2022-06-30T23:17:35.138Z"
   },
   {
    "duration": 7,
    "start_time": "2022-06-30T23:17:36.706Z"
   },
   {
    "duration": 6,
    "start_time": "2022-06-30T23:18:18.950Z"
   },
   {
    "duration": 241,
    "start_time": "2022-06-30T23:18:27.450Z"
   },
   {
    "duration": 3,
    "start_time": "2022-06-30T23:18:27.913Z"
   },
   {
    "duration": 952,
    "start_time": "2022-06-30T23:18:34.834Z"
   },
   {
    "duration": 6,
    "start_time": "2022-06-30T23:18:36.746Z"
   },
   {
    "duration": 731,
    "start_time": "2022-06-30T23:19:08.115Z"
   },
   {
    "duration": 3,
    "start_time": "2022-06-30T23:19:09.670Z"
   },
   {
    "duration": 955,
    "start_time": "2022-06-30T23:19:10.575Z"
   },
   {
    "duration": 5,
    "start_time": "2022-06-30T23:19:11.712Z"
   },
   {
    "duration": 7,
    "start_time": "2022-06-30T23:19:12.565Z"
   },
   {
    "duration": 5,
    "start_time": "2022-06-30T23:20:59.114Z"
   },
   {
    "duration": 5,
    "start_time": "2022-06-30T23:21:01.490Z"
   },
   {
    "duration": 5,
    "start_time": "2022-06-30T23:21:01.887Z"
   },
   {
    "duration": 11,
    "start_time": "2022-06-30T23:21:02.471Z"
   },
   {
    "duration": 5,
    "start_time": "2022-06-30T23:21:06.908Z"
   },
   {
    "duration": 446,
    "start_time": "2022-06-30T23:21:07.480Z"
   },
   {
    "duration": 34,
    "start_time": "2022-06-30T23:21:10.131Z"
   },
   {
    "duration": 7,
    "start_time": "2022-06-30T23:21:10.513Z"
   },
   {
    "duration": 3,
    "start_time": "2022-06-30T23:21:11.113Z"
   },
   {
    "duration": 4,
    "start_time": "2022-06-30T23:21:16.286Z"
   },
   {
    "duration": 18,
    "start_time": "2022-06-30T23:21:17.226Z"
   },
   {
    "duration": 470,
    "start_time": "2022-06-30T23:21:21.288Z"
   },
   {
    "duration": 6,
    "start_time": "2022-06-30T23:21:32.922Z"
   },
   {
    "duration": 6,
    "start_time": "2022-06-30T23:23:02.401Z"
   },
   {
    "duration": 26,
    "start_time": "2022-06-30T23:23:02.631Z"
   },
   {
    "duration": 8,
    "start_time": "2022-06-30T23:23:02.921Z"
   },
   {
    "duration": 7,
    "start_time": "2022-06-30T23:23:19.968Z"
   },
   {
    "duration": 21,
    "start_time": "2022-06-30T23:23:20.190Z"
   },
   {
    "duration": 10,
    "start_time": "2022-06-30T23:23:22.429Z"
   },
   {
    "duration": 3,
    "start_time": "2022-06-30T23:23:25.110Z"
   },
   {
    "duration": 12,
    "start_time": "2022-06-30T23:23:27.607Z"
   },
   {
    "duration": 11,
    "start_time": "2022-06-30T23:23:44.234Z"
   },
   {
    "duration": 20,
    "start_time": "2022-06-30T23:23:57.251Z"
   },
   {
    "duration": 6,
    "start_time": "2022-06-30T23:24:26.510Z"
   },
   {
    "duration": 20,
    "start_time": "2022-06-30T23:24:26.974Z"
   },
   {
    "duration": 3,
    "start_time": "2022-06-30T23:24:27.861Z"
   },
   {
    "duration": 4,
    "start_time": "2022-06-30T23:24:28.788Z"
   },
   {
    "duration": 49,
    "start_time": "2022-06-30T23:24:30.246Z"
   },
   {
    "duration": 5067,
    "start_time": "2022-06-30T23:40:17.858Z"
   },
   {
    "duration": 1467,
    "start_time": "2022-06-30T23:43:15.226Z"
   },
   {
    "duration": 2,
    "start_time": "2022-06-30T23:43:16.695Z"
   },
   {
    "duration": 276,
    "start_time": "2022-06-30T23:43:16.699Z"
   },
   {
    "duration": 2,
    "start_time": "2022-06-30T23:43:16.977Z"
   },
   {
    "duration": 9,
    "start_time": "2022-06-30T23:43:16.981Z"
   },
   {
    "duration": 67,
    "start_time": "2022-06-30T23:43:16.991Z"
   },
   {
    "duration": 3,
    "start_time": "2022-06-30T23:43:17.060Z"
   },
   {
    "duration": 8,
    "start_time": "2022-06-30T23:43:17.064Z"
   },
   {
    "duration": 5,
    "start_time": "2022-06-30T23:43:17.073Z"
   },
   {
    "duration": 6,
    "start_time": "2022-06-30T23:43:17.080Z"
   },
   {
    "duration": 4,
    "start_time": "2022-06-30T23:43:17.087Z"
   },
   {
    "duration": 71,
    "start_time": "2022-06-30T23:43:17.092Z"
   },
   {
    "duration": 3,
    "start_time": "2022-06-30T23:43:17.165Z"
   },
   {
    "duration": 15,
    "start_time": "2022-06-30T23:43:17.170Z"
   },
   {
    "duration": 12,
    "start_time": "2022-06-30T23:43:17.187Z"
   },
   {
    "duration": 170,
    "start_time": "2022-06-30T23:43:17.201Z"
   },
   {
    "duration": 141,
    "start_time": "2022-06-30T23:43:17.372Z"
   },
   {
    "duration": 12,
    "start_time": "2022-06-30T23:43:17.515Z"
   },
   {
    "duration": 12,
    "start_time": "2022-06-30T23:43:17.529Z"
   },
   {
    "duration": 14,
    "start_time": "2022-06-30T23:43:17.544Z"
   },
   {
    "duration": 12,
    "start_time": "2022-06-30T23:43:17.560Z"
   },
   {
    "duration": 13,
    "start_time": "2022-06-30T23:43:17.574Z"
   },
   {
    "duration": 6,
    "start_time": "2022-06-30T23:43:17.588Z"
   },
   {
    "duration": 19,
    "start_time": "2022-06-30T23:43:17.596Z"
   },
   {
    "duration": 8,
    "start_time": "2022-06-30T23:43:17.617Z"
   },
   {
    "duration": 130,
    "start_time": "2022-06-30T23:43:17.627Z"
   },
   {
    "duration": 3,
    "start_time": "2022-06-30T23:43:17.759Z"
   },
   {
    "duration": 151,
    "start_time": "2022-06-30T23:43:17.767Z"
   },
   {
    "duration": 7,
    "start_time": "2022-06-30T23:43:17.920Z"
   },
   {
    "duration": 7,
    "start_time": "2022-06-30T23:43:17.929Z"
   },
   {
    "duration": 218,
    "start_time": "2022-06-30T23:43:17.937Z"
   },
   {
    "duration": 4,
    "start_time": "2022-06-30T23:43:18.157Z"
   },
   {
    "duration": 10,
    "start_time": "2022-06-30T23:43:18.162Z"
   },
   {
    "duration": 132,
    "start_time": "2022-06-30T23:43:18.173Z"
   },
   {
    "duration": 5,
    "start_time": "2022-06-30T23:43:18.307Z"
   },
   {
    "duration": 20,
    "start_time": "2022-06-30T23:43:18.313Z"
   },
   {
    "duration": 12,
    "start_time": "2022-06-30T23:43:18.335Z"
   },
   {
    "duration": 12,
    "start_time": "2022-06-30T23:43:18.349Z"
   },
   {
    "duration": 6,
    "start_time": "2022-06-30T23:43:18.363Z"
   },
   {
    "duration": 128,
    "start_time": "2022-06-30T23:43:18.371Z"
   },
   {
    "duration": 4,
    "start_time": "2022-06-30T23:43:18.501Z"
   },
   {
    "duration": 14,
    "start_time": "2022-06-30T23:43:18.506Z"
   },
   {
    "duration": 6,
    "start_time": "2022-06-30T23:43:18.526Z"
   },
   {
    "duration": 6,
    "start_time": "2022-06-30T23:43:18.534Z"
   },
   {
    "duration": 119,
    "start_time": "2022-06-30T23:43:18.542Z"
   },
   {
    "duration": 3,
    "start_time": "2022-06-30T23:43:18.662Z"
   },
   {
    "duration": 8,
    "start_time": "2022-06-30T23:43:18.667Z"
   },
   {
    "duration": 7,
    "start_time": "2022-06-30T23:43:18.676Z"
   },
   {
    "duration": 7,
    "start_time": "2022-06-30T23:43:18.684Z"
   },
   {
    "duration": 6,
    "start_time": "2022-06-30T23:43:18.693Z"
   },
   {
    "duration": 25,
    "start_time": "2022-06-30T23:43:18.701Z"
   },
   {
    "duration": 15,
    "start_time": "2022-06-30T23:43:18.728Z"
   },
   {
    "duration": 7,
    "start_time": "2022-06-30T23:43:18.744Z"
   },
   {
    "duration": 8,
    "start_time": "2022-06-30T23:43:18.752Z"
   },
   {
    "duration": 11,
    "start_time": "2022-06-30T23:43:18.761Z"
   },
   {
    "duration": 35,
    "start_time": "2022-06-30T23:43:18.773Z"
   },
   {
    "duration": 17,
    "start_time": "2022-06-30T23:43:18.809Z"
   },
   {
    "duration": 9,
    "start_time": "2022-06-30T23:43:18.828Z"
   },
   {
    "duration": 9,
    "start_time": "2022-06-30T23:43:18.839Z"
   },
   {
    "duration": 23,
    "start_time": "2022-06-30T23:43:18.849Z"
   },
   {
    "duration": 4,
    "start_time": "2022-06-30T23:43:18.873Z"
   },
   {
    "duration": 11,
    "start_time": "2022-06-30T23:43:18.879Z"
   },
   {
    "duration": 6,
    "start_time": "2022-06-30T23:43:18.891Z"
   },
   {
    "duration": 93,
    "start_time": "2022-06-30T23:43:18.899Z"
   },
   {
    "duration": 4,
    "start_time": "2022-06-30T23:43:18.994Z"
   },
   {
    "duration": 27,
    "start_time": "2022-06-30T23:43:18.999Z"
   },
   {
    "duration": 12,
    "start_time": "2022-06-30T23:43:19.028Z"
   },
   {
    "duration": 16,
    "start_time": "2022-06-30T23:43:19.041Z"
   },
   {
    "duration": 10,
    "start_time": "2022-06-30T23:43:19.058Z"
   },
   {
    "duration": 22,
    "start_time": "2022-06-30T23:43:19.070Z"
   },
   {
    "duration": 4,
    "start_time": "2022-06-30T23:43:19.093Z"
   },
   {
    "duration": 10,
    "start_time": "2022-06-30T23:43:19.099Z"
   },
   {
    "duration": 20,
    "start_time": "2022-06-30T23:43:19.110Z"
   },
   {
    "duration": 8,
    "start_time": "2022-06-30T23:43:19.132Z"
   },
   {
    "duration": 5,
    "start_time": "2022-06-30T23:43:19.142Z"
   },
   {
    "duration": 7,
    "start_time": "2022-06-30T23:43:19.148Z"
   },
   {
    "duration": 184,
    "start_time": "2022-06-30T23:43:19.156Z"
   },
   {
    "duration": 4,
    "start_time": "2022-06-30T23:43:19.342Z"
   },
   {
    "duration": 12,
    "start_time": "2022-06-30T23:43:19.347Z"
   },
   {
    "duration": 29,
    "start_time": "2022-06-30T23:43:19.360Z"
   },
   {
    "duration": 7,
    "start_time": "2022-06-30T23:43:19.391Z"
   },
   {
    "duration": 9,
    "start_time": "2022-06-30T23:43:19.430Z"
   },
   {
    "duration": 5,
    "start_time": "2022-06-30T23:43:19.440Z"
   },
   {
    "duration": 21,
    "start_time": "2022-06-30T23:43:19.446Z"
   },
   {
    "duration": 4,
    "start_time": "2022-06-30T23:43:19.468Z"
   },
   {
    "duration": 6,
    "start_time": "2022-06-30T23:43:19.473Z"
   },
   {
    "duration": 159,
    "start_time": "2022-06-30T23:43:19.481Z"
   },
   {
    "duration": 3,
    "start_time": "2022-06-30T23:43:19.642Z"
   },
   {
    "duration": 9,
    "start_time": "2022-06-30T23:43:19.646Z"
   },
   {
    "duration": 128,
    "start_time": "2022-06-30T23:43:19.657Z"
   },
   {
    "duration": 5,
    "start_time": "2022-06-30T23:43:19.786Z"
   },
   {
    "duration": 6,
    "start_time": "2022-06-30T23:43:19.793Z"
   },
   {
    "duration": 136,
    "start_time": "2022-06-30T23:43:19.800Z"
   },
   {
    "duration": 3,
    "start_time": "2022-06-30T23:43:19.938Z"
   },
   {
    "duration": 12,
    "start_time": "2022-06-30T23:43:19.943Z"
   },
   {
    "duration": 10,
    "start_time": "2022-06-30T23:43:19.957Z"
   },
   {
    "duration": 4,
    "start_time": "2022-06-30T23:43:19.969Z"
   },
   {
    "duration": 20,
    "start_time": "2022-06-30T23:43:19.975Z"
   },
   {
    "duration": 3,
    "start_time": "2022-06-30T23:43:19.997Z"
   },
   {
    "duration": 27,
    "start_time": "2022-06-30T23:43:20.002Z"
   },
   {
    "duration": 8,
    "start_time": "2022-06-30T23:43:20.030Z"
   },
   {
    "duration": 7,
    "start_time": "2022-06-30T23:43:20.040Z"
   },
   {
    "duration": 9,
    "start_time": "2022-06-30T23:43:20.048Z"
   },
   {
    "duration": 3,
    "start_time": "2022-06-30T23:43:20.059Z"
   },
   {
    "duration": 11,
    "start_time": "2022-06-30T23:43:20.064Z"
   },
   {
    "duration": 5,
    "start_time": "2022-06-30T23:43:20.076Z"
   },
   {
    "duration": 6,
    "start_time": "2022-06-30T23:43:20.082Z"
   },
   {
    "duration": 57,
    "start_time": "2022-06-30T23:43:20.089Z"
   },
   {
    "duration": 13,
    "start_time": "2022-06-30T23:43:20.148Z"
   },
   {
    "duration": 19,
    "start_time": "2022-06-30T23:43:20.162Z"
   },
   {
    "duration": 12,
    "start_time": "2022-06-30T23:43:20.182Z"
   },
   {
    "duration": 11,
    "start_time": "2022-06-30T23:43:20.196Z"
   },
   {
    "duration": 13,
    "start_time": "2022-06-30T23:43:20.208Z"
   },
   {
    "duration": 54,
    "start_time": "2022-06-30T23:43:20.226Z"
   },
   {
    "duration": 30,
    "start_time": "2022-06-30T23:43:20.282Z"
   },
   {
    "duration": 5,
    "start_time": "2022-06-30T23:43:20.327Z"
   },
   {
    "duration": 8,
    "start_time": "2022-06-30T23:43:20.333Z"
   },
   {
    "duration": 12,
    "start_time": "2022-06-30T23:43:20.343Z"
   },
   {
    "duration": 16,
    "start_time": "2022-06-30T23:43:20.357Z"
   },
   {
    "duration": 16,
    "start_time": "2022-06-30T23:43:20.374Z"
   },
   {
    "duration": 31,
    "start_time": "2022-06-30T23:43:20.392Z"
   },
   {
    "duration": 6,
    "start_time": "2022-06-30T23:43:20.425Z"
   },
   {
    "duration": 18,
    "start_time": "2022-06-30T23:43:20.432Z"
   },
   {
    "duration": 18,
    "start_time": "2022-06-30T23:43:20.451Z"
   },
   {
    "duration": 8,
    "start_time": "2022-06-30T23:43:20.471Z"
   },
   {
    "duration": 13,
    "start_time": "2022-06-30T23:43:20.481Z"
   },
   {
    "duration": 11,
    "start_time": "2022-06-30T23:43:20.495Z"
   },
   {
    "duration": 883,
    "start_time": "2022-06-30T23:43:20.507Z"
   },
   {
    "duration": 6,
    "start_time": "2022-06-30T23:43:21.392Z"
   },
   {
    "duration": 10,
    "start_time": "2022-06-30T23:43:21.400Z"
   },
   {
    "duration": 20,
    "start_time": "2022-06-30T23:43:21.411Z"
   },
   {
    "duration": 214,
    "start_time": "2022-06-30T23:43:21.432Z"
   },
   {
    "duration": 103,
    "start_time": "2022-06-30T23:43:21.647Z"
   },
   {
    "duration": 15960,
    "start_time": "2022-06-30T23:43:21.752Z"
   },
   {
    "duration": 129363,
    "start_time": "2022-06-30T23:43:37.713Z"
   },
   {
    "duration": 17092,
    "start_time": "2022-06-30T23:45:47.078Z"
   },
   {
    "duration": 0,
    "start_time": "2022-06-30T23:46:04.171Z"
   },
   {
    "duration": 0,
    "start_time": "2022-06-30T23:46:04.173Z"
   },
   {
    "duration": 0,
    "start_time": "2022-06-30T23:46:04.174Z"
   },
   {
    "duration": 0,
    "start_time": "2022-06-30T23:46:04.175Z"
   },
   {
    "duration": 0,
    "start_time": "2022-06-30T23:46:04.176Z"
   },
   {
    "duration": 0,
    "start_time": "2022-06-30T23:46:04.177Z"
   },
   {
    "duration": 0,
    "start_time": "2022-06-30T23:46:04.178Z"
   },
   {
    "duration": 0,
    "start_time": "2022-06-30T23:46:04.179Z"
   },
   {
    "duration": 0,
    "start_time": "2022-06-30T23:46:04.180Z"
   },
   {
    "duration": 0,
    "start_time": "2022-06-30T23:46:04.181Z"
   },
   {
    "duration": 0,
    "start_time": "2022-06-30T23:46:04.182Z"
   },
   {
    "duration": 0,
    "start_time": "2022-06-30T23:46:04.183Z"
   },
   {
    "duration": 0,
    "start_time": "2022-06-30T23:46:04.184Z"
   },
   {
    "duration": 0,
    "start_time": "2022-06-30T23:46:04.185Z"
   },
   {
    "duration": 0,
    "start_time": "2022-06-30T23:46:04.186Z"
   },
   {
    "duration": 0,
    "start_time": "2022-06-30T23:46:04.187Z"
   },
   {
    "duration": 0,
    "start_time": "2022-06-30T23:46:04.188Z"
   },
   {
    "duration": 0,
    "start_time": "2022-06-30T23:46:04.189Z"
   },
   {
    "duration": 0,
    "start_time": "2022-06-30T23:46:04.190Z"
   },
   {
    "duration": 0,
    "start_time": "2022-06-30T23:46:04.191Z"
   },
   {
    "duration": 0,
    "start_time": "2022-06-30T23:46:04.192Z"
   },
   {
    "duration": 0,
    "start_time": "2022-06-30T23:46:04.226Z"
   },
   {
    "duration": 0,
    "start_time": "2022-06-30T23:46:04.227Z"
   },
   {
    "duration": 0,
    "start_time": "2022-06-30T23:46:04.229Z"
   },
   {
    "duration": 0,
    "start_time": "2022-06-30T23:46:04.230Z"
   },
   {
    "duration": 0,
    "start_time": "2022-06-30T23:46:04.230Z"
   },
   {
    "duration": 0,
    "start_time": "2022-06-30T23:46:04.231Z"
   },
   {
    "duration": 13925,
    "start_time": "2022-06-30T23:46:50.403Z"
   },
   {
    "duration": 2598,
    "start_time": "2022-06-30T23:47:08.460Z"
   },
   {
    "duration": 17,
    "start_time": "2022-06-30T23:48:01.439Z"
   },
   {
    "duration": 2495,
    "start_time": "2022-06-30T23:48:03.484Z"
   },
   {
    "duration": 17,
    "start_time": "2022-06-30T23:48:06.960Z"
   },
   {
    "duration": 11,
    "start_time": "2022-06-30T23:49:03.661Z"
   },
   {
    "duration": 12,
    "start_time": "2022-06-30T23:49:14.486Z"
   },
   {
    "duration": 11,
    "start_time": "2022-06-30T23:49:28.627Z"
   },
   {
    "duration": 132,
    "start_time": "2022-06-30T23:49:34.977Z"
   },
   {
    "duration": 10,
    "start_time": "2022-06-30T23:50:52.950Z"
   },
   {
    "duration": 8,
    "start_time": "2022-06-30T23:51:43.832Z"
   },
   {
    "duration": 106,
    "start_time": "2022-06-30T23:53:36.927Z"
   },
   {
    "duration": 3,
    "start_time": "2022-06-30T23:53:37.035Z"
   },
   {
    "duration": 981,
    "start_time": "2022-06-30T23:53:38.341Z"
   },
   {
    "duration": 7,
    "start_time": "2022-06-30T23:53:39.325Z"
   },
   {
    "duration": 6,
    "start_time": "2022-06-30T23:53:39.334Z"
   },
   {
    "duration": 778,
    "start_time": "2022-06-30T23:53:39.342Z"
   },
   {
    "duration": 5,
    "start_time": "2022-06-30T23:53:40.122Z"
   },
   {
    "duration": 970,
    "start_time": "2022-06-30T23:53:40.129Z"
   },
   {
    "duration": 5,
    "start_time": "2022-06-30T23:53:41.101Z"
   },
   {
    "duration": 19,
    "start_time": "2022-06-30T23:53:41.108Z"
   },
   {
    "duration": 4,
    "start_time": "2022-06-30T23:53:41.129Z"
   },
   {
    "duration": 12,
    "start_time": "2022-06-30T23:53:41.134Z"
   },
   {
    "duration": 12,
    "start_time": "2022-06-30T23:53:41.147Z"
   },
   {
    "duration": 22,
    "start_time": "2022-06-30T23:53:41.161Z"
   },
   {
    "duration": 14,
    "start_time": "2022-06-30T23:53:41.184Z"
   },
   {
    "duration": 465,
    "start_time": "2022-06-30T23:53:41.268Z"
   },
   {
    "duration": 37,
    "start_time": "2022-06-30T23:53:41.735Z"
   },
   {
    "duration": 6,
    "start_time": "2022-06-30T23:53:42.250Z"
   },
   {
    "duration": 3,
    "start_time": "2022-06-30T23:53:42.420Z"
   },
   {
    "duration": 3,
    "start_time": "2022-06-30T23:53:42.591Z"
   },
   {
    "duration": 447,
    "start_time": "2022-06-30T23:53:42.759Z"
   },
   {
    "duration": 6,
    "start_time": "2022-06-30T23:53:43.208Z"
   },
   {
    "duration": 6,
    "start_time": "2022-06-30T23:53:44.177Z"
   },
   {
    "duration": 24,
    "start_time": "2022-06-30T23:53:44.332Z"
   },
   {
    "duration": 2,
    "start_time": "2022-06-30T23:53:44.529Z"
   },
   {
    "duration": 4,
    "start_time": "2022-06-30T23:53:47.294Z"
   },
   {
    "duration": 818,
    "start_time": "2022-06-30T23:54:40.464Z"
   },
   {
    "duration": 13,
    "start_time": "2022-06-30T23:54:50.103Z"
   },
   {
    "duration": 19,
    "start_time": "2022-06-30T23:55:01.305Z"
   },
   {
    "duration": 19,
    "start_time": "2022-06-30T23:55:24.396Z"
   },
   {
    "duration": 14,
    "start_time": "2022-06-30T23:57:03.500Z"
   },
   {
    "duration": 7,
    "start_time": "2022-07-01T00:00:58.975Z"
   },
   {
    "duration": 5,
    "start_time": "2022-07-01T00:01:02.005Z"
   },
   {
    "duration": 5,
    "start_time": "2022-07-01T00:01:02.193Z"
   },
   {
    "duration": 5,
    "start_time": "2022-07-01T00:01:02.375Z"
   },
   {
    "duration": 13,
    "start_time": "2022-07-01T00:01:02.560Z"
   },
   {
    "duration": 5,
    "start_time": "2022-07-01T00:01:02.731Z"
   },
   {
    "duration": 430,
    "start_time": "2022-07-01T00:01:02.879Z"
   },
   {
    "duration": 31,
    "start_time": "2022-07-01T00:01:03.311Z"
   },
   {
    "duration": 5,
    "start_time": "2022-07-01T00:01:03.344Z"
   },
   {
    "duration": 3,
    "start_time": "2022-07-01T00:01:05.413Z"
   },
   {
    "duration": 4,
    "start_time": "2022-07-01T00:01:05.593Z"
   },
   {
    "duration": 471,
    "start_time": "2022-07-01T00:01:05.745Z"
   },
   {
    "duration": 9,
    "start_time": "2022-07-01T00:01:06.218Z"
   },
   {
    "duration": 6,
    "start_time": "2022-07-01T00:01:42.575Z"
   },
   {
    "duration": 3,
    "start_time": "2022-07-01T00:01:42.805Z"
   },
   {
    "duration": 111,
    "start_time": "2022-07-01T00:01:58.129Z"
   },
   {
    "duration": 3,
    "start_time": "2022-07-01T00:01:59.110Z"
   },
   {
    "duration": 5,
    "start_time": "2022-07-01T00:02:04.539Z"
   },
   {
    "duration": 5,
    "start_time": "2022-07-01T00:02:04.725Z"
   },
   {
    "duration": 5,
    "start_time": "2022-07-01T00:02:04.910Z"
   },
   {
    "duration": 12,
    "start_time": "2022-07-01T00:02:05.510Z"
   },
   {
    "duration": 5,
    "start_time": "2022-07-01T00:02:05.813Z"
   },
   {
    "duration": 464,
    "start_time": "2022-07-01T00:02:06.151Z"
   },
   {
    "duration": 27,
    "start_time": "2022-07-01T00:02:07.131Z"
   },
   {
    "duration": 6,
    "start_time": "2022-07-01T00:02:07.160Z"
   },
   {
    "duration": 4,
    "start_time": "2022-07-01T00:02:07.362Z"
   },
   {
    "duration": 4,
    "start_time": "2022-07-01T00:02:08.162Z"
   },
   {
    "duration": 454,
    "start_time": "2022-07-01T00:02:08.359Z"
   },
   {
    "duration": 12,
    "start_time": "2022-07-01T00:02:08.815Z"
   },
   {
    "duration": 456,
    "start_time": "2022-07-01T00:03:15.754Z"
   },
   {
    "duration": 7,
    "start_time": "2022-07-01T00:03:17.135Z"
   },
   {
    "duration": 1441,
    "start_time": "2022-07-01T00:03:29.426Z"
   },
   {
    "duration": 2,
    "start_time": "2022-07-01T00:03:30.870Z"
   },
   {
    "duration": 306,
    "start_time": "2022-07-01T00:03:30.874Z"
   },
   {
    "duration": 2,
    "start_time": "2022-07-01T00:03:31.182Z"
   },
   {
    "duration": 66,
    "start_time": "2022-07-01T00:03:31.186Z"
   },
   {
    "duration": 82,
    "start_time": "2022-07-01T00:03:31.254Z"
   },
   {
    "duration": 4,
    "start_time": "2022-07-01T00:03:31.338Z"
   },
   {
    "duration": 40,
    "start_time": "2022-07-01T00:03:31.343Z"
   },
   {
    "duration": 26,
    "start_time": "2022-07-01T00:03:31.385Z"
   },
   {
    "duration": 20,
    "start_time": "2022-07-01T00:03:31.414Z"
   },
   {
    "duration": 37,
    "start_time": "2022-07-01T00:03:31.435Z"
   },
   {
    "duration": 56,
    "start_time": "2022-07-01T00:03:31.473Z"
   },
   {
    "duration": 4,
    "start_time": "2022-07-01T00:03:31.532Z"
   },
   {
    "duration": 45,
    "start_time": "2022-07-01T00:03:31.538Z"
   },
   {
    "duration": 25,
    "start_time": "2022-07-01T00:03:31.585Z"
   },
   {
    "duration": 180,
    "start_time": "2022-07-01T00:03:31.612Z"
   },
   {
    "duration": 136,
    "start_time": "2022-07-01T00:03:31.794Z"
   },
   {
    "duration": 3,
    "start_time": "2022-07-01T00:03:31.932Z"
   },
   {
    "duration": 15,
    "start_time": "2022-07-01T00:03:31.936Z"
   },
   {
    "duration": 9,
    "start_time": "2022-07-01T00:03:31.952Z"
   },
   {
    "duration": 37,
    "start_time": "2022-07-01T00:03:31.963Z"
   },
   {
    "duration": 15,
    "start_time": "2022-07-01T00:03:32.002Z"
   },
   {
    "duration": 22,
    "start_time": "2022-07-01T00:03:32.019Z"
   },
   {
    "duration": 19,
    "start_time": "2022-07-01T00:03:32.042Z"
   },
   {
    "duration": 4,
    "start_time": "2022-07-01T00:03:32.062Z"
   },
   {
    "duration": 152,
    "start_time": "2022-07-01T00:03:32.068Z"
   },
   {
    "duration": 5,
    "start_time": "2022-07-01T00:03:32.221Z"
   },
   {
    "duration": 161,
    "start_time": "2022-07-01T00:03:32.230Z"
   },
   {
    "duration": 3,
    "start_time": "2022-07-01T00:03:32.393Z"
   },
   {
    "duration": 8,
    "start_time": "2022-07-01T00:03:32.398Z"
   },
   {
    "duration": 206,
    "start_time": "2022-07-01T00:03:32.407Z"
   },
   {
    "duration": 3,
    "start_time": "2022-07-01T00:03:32.614Z"
   },
   {
    "duration": 10,
    "start_time": "2022-07-01T00:03:32.619Z"
   },
   {
    "duration": 118,
    "start_time": "2022-07-01T00:03:32.631Z"
   },
   {
    "duration": 4,
    "start_time": "2022-07-01T00:03:32.750Z"
   },
   {
    "duration": 12,
    "start_time": "2022-07-01T00:03:32.755Z"
   },
   {
    "duration": 6,
    "start_time": "2022-07-01T00:03:32.768Z"
   },
   {
    "duration": 11,
    "start_time": "2022-07-01T00:03:32.775Z"
   },
   {
    "duration": 5,
    "start_time": "2022-07-01T00:03:32.788Z"
   },
   {
    "duration": 137,
    "start_time": "2022-07-01T00:03:32.795Z"
   },
   {
    "duration": 4,
    "start_time": "2022-07-01T00:03:32.934Z"
   },
   {
    "duration": 7,
    "start_time": "2022-07-01T00:03:32.939Z"
   },
   {
    "duration": 6,
    "start_time": "2022-07-01T00:03:32.947Z"
   },
   {
    "duration": 5,
    "start_time": "2022-07-01T00:03:32.954Z"
   },
   {
    "duration": 117,
    "start_time": "2022-07-01T00:03:32.960Z"
   },
   {
    "duration": 3,
    "start_time": "2022-07-01T00:03:33.079Z"
   },
   {
    "duration": 7,
    "start_time": "2022-07-01T00:03:33.083Z"
   },
   {
    "duration": 7,
    "start_time": "2022-07-01T00:03:33.091Z"
   },
   {
    "duration": 4,
    "start_time": "2022-07-01T00:03:33.099Z"
   },
   {
    "duration": 4,
    "start_time": "2022-07-01T00:03:33.125Z"
   },
   {
    "duration": 5,
    "start_time": "2022-07-01T00:03:33.131Z"
   },
   {
    "duration": 5,
    "start_time": "2022-07-01T00:03:33.137Z"
   },
   {
    "duration": 6,
    "start_time": "2022-07-01T00:03:33.143Z"
   },
   {
    "duration": 3,
    "start_time": "2022-07-01T00:03:33.151Z"
   },
   {
    "duration": 11,
    "start_time": "2022-07-01T00:03:33.155Z"
   },
   {
    "duration": 33,
    "start_time": "2022-07-01T00:03:33.168Z"
   },
   {
    "duration": 30,
    "start_time": "2022-07-01T00:03:33.203Z"
   },
   {
    "duration": 9,
    "start_time": "2022-07-01T00:03:33.235Z"
   },
   {
    "duration": 9,
    "start_time": "2022-07-01T00:03:33.246Z"
   },
   {
    "duration": 20,
    "start_time": "2022-07-01T00:03:33.256Z"
   },
   {
    "duration": 5,
    "start_time": "2022-07-01T00:03:33.277Z"
   },
   {
    "duration": 43,
    "start_time": "2022-07-01T00:03:33.283Z"
   },
   {
    "duration": 5,
    "start_time": "2022-07-01T00:03:33.328Z"
   },
   {
    "duration": 68,
    "start_time": "2022-07-01T00:03:33.334Z"
   },
   {
    "duration": 4,
    "start_time": "2022-07-01T00:03:33.404Z"
   },
   {
    "duration": 9,
    "start_time": "2022-07-01T00:03:33.426Z"
   },
   {
    "duration": 12,
    "start_time": "2022-07-01T00:03:33.437Z"
   },
   {
    "duration": 14,
    "start_time": "2022-07-01T00:03:33.450Z"
   },
   {
    "duration": 8,
    "start_time": "2022-07-01T00:03:33.465Z"
   },
   {
    "duration": 26,
    "start_time": "2022-07-01T00:03:33.475Z"
   },
   {
    "duration": 4,
    "start_time": "2022-07-01T00:03:33.502Z"
   },
   {
    "duration": 21,
    "start_time": "2022-07-01T00:03:33.507Z"
   },
   {
    "duration": 12,
    "start_time": "2022-07-01T00:03:33.530Z"
   },
   {
    "duration": 8,
    "start_time": "2022-07-01T00:03:33.544Z"
   },
   {
    "duration": 10,
    "start_time": "2022-07-01T00:03:33.553Z"
   },
   {
    "duration": 7,
    "start_time": "2022-07-01T00:03:33.564Z"
   },
   {
    "duration": 162,
    "start_time": "2022-07-01T00:03:33.573Z"
   },
   {
    "duration": 4,
    "start_time": "2022-07-01T00:03:33.737Z"
   },
   {
    "duration": 12,
    "start_time": "2022-07-01T00:03:33.742Z"
   },
   {
    "duration": 30,
    "start_time": "2022-07-01T00:03:33.755Z"
   },
   {
    "duration": 11,
    "start_time": "2022-07-01T00:03:33.787Z"
   },
   {
    "duration": 27,
    "start_time": "2022-07-01T00:03:33.805Z"
   },
   {
    "duration": 4,
    "start_time": "2022-07-01T00:03:33.833Z"
   },
   {
    "duration": 20,
    "start_time": "2022-07-01T00:03:33.839Z"
   },
   {
    "duration": 3,
    "start_time": "2022-07-01T00:03:33.861Z"
   },
   {
    "duration": 5,
    "start_time": "2022-07-01T00:03:33.866Z"
   },
   {
    "duration": 162,
    "start_time": "2022-07-01T00:03:33.873Z"
   },
   {
    "duration": 4,
    "start_time": "2022-07-01T00:03:34.037Z"
   },
   {
    "duration": 6,
    "start_time": "2022-07-01T00:03:34.043Z"
   },
   {
    "duration": 131,
    "start_time": "2022-07-01T00:03:34.051Z"
   },
   {
    "duration": 6,
    "start_time": "2022-07-01T00:03:34.184Z"
   },
   {
    "duration": 6,
    "start_time": "2022-07-01T00:03:34.192Z"
   },
   {
    "duration": 129,
    "start_time": "2022-07-01T00:03:34.200Z"
   },
   {
    "duration": 3,
    "start_time": "2022-07-01T00:03:34.331Z"
   },
   {
    "duration": 25,
    "start_time": "2022-07-01T00:03:34.336Z"
   },
   {
    "duration": 15,
    "start_time": "2022-07-01T00:03:34.363Z"
   },
   {
    "duration": 7,
    "start_time": "2022-07-01T00:03:34.380Z"
   },
   {
    "duration": 26,
    "start_time": "2022-07-01T00:03:34.389Z"
   },
   {
    "duration": 12,
    "start_time": "2022-07-01T00:03:34.417Z"
   },
   {
    "duration": 8,
    "start_time": "2022-07-01T00:03:34.431Z"
   },
   {
    "duration": 6,
    "start_time": "2022-07-01T00:03:34.441Z"
   },
   {
    "duration": 11,
    "start_time": "2022-07-01T00:03:34.449Z"
   },
   {
    "duration": 11,
    "start_time": "2022-07-01T00:03:34.462Z"
   },
   {
    "duration": 5,
    "start_time": "2022-07-01T00:03:34.475Z"
   },
   {
    "duration": 13,
    "start_time": "2022-07-01T00:03:34.482Z"
   },
   {
    "duration": 6,
    "start_time": "2022-07-01T00:03:34.496Z"
   },
   {
    "duration": 22,
    "start_time": "2022-07-01T00:03:34.504Z"
   },
   {
    "duration": 34,
    "start_time": "2022-07-01T00:03:34.527Z"
   },
   {
    "duration": 14,
    "start_time": "2022-07-01T00:03:34.562Z"
   },
   {
    "duration": 14,
    "start_time": "2022-07-01T00:03:34.578Z"
   },
   {
    "duration": 32,
    "start_time": "2022-07-01T00:03:34.594Z"
   },
   {
    "duration": 4,
    "start_time": "2022-07-01T00:03:34.628Z"
   },
   {
    "duration": 6,
    "start_time": "2022-07-01T00:03:34.633Z"
   },
   {
    "duration": 58,
    "start_time": "2022-07-01T00:03:34.640Z"
   },
   {
    "duration": 44,
    "start_time": "2022-07-01T00:03:34.699Z"
   },
   {
    "duration": 4,
    "start_time": "2022-07-01T00:03:34.745Z"
   },
   {
    "duration": 6,
    "start_time": "2022-07-01T00:03:34.751Z"
   },
   {
    "duration": 8,
    "start_time": "2022-07-01T00:03:34.758Z"
   },
   {
    "duration": 6,
    "start_time": "2022-07-01T00:03:34.767Z"
   },
   {
    "duration": 8,
    "start_time": "2022-07-01T00:03:34.774Z"
   },
   {
    "duration": 42,
    "start_time": "2022-07-01T00:03:34.784Z"
   },
   {
    "duration": 6,
    "start_time": "2022-07-01T00:03:34.828Z"
   },
   {
    "duration": 11,
    "start_time": "2022-07-01T00:03:34.836Z"
   },
   {
    "duration": 5,
    "start_time": "2022-07-01T00:03:34.849Z"
   },
   {
    "duration": 10,
    "start_time": "2022-07-01T00:03:34.855Z"
   },
   {
    "duration": 14,
    "start_time": "2022-07-01T00:03:34.866Z"
   },
   {
    "duration": 9,
    "start_time": "2022-07-01T00:03:34.881Z"
   },
   {
    "duration": 863,
    "start_time": "2022-07-01T00:03:34.891Z"
   },
   {
    "duration": 7,
    "start_time": "2022-07-01T00:03:35.755Z"
   },
   {
    "duration": 27,
    "start_time": "2022-07-01T00:03:35.763Z"
   },
   {
    "duration": 32,
    "start_time": "2022-07-01T00:03:35.792Z"
   },
   {
    "duration": 208,
    "start_time": "2022-07-01T00:03:35.826Z"
   },
   {
    "duration": 99,
    "start_time": "2022-07-01T00:03:36.036Z"
   },
   {
    "duration": 16056,
    "start_time": "2022-07-01T00:03:36.137Z"
   },
   {
    "duration": 125149,
    "start_time": "2022-07-01T00:03:52.194Z"
   },
   {
    "duration": 14396,
    "start_time": "2022-07-01T00:05:57.345Z"
   },
   {
    "duration": 2535,
    "start_time": "2022-07-01T00:06:11.830Z"
   },
   {
    "duration": 165,
    "start_time": "2022-07-01T00:06:14.366Z"
   },
   {
    "duration": 8,
    "start_time": "2022-07-01T00:06:14.533Z"
   },
   {
    "duration": 118,
    "start_time": "2022-07-01T00:06:14.543Z"
   },
   {
    "duration": 3,
    "start_time": "2022-07-01T00:06:14.663Z"
   },
   {
    "duration": 926,
    "start_time": "2022-07-01T00:06:14.668Z"
   },
   {
    "duration": 7,
    "start_time": "2022-07-01T00:06:15.596Z"
   },
   {
    "duration": 7,
    "start_time": "2022-07-01T00:06:15.604Z"
   },
   {
    "duration": 685,
    "start_time": "2022-07-01T00:06:15.625Z"
   },
   {
    "duration": 3,
    "start_time": "2022-07-01T00:06:16.312Z"
   },
   {
    "duration": 933,
    "start_time": "2022-07-01T00:06:16.317Z"
   },
   {
    "duration": 5,
    "start_time": "2022-07-01T00:06:17.252Z"
   },
   {
    "duration": 7,
    "start_time": "2022-07-01T00:06:17.259Z"
   },
   {
    "duration": 8,
    "start_time": "2022-07-01T00:06:17.267Z"
   },
   {
    "duration": 7,
    "start_time": "2022-07-01T00:06:17.277Z"
   },
   {
    "duration": 12,
    "start_time": "2022-07-01T00:06:17.286Z"
   },
   {
    "duration": 27,
    "start_time": "2022-07-01T00:06:17.299Z"
   },
   {
    "duration": 4,
    "start_time": "2022-07-01T00:06:17.328Z"
   },
   {
    "duration": 438,
    "start_time": "2022-07-01T00:06:17.334Z"
   },
   {
    "duration": 33,
    "start_time": "2022-07-01T00:06:17.774Z"
   },
   {
    "duration": 19,
    "start_time": "2022-07-01T00:06:17.809Z"
   },
   {
    "duration": 4,
    "start_time": "2022-07-01T00:06:17.829Z"
   },
   {
    "duration": 7,
    "start_time": "2022-07-01T00:06:17.834Z"
   },
   {
    "duration": 476,
    "start_time": "2022-07-01T00:06:17.843Z"
   },
   {
    "duration": 8,
    "start_time": "2022-07-01T00:06:18.321Z"
   },
   {
    "duration": 14,
    "start_time": "2022-07-01T00:06:18.330Z"
   },
   {
    "duration": 26,
    "start_time": "2022-07-01T00:06:18.346Z"
   },
   {
    "duration": 3,
    "start_time": "2022-07-01T00:06:18.374Z"
   },
   {
    "duration": 6,
    "start_time": "2022-07-01T00:06:18.378Z"
   },
   {
    "duration": 41,
    "start_time": "2022-07-01T00:06:18.386Z"
   },
   {
    "duration": 4,
    "start_time": "2022-07-01T00:08:41.649Z"
   },
   {
    "duration": 6,
    "start_time": "2022-07-01T00:08:45.370Z"
   },
   {
    "duration": 3,
    "start_time": "2022-07-01T00:08:46.149Z"
   },
   {
    "duration": 104,
    "start_time": "2022-07-01T00:10:13.983Z"
   },
   {
    "duration": 3,
    "start_time": "2022-07-01T00:10:15.480Z"
   },
   {
    "duration": 897,
    "start_time": "2022-07-01T00:10:22.642Z"
   },
   {
    "duration": 6,
    "start_time": "2022-07-01T00:10:34.091Z"
   },
   {
    "duration": 7,
    "start_time": "2022-07-01T00:10:34.498Z"
   },
   {
    "duration": 709,
    "start_time": "2022-07-01T00:10:42.206Z"
   },
   {
    "duration": 3,
    "start_time": "2022-07-01T00:10:42.917Z"
   },
   {
    "duration": 943,
    "start_time": "2022-07-01T00:10:43.786Z"
   },
   {
    "duration": 5,
    "start_time": "2022-07-01T00:10:44.731Z"
   },
   {
    "duration": 6,
    "start_time": "2022-07-01T00:10:44.825Z"
   },
   {
    "duration": 5,
    "start_time": "2022-07-01T00:11:01.250Z"
   },
   {
    "duration": 5,
    "start_time": "2022-07-01T00:11:02.445Z"
   },
   {
    "duration": 5,
    "start_time": "2022-07-01T00:11:03.228Z"
   },
   {
    "duration": 15,
    "start_time": "2022-07-01T00:11:04.320Z"
   },
   {
    "duration": 5,
    "start_time": "2022-07-01T00:11:05.149Z"
   },
   {
    "duration": 425,
    "start_time": "2022-07-01T00:11:05.992Z"
   },
   {
    "duration": 26,
    "start_time": "2022-07-01T00:11:06.623Z"
   },
   {
    "duration": 6,
    "start_time": "2022-07-01T00:11:07.329Z"
   },
   {
    "duration": 4,
    "start_time": "2022-07-01T00:11:08.039Z"
   },
   {
    "duration": 4,
    "start_time": "2022-07-01T00:11:21.119Z"
   },
   {
    "duration": 453,
    "start_time": "2022-07-01T00:11:21.802Z"
   },
   {
    "duration": 6,
    "start_time": "2022-07-01T00:11:24.537Z"
   },
   {
    "duration": 1265,
    "start_time": "2022-07-01T00:12:15.386Z"
   },
   {
    "duration": 2,
    "start_time": "2022-07-01T00:12:16.653Z"
   },
   {
    "duration": 292,
    "start_time": "2022-07-01T00:12:16.657Z"
   },
   {
    "duration": 2,
    "start_time": "2022-07-01T00:12:17.598Z"
   },
   {
    "duration": 5,
    "start_time": "2022-07-01T00:12:17.806Z"
   },
   {
    "duration": 62,
    "start_time": "2022-07-01T00:12:17.994Z"
   },
   {
    "duration": 3,
    "start_time": "2022-07-01T00:12:18.184Z"
   },
   {
    "duration": 4,
    "start_time": "2022-07-01T00:12:18.339Z"
   },
   {
    "duration": 4,
    "start_time": "2022-07-01T00:12:19.167Z"
   },
   {
    "duration": 4,
    "start_time": "2022-07-01T00:12:19.319Z"
   },
   {
    "duration": 3,
    "start_time": "2022-07-01T00:12:19.825Z"
   },
   {
    "duration": 45,
    "start_time": "2022-07-01T00:12:19.900Z"
   },
   {
    "duration": 3,
    "start_time": "2022-07-01T00:12:20.405Z"
   },
   {
    "duration": 5,
    "start_time": "2022-07-01T00:12:20.492Z"
   },
   {
    "duration": 5,
    "start_time": "2022-07-01T00:12:20.572Z"
   },
   {
    "duration": 159,
    "start_time": "2022-07-01T00:12:20.656Z"
   },
   {
    "duration": 143,
    "start_time": "2022-07-01T00:12:20.817Z"
   },
   {
    "duration": 3,
    "start_time": "2022-07-01T00:12:21.078Z"
   },
   {
    "duration": 4,
    "start_time": "2022-07-01T00:12:21.157Z"
   },
   {
    "duration": 5,
    "start_time": "2022-07-01T00:12:21.492Z"
   },
   {
    "duration": 7,
    "start_time": "2022-07-01T00:12:21.577Z"
   },
   {
    "duration": 9,
    "start_time": "2022-07-01T00:12:21.743Z"
   },
   {
    "duration": 7,
    "start_time": "2022-07-01T00:12:21.825Z"
   },
   {
    "duration": 17,
    "start_time": "2022-07-01T00:12:21.910Z"
   },
   {
    "duration": 4,
    "start_time": "2022-07-01T00:12:22.248Z"
   },
   {
    "duration": 130,
    "start_time": "2022-07-01T00:12:22.324Z"
   },
   {
    "duration": 4,
    "start_time": "2022-07-01T00:12:22.664Z"
   },
   {
    "duration": 134,
    "start_time": "2022-07-01T00:12:22.749Z"
   },
   {
    "duration": 3,
    "start_time": "2022-07-01T00:12:23.081Z"
   },
   {
    "duration": 4,
    "start_time": "2022-07-01T00:12:23.163Z"
   },
   {
    "duration": 189,
    "start_time": "2022-07-01T00:12:23.246Z"
   },
   {
    "duration": 4,
    "start_time": "2022-07-01T00:12:23.580Z"
   },
   {
    "duration": 4,
    "start_time": "2022-07-01T00:12:23.662Z"
   },
   {
    "duration": 107,
    "start_time": "2022-07-01T00:12:23.744Z"
   },
   {
    "duration": 4,
    "start_time": "2022-07-01T00:12:24.090Z"
   },
   {
    "duration": 4,
    "start_time": "2022-07-01T00:12:24.166Z"
   },
   {
    "duration": 4,
    "start_time": "2022-07-01T00:12:24.500Z"
   },
   {
    "duration": 4,
    "start_time": "2022-07-01T00:12:24.580Z"
   },
   {
    "duration": 5,
    "start_time": "2022-07-01T00:12:24.662Z"
   },
   {
    "duration": 114,
    "start_time": "2022-07-01T00:12:24.744Z"
   },
   {
    "duration": 3,
    "start_time": "2022-07-01T00:12:25.081Z"
   },
   {
    "duration": 4,
    "start_time": "2022-07-01T00:12:25.164Z"
   },
   {
    "duration": 5,
    "start_time": "2022-07-01T00:12:25.249Z"
   },
   {
    "duration": 5,
    "start_time": "2022-07-01T00:12:25.332Z"
   },
   {
    "duration": 95,
    "start_time": "2022-07-01T00:12:25.413Z"
   },
   {
    "duration": 3,
    "start_time": "2022-07-01T00:12:25.749Z"
   },
   {
    "duration": 4,
    "start_time": "2022-07-01T00:12:25.830Z"
   },
   {
    "duration": 5,
    "start_time": "2022-07-01T00:12:25.917Z"
   },
   {
    "duration": 6,
    "start_time": "2022-07-01T00:12:26.082Z"
   },
   {
    "duration": 5,
    "start_time": "2022-07-01T00:12:26.167Z"
   },
   {
    "duration": 4,
    "start_time": "2022-07-01T00:12:26.252Z"
   },
   {
    "duration": 4,
    "start_time": "2022-07-01T00:12:26.334Z"
   },
   {
    "duration": 4,
    "start_time": "2022-07-01T00:12:26.415Z"
   },
   {
    "duration": 4,
    "start_time": "2022-07-01T00:12:27.014Z"
   },
   {
    "duration": 8,
    "start_time": "2022-07-01T00:12:27.088Z"
   },
   {
    "duration": 32,
    "start_time": "2022-07-01T00:12:27.172Z"
   },
   {
    "duration": 8,
    "start_time": "2022-07-01T00:12:27.255Z"
   },
   {
    "duration": 9,
    "start_time": "2022-07-01T00:12:27.421Z"
   },
   {
    "duration": 8,
    "start_time": "2022-07-01T00:12:27.504Z"
   },
   {
    "duration": 16,
    "start_time": "2022-07-01T00:12:27.670Z"
   },
   {
    "duration": 4,
    "start_time": "2022-07-01T00:12:28.004Z"
   },
   {
    "duration": 7,
    "start_time": "2022-07-01T00:12:28.086Z"
   },
   {
    "duration": 3,
    "start_time": "2022-07-01T00:12:28.170Z"
   },
   {
    "duration": 63,
    "start_time": "2022-07-01T00:12:28.253Z"
   },
   {
    "duration": 3,
    "start_time": "2022-07-01T00:12:28.671Z"
   },
   {
    "duration": 7,
    "start_time": "2022-07-01T00:12:28.756Z"
   },
   {
    "duration": 13,
    "start_time": "2022-07-01T00:12:28.936Z"
   },
   {
    "duration": 10,
    "start_time": "2022-07-01T00:12:31.114Z"
   },
   {
    "duration": 4,
    "start_time": "2022-07-01T00:12:31.262Z"
   },
   {
    "duration": 17,
    "start_time": "2022-07-01T00:12:34.133Z"
   },
   {
    "duration": 4,
    "start_time": "2022-07-01T00:12:34.788Z"
   },
   {
    "duration": 4,
    "start_time": "2022-07-01T00:12:34.866Z"
   },
   {
    "duration": 3,
    "start_time": "2022-07-01T00:12:35.218Z"
   },
   {
    "duration": 5,
    "start_time": "2022-07-01T00:12:35.376Z"
   },
   {
    "duration": 4,
    "start_time": "2022-07-01T00:12:38.656Z"
   },
   {
    "duration": 6,
    "start_time": "2022-07-01T00:12:38.745Z"
   },
   {
    "duration": 165,
    "start_time": "2022-07-01T00:12:38.834Z"
   },
   {
    "duration": 3,
    "start_time": "2022-07-01T00:12:39.243Z"
   },
   {
    "duration": 9,
    "start_time": "2022-07-01T00:12:39.328Z"
   },
   {
    "duration": 29,
    "start_time": "2022-07-01T00:12:42.492Z"
   },
   {
    "duration": 7,
    "start_time": "2022-07-01T00:12:42.717Z"
   },
   {
    "duration": 9,
    "start_time": "2022-07-01T00:12:43.185Z"
   },
   {
    "duration": 3,
    "start_time": "2022-07-01T00:12:43.490Z"
   },
   {
    "duration": 15,
    "start_time": "2022-07-01T00:12:43.922Z"
   },
   {
    "duration": 4,
    "start_time": "2022-07-01T00:12:44.486Z"
   },
   {
    "duration": 5,
    "start_time": "2022-07-01T00:12:44.785Z"
   },
   {
    "duration": 145,
    "start_time": "2022-07-01T00:12:45.117Z"
   },
   {
    "duration": 4,
    "start_time": "2022-07-01T00:12:46.584Z"
   },
   {
    "duration": 4,
    "start_time": "2022-07-01T00:12:46.812Z"
   },
   {
    "duration": 121,
    "start_time": "2022-07-01T00:12:47.033Z"
   },
   {
    "duration": 6,
    "start_time": "2022-07-01T00:12:47.505Z"
   },
   {
    "duration": 5,
    "start_time": "2022-07-01T00:12:48.037Z"
   },
   {
    "duration": 116,
    "start_time": "2022-07-01T00:12:48.267Z"
   },
   {
    "duration": 3,
    "start_time": "2022-07-01T00:12:49.317Z"
   },
   {
    "duration": 8,
    "start_time": "2022-07-01T00:12:49.513Z"
   },
   {
    "duration": 9,
    "start_time": "2022-07-01T00:12:49.697Z"
   },
   {
    "duration": 5,
    "start_time": "2022-07-01T00:12:49.923Z"
   },
   {
    "duration": 20,
    "start_time": "2022-07-01T00:12:50.368Z"
   },
   {
    "duration": 4,
    "start_time": "2022-07-01T00:12:51.181Z"
   },
   {
    "duration": 3,
    "start_time": "2022-07-01T00:12:51.365Z"
   },
   {
    "duration": 5,
    "start_time": "2022-07-01T00:12:51.717Z"
   },
   {
    "duration": 5,
    "start_time": "2022-07-01T00:12:52.349Z"
   },
   {
    "duration": 5,
    "start_time": "2022-07-01T00:12:52.681Z"
   },
   {
    "duration": 4,
    "start_time": "2022-07-01T00:12:53.692Z"
   },
   {
    "duration": 4,
    "start_time": "2022-07-01T00:12:53.901Z"
   },
   {
    "duration": 3,
    "start_time": "2022-07-01T00:12:55.257Z"
   },
   {
    "duration": 3,
    "start_time": "2022-07-01T00:12:55.497Z"
   },
   {
    "duration": 40,
    "start_time": "2022-07-01T00:12:56.133Z"
   },
   {
    "duration": 14,
    "start_time": "2022-07-01T00:12:56.342Z"
   },
   {
    "duration": 5,
    "start_time": "2022-07-01T00:13:41.009Z"
   },
   {
    "duration": 5,
    "start_time": "2022-07-01T00:13:41.365Z"
   },
   {
    "duration": 7,
    "start_time": "2022-07-01T00:13:41.571Z"
   },
   {
    "duration": 5,
    "start_time": "2022-07-01T00:13:41.794Z"
   },
   {
    "duration": 7,
    "start_time": "2022-07-01T00:13:41.977Z"
   },
   {
    "duration": 20,
    "start_time": "2022-07-01T00:13:42.166Z"
   },
   {
    "duration": 6,
    "start_time": "2022-07-01T00:13:42.322Z"
   },
   {
    "duration": 4,
    "start_time": "2022-07-01T00:13:42.514Z"
   },
   {
    "duration": 3,
    "start_time": "2022-07-01T00:13:42.689Z"
   },
   {
    "duration": 3,
    "start_time": "2022-07-01T00:13:45.195Z"
   },
   {
    "duration": 4,
    "start_time": "2022-07-01T00:13:45.587Z"
   },
   {
    "duration": 3,
    "start_time": "2022-07-01T00:13:49.485Z"
   },
   {
    "duration": 856,
    "start_time": "2022-07-01T00:13:49.870Z"
   },
   {
    "duration": 6,
    "start_time": "2022-07-01T00:13:52.103Z"
   },
   {
    "duration": 4,
    "start_time": "2022-07-01T00:13:52.303Z"
   },
   {
    "duration": 14,
    "start_time": "2022-07-01T00:13:55.370Z"
   },
   {
    "duration": 215,
    "start_time": "2022-07-01T00:13:58.426Z"
   },
   {
    "duration": 21,
    "start_time": "2022-07-01T00:14:20.659Z"
   },
   {
    "duration": 14,
    "start_time": "2022-07-01T00:14:20.817Z"
   },
   {
    "duration": 14,
    "start_time": "2022-07-01T00:14:20.979Z"
   },
   {
    "duration": 11,
    "start_time": "2022-07-01T00:14:21.158Z"
   },
   {
    "duration": 3,
    "start_time": "2022-07-01T00:14:21.327Z"
   },
   {
    "duration": 3,
    "start_time": "2022-07-01T00:14:21.610Z"
   },
   {
    "duration": 63,
    "start_time": "2022-07-01T00:14:24.401Z"
   },
   {
    "duration": 27,
    "start_time": "2022-07-01T00:14:24.995Z"
   },
   {
    "duration": 86,
    "start_time": "2022-07-01T00:14:31.926Z"
   },
   {
    "duration": 4827,
    "start_time": "2022-07-01T00:14:44.627Z"
   },
   {
    "duration": 41492,
    "start_time": "2022-07-01T00:14:52.774Z"
   },
   {
    "duration": 13637,
    "start_time": "2022-07-01T00:15:39.991Z"
   },
   {
    "duration": 2538,
    "start_time": "2022-07-01T00:15:53.631Z"
   },
   {
    "duration": 150,
    "start_time": "2022-07-01T00:15:59.091Z"
   },
   {
    "duration": 8,
    "start_time": "2022-07-01T00:16:32.642Z"
   },
   {
    "duration": 98,
    "start_time": "2022-07-01T00:16:38.744Z"
   },
   {
    "duration": 4,
    "start_time": "2022-07-01T00:16:41.274Z"
   },
   {
    "duration": 946,
    "start_time": "2022-07-01T00:16:44.150Z"
   },
   {
    "duration": 6,
    "start_time": "2022-07-01T00:16:45.098Z"
   },
   {
    "duration": 10,
    "start_time": "2022-07-01T00:16:45.105Z"
   },
   {
    "duration": 561,
    "start_time": "2022-07-01T00:17:07.334Z"
   },
   {
    "duration": 4,
    "start_time": "2022-07-01T00:17:09.070Z"
   },
   {
    "duration": 922,
    "start_time": "2022-07-01T00:17:09.381Z"
   },
   {
    "duration": 5,
    "start_time": "2022-07-01T00:17:10.305Z"
   },
   {
    "duration": 15,
    "start_time": "2022-07-01T00:17:10.312Z"
   },
   {
    "duration": 5,
    "start_time": "2022-07-01T00:17:41.511Z"
   },
   {
    "duration": 6,
    "start_time": "2022-07-01T00:17:41.696Z"
   },
   {
    "duration": 5,
    "start_time": "2022-07-01T00:17:41.867Z"
   },
   {
    "duration": 12,
    "start_time": "2022-07-01T00:17:42.032Z"
   },
   {
    "duration": 5,
    "start_time": "2022-07-01T00:17:42.379Z"
   },
   {
    "duration": 434,
    "start_time": "2022-07-01T00:17:45.243Z"
   },
   {
    "duration": 35,
    "start_time": "2022-07-01T00:17:45.679Z"
   },
   {
    "duration": 17,
    "start_time": "2022-07-01T00:17:45.715Z"
   },
   {
    "duration": 3,
    "start_time": "2022-07-01T00:17:45.848Z"
   },
   {
    "duration": 4,
    "start_time": "2022-07-01T00:17:46.647Z"
   },
   {
    "duration": 459,
    "start_time": "2022-07-01T00:17:49.300Z"
   },
   {
    "duration": 6,
    "start_time": "2022-07-01T00:17:49.761Z"
   },
   {
    "duration": 6,
    "start_time": "2022-07-01T00:18:08.929Z"
   },
   {
    "duration": 6,
    "start_time": "2022-07-01T00:18:24.094Z"
   },
   {
    "duration": 21,
    "start_time": "2022-07-01T00:18:24.245Z"
   },
   {
    "duration": 2,
    "start_time": "2022-07-01T00:18:24.705Z"
   },
   {
    "duration": 3,
    "start_time": "2022-07-01T00:18:25.029Z"
   },
   {
    "duration": 20,
    "start_time": "2022-07-01T00:18:28.008Z"
   }
  ],
  "kernelspec": {
   "display_name": "Python 3 (ipykernel)",
   "language": "python",
   "name": "python3"
  },
  "language_info": {
   "codemirror_mode": {
    "name": "ipython",
    "version": 3
   },
   "file_extension": ".py",
   "mimetype": "text/x-python",
   "name": "python",
   "nbconvert_exporter": "python",
   "pygments_lexer": "ipython3",
   "version": "3.9.5"
  },
  "toc": {
   "base_numbering": 1,
   "nav_menu": {},
   "number_sections": true,
   "sideBar": true,
   "skip_h1_title": true,
   "title_cell": "Table of Contents",
   "title_sidebar": "Contents",
   "toc_cell": false,
   "toc_position": {},
   "toc_section_display": true,
   "toc_window_display": false
  },
  "vscode": {
   "interpreter": {
    "hash": "31f2aee4e71d21fbe5cf8b01ff0e069b9275f58929596ceb00d14d90e3e16cd6"
   }
  }
 },
 "nbformat": 4,
 "nbformat_minor": 2
}
