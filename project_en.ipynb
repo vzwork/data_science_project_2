{
 "cells": [
  {
   "cell_type": "markdown",
   "metadata": {},
   "source": [
    "Некоторые коментарии в этом коде на английском, надеюсь это ок. Это хорошая практика, и учеба и так наполнена английским. Спасибо!"
   ]
  },
  {
   "cell_type": "markdown",
   "metadata": {},
   "source": [
    "# Description"
   ]
  },
  {
   "cell_type": "markdown",
   "metadata": {},
   "source": [
    "Some hotel company is experiencing losses. Guests reserver their rooms, but don't show up. We need to make a model that will predict whether a person will show up or not. And then the company can ask for a deposit before reservation."
   ]
  },
  {
   "cell_type": "markdown",
   "metadata": {},
   "source": [
    "Отельная сеть теряет деньги на брони, по которой никто не платит деньги. Компания хочет предлагать некоторым гостям внести депозит, если они не появятся, они потеряют депозит."
   ]
  },
  {
   "cell_type": "markdown",
   "metadata": {},
   "source": [
    "# Buiness Information"
   ]
  },
  {
   "cell_type": "markdown",
   "metadata": {},
   "source": [
    "The deposit will cover first night, and costs of one cleaning.\n",
    "\n",
    "The types of rooms:\n",
    "- A category: $1000/night $400/cleaning\n",
    "- B category: $800/night  $350/cleaning\n",
    "- C category: $600/night  $350/cleaning\n",
    "- D category: $550/night  $150/cleaning\n",
    "- E category: $500/night  $150/cleaning\n",
    "- F category: $450/night  $150/cleaning\n",
    "- G category: $350/night  $150/cleaning\n",
    "\n",
    "Season costs adjustment:\n",
    "- Sprint: 20%\n",
    "- Summer: 40%\n",
    "- Fall:   20%\n",
    "\n",
    "Loss of business is calculated by one night stay and one cleaning\n",
    "\n",
    "The budget for development of the model is $400,000"
   ]
  },
  {
   "cell_type": "markdown",
   "metadata": {},
   "source": [
    "# Plan"
   ]
  },
  {
   "cell_type": "markdown",
   "metadata": {},
   "source": [
    "- import libraries\n",
    "- inspect data\n",
    "- run business calculations\n",
    "- run business calculations with model\n",
    "- run business calculations with model on the test data\n",
    "- describe a person who is likely to loose the deposit\n",
    "- conclusion"
   ]
  },
  {
   "cell_type": "markdown",
   "metadata": {},
   "source": [
    "# Libraries"
   ]
  },
  {
   "cell_type": "code",
   "execution_count": 1,
   "metadata": {},
   "outputs": [],
   "source": [
    "import pandas as pd\n",
    "import numpy as np\n",
    "import matplotlib.pyplot as plt\n",
    "import seaborn as sns\n",
    "import os\n",
    "\n",
    "from sklearn.preprocessing import StandardScaler\n",
    "\n",
    "from sklearn.model_selection import cross_val_score\n",
    "\n",
    "from sklearn.tree import DecisionTreeClassifier\n",
    "from sklearn.ensemble import RandomForestClassifier\n",
    "from sklearn.linear_model import LogisticRegression\n",
    "\n",
    "from sklearn.model_selection import GridSearchCV\n",
    "from sklearn.metrics import f1_score"
   ]
  },
  {
   "cell_type": "markdown",
   "metadata": {},
   "source": [
    "# Data Inspection"
   ]
  },
  {
   "cell_type": "code",
   "execution_count": 2,
   "metadata": {},
   "outputs": [],
   "source": [
    "local_path_df_train = './datasets/hotel_train.csv'\n",
    "local_path_df_test = './datasets/hotel_test.csv'\n",
    "web_path_df_train = '/datasets/hotel_train.csv'\n",
    "web_path_df_test = '/datasets/hotel_test.csv'"
   ]
  },
  {
   "cell_type": "code",
   "execution_count": 3,
   "metadata": {},
   "outputs": [],
   "source": [
    "if os.path.exists(local_path_df_train):\n",
    "  df_train_raw = pd.read_csv(local_path_df_train)\n",
    "elif os.path.exists(web_path_df_train):\n",
    "  df_train_raw = pd.read_csv(web_path_df_train)\n",
    "if os.path.exists(local_path_df_test):\n",
    "  df_test_raw = pd.read_csv(local_path_df_test)\n",
    "elif os.path.exists(web_path_df_test):\n",
    "  df_test_raw = pd.read_csv(web_path_df_test)"
   ]
  },
  {
   "cell_type": "markdown",
   "metadata": {},
   "source": [
    "In order for the model to work we have to have the same number of features, before we clean the data, we will combine test df and train df, and then split them up. This will be especially useful for the OHE."
   ]
  },
  {
   "cell_type": "code",
   "execution_count": 4,
   "metadata": {},
   "outputs": [],
   "source": [
    "df_train = df_train_raw\n",
    "df_test = df_test_raw"
   ]
  },
  {
   "cell_type": "code",
   "execution_count": 5,
   "metadata": {},
   "outputs": [],
   "source": [
    "df_train['is_train'] = 1\n",
    "df_test['is_train'] = 0"
   ]
  },
  {
   "cell_type": "code",
   "execution_count": 6,
   "metadata": {},
   "outputs": [],
   "source": [
    "df = pd.concat([df_train, df_test]).reset_index(drop=True)"
   ]
  },
  {
   "cell_type": "code",
   "execution_count": 7,
   "metadata": {},
   "outputs": [
    {
     "name": "stdout",
     "output_type": "stream",
     "text": [
      "(97641, 26)\n"
     ]
    }
   ],
   "source": [
    "print(df.shape)"
   ]
  },
  {
   "cell_type": "code",
   "execution_count": 8,
   "metadata": {},
   "outputs": [
    {
     "name": "stdout",
     "output_type": "stream",
     "text": [
      "Index(['id', 'is_canceled', 'lead_time', 'arrival_date_year',\n",
      "       'arrival_date_month', 'arrival_date_week_number',\n",
      "       'arrival_date_day_of_month', 'stays_in_weekend_nights',\n",
      "       'stays_in_week_nights', 'adults', 'children', 'babies', 'meal',\n",
      "       'country', 'distribution_channel', 'is_repeated_guest',\n",
      "       'previous_cancellations', 'previous_bookings_not_canceled',\n",
      "       'reserved_room_type', 'booking_changes', 'days_in_waiting_list',\n",
      "       'customer_type', 'required_car_parking_spaces',\n",
      "       'total_of_special_requests', 'total_nights', 'is_train'],\n",
      "      dtype='object')\n"
     ]
    }
   ],
   "source": [
    "print(df.columns)"
   ]
  },
  {
   "cell_type": "markdown",
   "metadata": {},
   "source": [
    "# is_canceled"
   ]
  },
  {
   "cell_type": "markdown",
   "metadata": {},
   "source": [
    "target feature - guest canceled reservation"
   ]
  },
  {
   "cell_type": "code",
   "execution_count": 9,
   "metadata": {},
   "outputs": [
    {
     "name": "stdout",
     "output_type": "stream",
     "text": [
      "int64\n"
     ]
    }
   ],
   "source": [
    "print(df['is_canceled'].dtype)"
   ]
  },
  {
   "cell_type": "code",
   "execution_count": 10,
   "metadata": {},
   "outputs": [
    {
     "name": "stdout",
     "output_type": "stream",
     "text": [
      "[0 1]\n"
     ]
    }
   ],
   "source": [
    "print(pd.unique(df['is_canceled']))"
   ]
  },
  {
   "cell_type": "code",
   "execution_count": 11,
   "metadata": {},
   "outputs": [
    {
     "name": "stdout",
     "output_type": "stream",
     "text": [
      "0.37520099138681495\n"
     ]
    }
   ],
   "source": [
    "print(df['is_canceled'].sum() / df['is_canceled'].size)"
   ]
  },
  {
   "cell_type": "code",
   "execution_count": 12,
   "metadata": {},
   "outputs": [
    {
     "name": "stdout",
     "output_type": "stream",
     "text": [
      "Train data ratio\n",
      "0.3686090542550093\n",
      "Test data ratio\n",
      "0.3884672343576453\n"
     ]
    }
   ],
   "source": [
    "# we have to check ratio 'is_train' == 1 and 'is_train' == 0\n",
    "print('Train data ratio')\n",
    "print(df[df['is_train'] == 1]['is_canceled'].sum() / df[df['is_train'] == 1]['is_canceled'].size)\n",
    "print('Test data ratio')\n",
    "print(df[df['is_train'] == 0]['is_canceled'].sum() / df[df['is_train'] == 0]['is_canceled'].size)"
   ]
  },
  {
   "cell_type": "markdown",
   "metadata": {},
   "source": [
    "- no missing values\n",
    "- binary target value, as expected\n",
    "- distribution of the answers is close to 50/50 ratio"
   ]
  },
  {
   "cell_type": "markdown",
   "metadata": {},
   "source": [
    "# lead_time"
   ]
  },
  {
   "cell_type": "markdown",
   "metadata": {},
   "source": [
    "feature - number of days before reservation date"
   ]
  },
  {
   "cell_type": "code",
   "execution_count": 13,
   "metadata": {},
   "outputs": [
    {
     "name": "stdout",
     "output_type": "stream",
     "text": [
      "float64\n"
     ]
    }
   ],
   "source": [
    "print(df['lead_time'].dtype)"
   ]
  },
  {
   "cell_type": "code",
   "execution_count": 14,
   "metadata": {},
   "outputs": [
    {
     "name": "stdout",
     "output_type": "stream",
     "text": [
      "0     7.0\n",
      "1    14.0\n",
      "2     0.0\n",
      "3     9.0\n",
      "4    85.0\n",
      "Name: lead_time, dtype: float64\n"
     ]
    }
   ],
   "source": [
    "print(df['lead_time'].head())"
   ]
  },
  {
   "cell_type": "code",
   "execution_count": 15,
   "metadata": {},
   "outputs": [],
   "source": [
    "try:\n",
    "  df['lead_time'] = df['lead_time'].astype('int64')\n",
    "except:\n",
    "  print('could not convert \\'lead_time\\' to int54')"
   ]
  },
  {
   "cell_type": "code",
   "execution_count": 16,
   "metadata": {},
   "outputs": [
    {
     "name": "stdout",
     "output_type": "stream",
     "text": [
      "Lead time for train data\n"
     ]
    },
    {
     "data": {
      "image/png": "[encoded data removed]",
      "text/plain": [
       "<Figure size 432x288 with 1 Axes>"
      ]
     },
     "metadata": {
      "needs_background": "light"
     },
     "output_type": "display_data"
    }
   ],
   "source": [
    "print('Lead time for train data')\n",
    "plt.hist(df[df['is_train'] == 1]['lead_time'], bins=20)\n",
    "plt.show()"
   ]
  },
  {
   "cell_type": "code",
   "execution_count": 17,
   "metadata": {},
   "outputs": [
    {
     "name": "stdout",
     "output_type": "stream",
     "text": [
      "Lead time for test data\n"
     ]
    },
    {
     "data": {
      "image/png": "[encoded data removed]",
      "text/plain": [
       "<Figure size 432x288 with 1 Axes>"
      ]
     },
     "metadata": {
      "needs_background": "light"
     },
     "output_type": "display_data"
    }
   ],
   "source": [
    "print('Lead time for test data')\n",
    "plt.hist(df[df['is_train'] == 0]['lead_time'], bins=20)\n",
    "plt.show()"
   ]
  },
  {
   "cell_type": "markdown",
   "metadata": {},
   "source": [
    "- changed the data type to int64\n",
    "- no missing values\n",
    "- checked for the outliers, data looks uniform\n",
    "- in this case quantity data will work, it ranges from short period to the longer period"
   ]
  },
  {
   "cell_type": "markdown",
   "metadata": {},
   "source": [
    "# arrival_date_year"
   ]
  },
  {
   "cell_type": "markdown",
   "metadata": {},
   "source": [
    "feature - year of the reservation"
   ]
  },
  {
   "cell_type": "code",
   "execution_count": 18,
   "metadata": {},
   "outputs": [
    {
     "name": "stdout",
     "output_type": "stream",
     "text": [
      "int64\n"
     ]
    }
   ],
   "source": [
    "print(df['arrival_date_year'].dtype)"
   ]
  },
  {
   "cell_type": "code",
   "execution_count": 19,
   "metadata": {},
   "outputs": [
    {
     "name": "stdout",
     "output_type": "stream",
     "text": [
      "[2015 2016 2017]\n"
     ]
    }
   ],
   "source": [
    "print(pd.unique(df['arrival_date_year']))"
   ]
  },
  {
   "cell_type": "markdown",
   "metadata": {},
   "source": [
    "- no missing values\n",
    "- range from 2015 to 2017, it will scale with the scaler"
   ]
  },
  {
   "cell_type": "markdown",
   "metadata": {},
   "source": [
    "# arrival_date_month "
   ]
  },
  {
   "cell_type": "markdown",
   "metadata": {},
   "source": [
    "feature - arrival date"
   ]
  },
  {
   "cell_type": "code",
   "execution_count": 20,
   "metadata": {},
   "outputs": [
    {
     "name": "stdout",
     "output_type": "stream",
     "text": [
      "object\n"
     ]
    }
   ],
   "source": [
    "print(df['arrival_date_month'].dtype)"
   ]
  },
  {
   "cell_type": "code",
   "execution_count": 21,
   "metadata": {},
   "outputs": [
    {
     "name": "stdout",
     "output_type": "stream",
     "text": [
      "['July' 'August' 'September' 'October' 'November' 'December' 'January'\n",
      " 'February' 'March' 'April' 'May' 'June']\n"
     ]
    }
   ],
   "source": [
    "print(pd.unique(df['arrival_date_month']))"
   ]
  },
  {
   "cell_type": "markdown",
   "metadata": {},
   "source": [
    "- no missing values\n",
    "- data type is object\n",
    "- in the case of month it maces sense to do OHE operation\n",
    "- OHE because months are very specific and it will work better with algorithms like that"
   ]
  },
  {
   "cell_type": "code",
   "execution_count": 22,
   "metadata": {},
   "outputs": [],
   "source": [
    "arrival_date_month = pd.get_dummies(df['arrival_date_month'])"
   ]
  },
  {
   "cell_type": "code",
   "execution_count": 23,
   "metadata": {},
   "outputs": [
    {
     "name": "stdout",
     "output_type": "stream",
     "text": [
      "   April  August  December  February  January  July  June  March  May  \\\n",
      "0      0       0         0         0        0     1     0      0    0   \n",
      "1      0       0         0         0        0     1     0      0    0   \n",
      "\n",
      "   November  October  September  \n",
      "0         0        0          0  \n",
      "1         0        0          0  \n"
     ]
    }
   ],
   "source": [
    "print(arrival_date_month.head(2))"
   ]
  },
  {
   "cell_type": "code",
   "execution_count": 24,
   "metadata": {},
   "outputs": [],
   "source": [
    "df = pd.merge(df, arrival_date_month, left_index=True, right_index=True)"
   ]
  },
  {
   "cell_type": "markdown",
   "metadata": {},
   "source": [
    "# arrival_date_week_number"
   ]
  },
  {
   "cell_type": "markdown",
   "metadata": {},
   "source": [
    "feature - week of the arrival"
   ]
  },
  {
   "cell_type": "code",
   "execution_count": 25,
   "metadata": {},
   "outputs": [
    {
     "name": "stdout",
     "output_type": "stream",
     "text": [
      "int64\n"
     ]
    }
   ],
   "source": [
    "print(df['arrival_date_week_number'].dtype)"
   ]
  },
  {
   "cell_type": "code",
   "execution_count": 26,
   "metadata": {},
   "outputs": [
    {
     "data": {
      "image/png": "[encoded data removed]",
      "text/plain": [
       "<Figure size 432x288 with 1 Axes>"
      ]
     },
     "metadata": {
      "needs_background": "light"
     },
     "output_type": "display_data"
    }
   ],
   "source": [
    "plt.hist(df['arrival_date_week_number'], bins = 20)\n",
    "plt.show()"
   ]
  },
  {
   "cell_type": "markdown",
   "metadata": {},
   "source": [
    "- no missing values\n",
    "- data looks uniform"
   ]
  },
  {
   "cell_type": "markdown",
   "metadata": {},
   "source": [
    "# arrival_date_day_of_month"
   ]
  },
  {
   "cell_type": "markdown",
   "metadata": {},
   "source": [
    "feature - day of month"
   ]
  },
  {
   "cell_type": "code",
   "execution_count": 27,
   "metadata": {},
   "outputs": [
    {
     "name": "stdout",
     "output_type": "stream",
     "text": [
      "int64\n"
     ]
    }
   ],
   "source": [
    "print(df['arrival_date_day_of_month'].dtype)"
   ]
  },
  {
   "cell_type": "code",
   "execution_count": 28,
   "metadata": {},
   "outputs": [
    {
     "data": {
      "image/png": "[encoded data removed]",
      "text/plain": [
       "<Figure size 432x288 with 1 Axes>"
      ]
     },
     "metadata": {
      "needs_background": "light"
     },
     "output_type": "display_data"
    }
   ],
   "source": [
    "plt.hist(df['arrival_date_day_of_month'], bins=31)\n",
    "plt.show()"
   ]
  },
  {
   "cell_type": "markdown",
   "metadata": {},
   "source": [
    "- no missing values\n",
    "- data looks uniform"
   ]
  },
  {
   "cell_type": "markdown",
   "metadata": {},
   "source": [
    "# stays_in_weekend_nights"
   ]
  },
  {
   "cell_type": "markdown",
   "metadata": {},
   "source": [
    "feature - number of nights over weeked"
   ]
  },
  {
   "cell_type": "code",
   "execution_count": 29,
   "metadata": {},
   "outputs": [
    {
     "name": "stdout",
     "output_type": "stream",
     "text": [
      "int64\n"
     ]
    }
   ],
   "source": [
    "print(df['stays_in_weekend_nights'].dtype)"
   ]
  },
  {
   "cell_type": "code",
   "execution_count": 30,
   "metadata": {},
   "outputs": [
    {
     "name": "stdout",
     "output_type": "stream",
     "text": [
      "[0 2 1 4 3]\n"
     ]
    }
   ],
   "source": [
    "print(pd.unique(df['stays_in_weekend_nights']))"
   ]
  },
  {
   "cell_type": "code",
   "execution_count": 31,
   "metadata": {},
   "outputs": [
    {
     "data": {
      "image/png": "[encoded data removed]",
      "text/plain": [
       "<Figure size 432x288 with 1 Axes>"
      ]
     },
     "metadata": {
      "needs_background": "light"
     },
     "output_type": "display_data"
    }
   ],
   "source": [
    "plt.hist(df['stays_in_weekend_nights'], bins=4)\n",
    "plt.show()"
   ]
  },
  {
   "cell_type": "markdown",
   "metadata": {},
   "source": [
    "- no missing values\n",
    "- data looks uniform"
   ]
  },
  {
   "cell_type": "markdown",
   "metadata": {},
   "source": [
    "# stays_in_week_nights"
   ]
  },
  {
   "cell_type": "markdown",
   "metadata": {},
   "source": [
    "feature - number of nights over week"
   ]
  },
  {
   "cell_type": "code",
   "execution_count": 32,
   "metadata": {},
   "outputs": [
    {
     "name": "stdout",
     "output_type": "stream",
     "text": [
      "int64\n"
     ]
    }
   ],
   "source": [
    "print(df['stays_in_week_nights'].dtype)"
   ]
  },
  {
   "cell_type": "code",
   "execution_count": 33,
   "metadata": {},
   "outputs": [
    {
     "name": "stdout",
     "output_type": "stream",
     "text": [
      "[1 2 3 4 5 6 0]\n"
     ]
    }
   ],
   "source": [
    "print(pd.unique(df['stays_in_week_nights']))"
   ]
  },
  {
   "cell_type": "code",
   "execution_count": 34,
   "metadata": {},
   "outputs": [
    {
     "data": {
      "image/png": "[encoded data removed]",
      "text/plain": [
       "<Figure size 432x288 with 1 Axes>"
      ]
     },
     "metadata": {
      "needs_background": "light"
     },
     "output_type": "display_data"
    }
   ],
   "source": [
    "plt.hist(df['stays_in_week_nights'], bins=7)\n",
    "plt.show()"
   ]
  },
  {
   "cell_type": "markdown",
   "metadata": {},
   "source": [
    "- not missing values\n",
    "- data looks uniform"
   ]
  },
  {
   "cell_type": "markdown",
   "metadata": {},
   "source": [
    "# adults"
   ]
  },
  {
   "cell_type": "markdown",
   "metadata": {},
   "source": [
    "feature - number of adults"
   ]
  },
  {
   "cell_type": "code",
   "execution_count": 35,
   "metadata": {},
   "outputs": [
    {
     "name": "stdout",
     "output_type": "stream",
     "text": [
      "float64\n"
     ]
    }
   ],
   "source": [
    "print(df['adults'].dtype)"
   ]
  },
  {
   "cell_type": "code",
   "execution_count": 36,
   "metadata": {},
   "outputs": [
    {
     "name": "stdout",
     "output_type": "stream",
     "text": [
      "[1. 2. 3. 4. 0.]\n"
     ]
    }
   ],
   "source": [
    "print(pd.unique(df['adults']))"
   ]
  },
  {
   "cell_type": "code",
   "execution_count": 37,
   "metadata": {},
   "outputs": [],
   "source": [
    "try:\n",
    "  df['adults'] = df['adults'].astype('int64')\n",
    "except:\n",
    "  print('could not convert \\'adults\\' to int64')"
   ]
  },
  {
   "cell_type": "code",
   "execution_count": 38,
   "metadata": {},
   "outputs": [
    {
     "data": {
      "image/png": "[encoded data removed]",
      "text/plain": [
       "<Figure size 432x288 with 1 Axes>"
      ]
     },
     "metadata": {
      "needs_background": "light"
     },
     "output_type": "display_data"
    }
   ],
   "source": [
    "plt.hist(df['adults'], bins=5)\n",
    "plt.show()"
   ]
  },
  {
   "cell_type": "markdown",
   "metadata": {},
   "source": [
    "- no missing values\n",
    "- data looks uniform"
   ]
  },
  {
   "cell_type": "markdown",
   "metadata": {},
   "source": [
    "# children"
   ]
  },
  {
   "cell_type": "markdown",
   "metadata": {},
   "source": [
    "feature - number of children age 3 - 14"
   ]
  },
  {
   "cell_type": "code",
   "execution_count": 39,
   "metadata": {},
   "outputs": [
    {
     "name": "stdout",
     "output_type": "stream",
     "text": [
      "float64\n"
     ]
    }
   ],
   "source": [
    "print(df['children'].dtype)"
   ]
  },
  {
   "cell_type": "code",
   "execution_count": 40,
   "metadata": {},
   "outputs": [
    {
     "name": "stdout",
     "output_type": "stream",
     "text": [
      "[0. 1. 2. 3.]\n"
     ]
    }
   ],
   "source": [
    "print(pd.unique(df['children']))"
   ]
  },
  {
   "cell_type": "code",
   "execution_count": 41,
   "metadata": {},
   "outputs": [],
   "source": [
    "try:\n",
    "  df['children'] = df['children'].astype('int64')\n",
    "except:\n",
    "  print('could not convert \\'children\\' to int64')"
   ]
  },
  {
   "cell_type": "code",
   "execution_count": 42,
   "metadata": {},
   "outputs": [
    {
     "data": {
      "image/png": "[encoded data removed]",
      "text/plain": [
       "<Figure size 432x288 with 1 Axes>"
      ]
     },
     "metadata": {
      "needs_background": "light"
     },
     "output_type": "display_data"
    }
   ],
   "source": [
    "plt.hist(df['children'], bins=4)\n",
    "plt.show()"
   ]
  },
  {
   "cell_type": "markdown",
   "metadata": {},
   "source": [
    "- no missing values\n",
    "- data looks uniform"
   ]
  },
  {
   "cell_type": "markdown",
   "metadata": {},
   "source": [
    "# babies"
   ]
  },
  {
   "cell_type": "markdown",
   "metadata": {},
   "source": [
    "feature - number of babies age 0 - 3"
   ]
  },
  {
   "cell_type": "code",
   "execution_count": 43,
   "metadata": {},
   "outputs": [
    {
     "name": "stdout",
     "output_type": "stream",
     "text": [
      "float64\n"
     ]
    }
   ],
   "source": [
    "print(df['babies'].dtype)"
   ]
  },
  {
   "cell_type": "code",
   "execution_count": 44,
   "metadata": {},
   "outputs": [
    {
     "name": "stdout",
     "output_type": "stream",
     "text": [
      "[ 0.  1.  2. 10.  9.]\n"
     ]
    }
   ],
   "source": [
    "print(pd.unique(df['babies']))"
   ]
  },
  {
   "cell_type": "code",
   "execution_count": 45,
   "metadata": {},
   "outputs": [
    {
     "name": "stdout",
     "output_type": "stream",
     "text": [
      "0.0     97014\n",
      "1.0       618\n",
      "2.0         7\n",
      "10.0        1\n",
      "9.0         1\n",
      "Name: babies, dtype: int64\n"
     ]
    }
   ],
   "source": [
    "print(pd.value_counts(df['babies']))"
   ]
  },
  {
   "cell_type": "markdown",
   "metadata": {},
   "source": [
    "There must have been a mistake when entering data, those two values look like outliers. Replace them with 0"
   ]
  },
  {
   "cell_type": "code",
   "execution_count": 46,
   "metadata": {},
   "outputs": [],
   "source": [
    "df['babies'] = df['babies'].mask(df['babies'] > 2, 0)"
   ]
  },
  {
   "cell_type": "code",
   "execution_count": 47,
   "metadata": {},
   "outputs": [
    {
     "name": "stdout",
     "output_type": "stream",
     "text": [
      "[0. 1. 2.]\n"
     ]
    }
   ],
   "source": [
    "print(pd.unique(df['babies']))"
   ]
  },
  {
   "cell_type": "code",
   "execution_count": 48,
   "metadata": {},
   "outputs": [],
   "source": [
    "try:\n",
    "  df['babies'] = df['babies'].astype('int64')\n",
    "except:\n",
    "  print('could not convert \\'babies\\' to int64')"
   ]
  },
  {
   "cell_type": "code",
   "execution_count": 49,
   "metadata": {},
   "outputs": [
    {
     "name": "stdout",
     "output_type": "stream",
     "text": [
      "0    97016\n",
      "1      618\n",
      "2        7\n",
      "Name: babies, dtype: int64\n"
     ]
    }
   ],
   "source": [
    "print(pd.value_counts(df['babies']))"
   ]
  },
  {
   "cell_type": "markdown",
   "metadata": {},
   "source": [
    "- no missing values\n",
    "- data looks uniform"
   ]
  },
  {
   "cell_type": "markdown",
   "metadata": {},
   "source": [
    "# meal"
   ]
  },
  {
   "cell_type": "markdown",
   "metadata": {},
   "source": [
    "feature - the type of the meal plan a person has\n",
    "- SC - no meal\n",
    "- BB - breakfast\n",
    "- HB - breakfast, lunch\n",
    "- FB - breakfast, lunch, dinner"
   ]
  },
  {
   "cell_type": "code",
   "execution_count": 50,
   "metadata": {},
   "outputs": [
    {
     "name": "stdout",
     "output_type": "stream",
     "text": [
      "object\n"
     ]
    }
   ],
   "source": [
    "print(df['meal'].dtype)"
   ]
  },
  {
   "cell_type": "code",
   "execution_count": 51,
   "metadata": {},
   "outputs": [
    {
     "name": "stdout",
     "output_type": "stream",
     "text": [
      "['BB       ' 'FB       ' 'HB       ' 'SC       ' 'SC']\n"
     ]
    }
   ],
   "source": [
    "print(pd.unique(df['meal']))"
   ]
  },
  {
   "cell_type": "code",
   "execution_count": 52,
   "metadata": {},
   "outputs": [],
   "source": [
    "df['meal'] = df['meal'].str.strip()"
   ]
  },
  {
   "cell_type": "code",
   "execution_count": 53,
   "metadata": {},
   "outputs": [
    {
     "name": "stdout",
     "output_type": "stream",
     "text": [
      "['BB' 'FB' 'HB' 'SC']\n"
     ]
    }
   ],
   "source": [
    "print(pd.unique(df['meal']))"
   ]
  },
  {
   "cell_type": "markdown",
   "metadata": {},
   "source": [
    "apply OHE to this series"
   ]
  },
  {
   "cell_type": "code",
   "execution_count": 54,
   "metadata": {},
   "outputs": [],
   "source": [
    "meal = pd.get_dummies(df['meal'])"
   ]
  },
  {
   "cell_type": "code",
   "execution_count": 55,
   "metadata": {},
   "outputs": [
    {
     "data": {
      "text/html": [
       "<div>\n",
       "<style scoped>\n",
       "    .dataframe tbody tr th:only-of-type {\n",
       "        vertical-align: middle;\n",
       "    }\n",
       "\n",
       "    .dataframe tbody tr th {\n",
       "        vertical-align: top;\n",
       "    }\n",
       "\n",
       "    .dataframe thead th {\n",
       "        text-align: right;\n",
       "    }\n",
       "</style>\n",
       "<table border=\"1\" class=\"dataframe\">\n",
       "  <thead>\n",
       "    <tr style=\"text-align: right;\">\n",
       "      <th></th>\n",
       "      <th>BB</th>\n",
       "      <th>FB</th>\n",
       "      <th>HB</th>\n",
       "      <th>SC</th>\n",
       "    </tr>\n",
       "  </thead>\n",
       "  <tbody>\n",
       "    <tr>\n",
       "      <th>0</th>\n",
       "      <td>1</td>\n",
       "      <td>0</td>\n",
       "      <td>0</td>\n",
       "      <td>0</td>\n",
       "    </tr>\n",
       "    <tr>\n",
       "      <th>1</th>\n",
       "      <td>1</td>\n",
       "      <td>0</td>\n",
       "      <td>0</td>\n",
       "      <td>0</td>\n",
       "    </tr>\n",
       "    <tr>\n",
       "      <th>2</th>\n",
       "      <td>1</td>\n",
       "      <td>0</td>\n",
       "      <td>0</td>\n",
       "      <td>0</td>\n",
       "    </tr>\n",
       "    <tr>\n",
       "      <th>3</th>\n",
       "      <td>0</td>\n",
       "      <td>1</td>\n",
       "      <td>0</td>\n",
       "      <td>0</td>\n",
       "    </tr>\n",
       "    <tr>\n",
       "      <th>4</th>\n",
       "      <td>1</td>\n",
       "      <td>0</td>\n",
       "      <td>0</td>\n",
       "      <td>0</td>\n",
       "    </tr>\n",
       "  </tbody>\n",
       "</table>\n",
       "</div>"
      ],
      "text/plain": [
       "   BB  FB  HB  SC\n",
       "0   1   0   0   0\n",
       "1   1   0   0   0\n",
       "2   1   0   0   0\n",
       "3   0   1   0   0\n",
       "4   1   0   0   0"
      ]
     },
     "execution_count": 55,
     "metadata": {},
     "output_type": "execute_result"
    }
   ],
   "source": [
    "meal.head()"
   ]
  },
  {
   "cell_type": "markdown",
   "metadata": {},
   "source": [
    "- everything looks good\n",
    "- ready to merge"
   ]
  },
  {
   "cell_type": "code",
   "execution_count": 56,
   "metadata": {},
   "outputs": [],
   "source": [
    "df = pd.merge(df, meal, left_index=True, right_index=True)"
   ]
  },
  {
   "cell_type": "markdown",
   "metadata": {},
   "source": [
    "# country"
   ]
  },
  {
   "cell_type": "markdown",
   "metadata": {},
   "source": [
    "feature - Citizenship of the visitor"
   ]
  },
  {
   "cell_type": "code",
   "execution_count": 57,
   "metadata": {},
   "outputs": [
    {
     "name": "stdout",
     "output_type": "stream",
     "text": [
      "object\n"
     ]
    }
   ],
   "source": [
    "print(df['country'].dtype)"
   ]
  },
  {
   "cell_type": "code",
   "execution_count": 58,
   "metadata": {},
   "outputs": [
    {
     "name": "stdout",
     "output_type": "stream",
     "text": [
      "['GBR' 'PRT' 'ESP' 'IRL' 'FRA' 'ROU' 'NOR' 'USA' 'DEU' 'BEL' 'CHE' 'CN'\n",
      " 'GRC' 'NLD' 'ARG' 'RUS' 'SWE' 'POL' 'EST' 'CZE' 'ITA' 'FIN' 'DNK' 'MOZ'\n",
      " 'BWA' 'LUX' 'BRA' 'SVN' 'ALB' 'CHN' 'MEX' 'MAR' 'SMR' 'LVA' 'CHL' 'AUT'\n",
      " 'LTU' 'TUR' 'ISR' 'IND' 'CYM' 'AUS' 'CPV' 'ZWE' 'DZA' 'KOR' 'CRI' 'HUN'\n",
      " 'TUN' 'ARE' 'HRV' 'HKG' 'IRN' 'GIB' 'JEY' 'URY' 'ZAF' 'COL' 'GGY' 'KWT'\n",
      " 'CYP' 'KAZ' 'THA' 'DOM' 'NGA' 'BLR' 'VEN' 'UKR' 'ARM' 'JPN' 'LKA' 'MYS'\n",
      " 'BIH' 'MUS' 'OMN' 'SUR' 'JAM' 'BGR' 'CIV' 'SRB' 'JOR' 'SYR' 'PHL' 'PRI'\n",
      " 'SGP' 'BDI' 'LBN' 'AGO' 'VNM' 'AZE' 'PLW' 'NZL' 'EGY' 'MDV' 'CMR' 'MLT'\n",
      " 'SVK' 'MWI' 'STP' 'TWN' 'IDN' 'SEN' 'PER' 'SAU' 'KNA' 'ETH' 'ECU' 'IRQ'\n",
      " 'AND' 'HND' 'PAK' 'GEO' 'ZMB' 'QAT' 'KHM' 'MCO' 'BGD' 'ISL' 'UZB' 'IMN'\n",
      " 'TJK' 'NIC' 'BEN' 'MAC' 'VGB' 'TZA' 'GAB' 'MKD' 'TMP' 'GLP' 'KEN' 'LIE'\n",
      " 'MMR' 'PAN' 'BFA' 'LBY' 'GNB' 'MLI' 'BHR' 'NAM' 'BOL' 'SYC' 'PRY' 'BRB'\n",
      " 'ABW' 'SLV' 'DMA' 'CUB' 'PYF' 'UGA' 'GUY' 'LCA' 'ATA' 'RWA' 'MNE' 'FJI'\n",
      " 'MDG' 'CAF' 'NPL' 'BHS' 'UMI' 'MYT' 'GTM' 'GHA' 'ASM' 'TGO' 'MRT' 'NCL'\n",
      " 'KIR' 'SDN' 'ATF' 'SLE' 'LAO' 'FRO']\n"
     ]
    }
   ],
   "source": [
    "print(pd.unique(df['country']))"
   ]
  },
  {
   "cell_type": "code",
   "execution_count": 59,
   "metadata": {},
   "outputs": [],
   "source": [
    "country = pd.get_dummies(df['country'])"
   ]
  },
  {
   "cell_type": "markdown",
   "metadata": {},
   "source": [
    "- ready to merge"
   ]
  },
  {
   "cell_type": "code",
   "execution_count": 60,
   "metadata": {},
   "outputs": [],
   "source": [
    "df = pd.merge(df, country, left_index=True, right_index=True)"
   ]
  },
  {
   "cell_type": "markdown",
   "metadata": {},
   "source": [
    "# distribution_channel"
   ]
  },
  {
   "cell_type": "markdown",
   "metadata": {},
   "source": [
    "feature - nothing to add"
   ]
  },
  {
   "cell_type": "code",
   "execution_count": 61,
   "metadata": {},
   "outputs": [
    {
     "name": "stdout",
     "output_type": "stream",
     "text": [
      "object\n"
     ]
    }
   ],
   "source": [
    "print(df['distribution_channel'].dtype)"
   ]
  },
  {
   "cell_type": "code",
   "execution_count": 62,
   "metadata": {},
   "outputs": [
    {
     "name": "stdout",
     "output_type": "stream",
     "text": [
      "['Direct' 'TA/TO' 'Corporate' 'GDS']\n"
     ]
    }
   ],
   "source": [
    "print(pd.unique(df['distribution_channel']))"
   ]
  },
  {
   "cell_type": "code",
   "execution_count": 63,
   "metadata": {},
   "outputs": [
    {
     "name": "stdout",
     "output_type": "stream",
     "text": [
      "TA/TO        81537\n",
      "Direct       10495\n",
      "Corporate     5425\n",
      "GDS            184\n",
      "Name: distribution_channel, dtype: int64\n"
     ]
    }
   ],
   "source": [
    "print(pd.value_counts(df['distribution_channel']))"
   ]
  },
  {
   "cell_type": "markdown",
   "metadata": {},
   "source": [
    "OHE"
   ]
  },
  {
   "cell_type": "code",
   "execution_count": 64,
   "metadata": {},
   "outputs": [],
   "source": [
    "distribution_channel = pd.get_dummies(df['distribution_channel'])"
   ]
  },
  {
   "cell_type": "code",
   "execution_count": 65,
   "metadata": {},
   "outputs": [
    {
     "name": "stdout",
     "output_type": "stream",
     "text": [
      "(97641, 4)\n"
     ]
    }
   ],
   "source": [
    "print(distribution_channel.shape)"
   ]
  },
  {
   "cell_type": "markdown",
   "metadata": {},
   "source": [
    "- no missing values\n",
    "- ready to merge"
   ]
  },
  {
   "cell_type": "code",
   "execution_count": 66,
   "metadata": {},
   "outputs": [],
   "source": [
    "df = pd.merge(df, distribution_channel, left_index=True, right_index=True)"
   ]
  },
  {
   "cell_type": "markdown",
   "metadata": {},
   "source": [
    "# is_repeated_guest"
   ]
  },
  {
   "cell_type": "markdown",
   "metadata": {},
   "source": [
    "feature - guest visited before"
   ]
  },
  {
   "cell_type": "code",
   "execution_count": 67,
   "metadata": {},
   "outputs": [
    {
     "name": "stdout",
     "output_type": "stream",
     "text": [
      "int64\n"
     ]
    }
   ],
   "source": [
    "print(df['is_repeated_guest'].dtype)"
   ]
  },
  {
   "cell_type": "code",
   "execution_count": 68,
   "metadata": {},
   "outputs": [
    {
     "name": "stdout",
     "output_type": "stream",
     "text": [
      "[0 1]\n"
     ]
    }
   ],
   "source": [
    "print(pd.unique(df['is_repeated_guest']))"
   ]
  },
  {
   "cell_type": "markdown",
   "metadata": {},
   "source": [
    "- no missing values\n",
    "- simple binary data\n",
    "- ready"
   ]
  },
  {
   "cell_type": "markdown",
   "metadata": {},
   "source": [
    "# previous_cancellations"
   ]
  },
  {
   "cell_type": "markdown",
   "metadata": {},
   "source": [
    "feature - number of cancellations for this guest"
   ]
  },
  {
   "cell_type": "code",
   "execution_count": 69,
   "metadata": {},
   "outputs": [
    {
     "name": "stdout",
     "output_type": "stream",
     "text": [
      "int64\n"
     ]
    }
   ],
   "source": [
    "print(df['previous_cancellations'].dtype)"
   ]
  },
  {
   "cell_type": "code",
   "execution_count": 70,
   "metadata": {},
   "outputs": [
    {
     "name": "stdout",
     "output_type": "stream",
     "text": [
      "0     91777\n",
      "1      5532\n",
      "2        83\n",
      "3        57\n",
      "11       35\n",
      "24       28\n",
      "6        22\n",
      "25       19\n",
      "26       18\n",
      "19       17\n",
      "4        15\n",
      "5        14\n",
      "13       12\n",
      "14       11\n",
      "21        1\n",
      "Name: previous_cancellations, dtype: int64\n"
     ]
    }
   ],
   "source": [
    "print(pd.value_counts(df['previous_cancellations']))"
   ]
  },
  {
   "cell_type": "markdown",
   "metadata": {},
   "source": [
    "- no missing values\n",
    "- although data does not seem uniform, it will be useful for our model"
   ]
  },
  {
   "cell_type": "markdown",
   "metadata": {},
   "source": [
    "# previous_bookings_not_canceled"
   ]
  },
  {
   "cell_type": "markdown",
   "metadata": {},
   "source": [
    "feature - number of reservations that were successfully used"
   ]
  },
  {
   "cell_type": "code",
   "execution_count": 71,
   "metadata": {},
   "outputs": [
    {
     "name": "stdout",
     "output_type": "stream",
     "text": [
      "int64\n"
     ]
    }
   ],
   "source": [
    "print(df['previous_bookings_not_canceled'].dtype)"
   ]
  },
  {
   "cell_type": "code",
   "execution_count": 72,
   "metadata": {},
   "outputs": [
    {
     "name": "stdout",
     "output_type": "stream",
     "text": [
      "[ 0  1  2  3  4  5  6 10 12 13 15 21  7  9  8 11 14 18 22 16 17 19 20 23\n",
      " 24 26 27 28 29 30 31 32 33 34 35 36 37 38 39 40 41 42 43 44 45 47 48 49\n",
      " 50 51 52 53 54 55 56 57 58 25 59 60 61 62 63 64 65 66 67 68 69 70 71 72]\n"
     ]
    }
   ],
   "source": [
    "print(pd.unique(df['previous_bookings_not_canceled']))"
   ]
  },
  {
   "cell_type": "code",
   "execution_count": 73,
   "metadata": {},
   "outputs": [
    {
     "data": {
      "image/png": "[encoded data removed]",
      "text/plain": [
       "<Figure size 432x288 with 1 Axes>"
      ]
     },
     "metadata": {
      "needs_background": "light"
     },
     "output_type": "display_data"
    }
   ],
   "source": [
    "plt.hist(df[df['previous_bookings_not_canceled'] > 0]['previous_bookings_not_canceled'], bins=20)\n",
    "plt.show()"
   ]
  },
  {
   "cell_type": "markdown",
   "metadata": {},
   "source": [
    "- It might be a good idea to assume that those values are outliers but\n",
    "- if that is a regular client, a businessman who visits often\n",
    "- it would make them upset to have to go through reservations\n",
    "- if they visited the hotel every week 50 / year for a year\n",
    "- seem resonable\n",
    "- no corrections needed"
   ]
  },
  {
   "cell_type": "markdown",
   "metadata": {},
   "source": [
    "# reserved_room_type"
   ]
  },
  {
   "cell_type": "markdown",
   "metadata": {},
   "source": [
    "feature - type of reserved room, different price categories"
   ]
  },
  {
   "cell_type": "code",
   "execution_count": 74,
   "metadata": {},
   "outputs": [
    {
     "name": "stdout",
     "output_type": "stream",
     "text": [
      "object\n"
     ]
    }
   ],
   "source": [
    "print(df['reserved_room_type'].dtype)"
   ]
  },
  {
   "cell_type": "code",
   "execution_count": 75,
   "metadata": {},
   "outputs": [
    {
     "name": "stdout",
     "output_type": "stream",
     "text": [
      "['A               ' 'C               ' 'D               '\n",
      " 'E               ' 'G               ' 'F               '\n",
      " 'B               ']\n"
     ]
    }
   ],
   "source": [
    "print(pd.unique(df['reserved_room_type']))"
   ]
  },
  {
   "cell_type": "code",
   "execution_count": 76,
   "metadata": {},
   "outputs": [],
   "source": [
    "df['reserved_room_type'] = df['reserved_room_type'].str.strip()"
   ]
  },
  {
   "cell_type": "code",
   "execution_count": 77,
   "metadata": {},
   "outputs": [
    {
     "name": "stdout",
     "output_type": "stream",
     "text": [
      "['A' 'C' 'D' 'E' 'G' 'F' 'B']\n"
     ]
    }
   ],
   "source": [
    "print(pd.unique(df['reserved_room_type']))"
   ]
  },
  {
   "cell_type": "markdown",
   "metadata": {},
   "source": [
    "OHE"
   ]
  },
  {
   "cell_type": "code",
   "execution_count": 78,
   "metadata": {},
   "outputs": [],
   "source": [
    "reserved_room_type = pd.get_dummies(df['reserved_room_type'])"
   ]
  },
  {
   "cell_type": "code",
   "execution_count": 79,
   "metadata": {},
   "outputs": [
    {
     "name": "stdout",
     "output_type": "stream",
     "text": [
      "(97641, 7)\n"
     ]
    }
   ],
   "source": [
    "print(reserved_room_type.shape)"
   ]
  },
  {
   "cell_type": "markdown",
   "metadata": {},
   "source": [
    "- no missing values\n",
    "- ready to merge"
   ]
  },
  {
   "cell_type": "code",
   "execution_count": 80,
   "metadata": {},
   "outputs": [],
   "source": [
    "df = pd.merge(df, reserved_room_type, left_index=True, right_index=True)"
   ]
  },
  {
   "cell_type": "markdown",
   "metadata": {},
   "source": [
    "# booking_changes"
   ]
  },
  {
   "cell_type": "markdown",
   "metadata": {},
   "source": [
    "feature - number of times a person changed the reservation parameters"
   ]
  },
  {
   "cell_type": "code",
   "execution_count": 81,
   "metadata": {},
   "outputs": [
    {
     "name": "stdout",
     "output_type": "stream",
     "text": [
      "int64\n"
     ]
    }
   ],
   "source": [
    "print(df['booking_changes'].dtype)"
   ]
  },
  {
   "cell_type": "code",
   "execution_count": 82,
   "metadata": {},
   "outputs": [
    {
     "name": "stdout",
     "output_type": "stream",
     "text": [
      "[ 0  1  3  2  4  5  6 10 16  7  9 13  8 14 15 17 18 11]\n"
     ]
    }
   ],
   "source": [
    "print(pd.unique(df['booking_changes']))"
   ]
  },
  {
   "cell_type": "code",
   "execution_count": 83,
   "metadata": {},
   "outputs": [
    {
     "data": {
      "image/png": "[encoded data removed]",
      "text/plain": [
       "<Figure size 432x288 with 1 Axes>"
      ]
     },
     "metadata": {
      "needs_background": "light"
     },
     "output_type": "display_data"
    }
   ],
   "source": [
    "plt.hist(df[df['booking_changes'] > 0]['booking_changes'], bins=20)\n",
    "plt.show()"
   ]
  },
  {
   "cell_type": "markdown",
   "metadata": {},
   "source": [
    "- no missing values\n",
    "- all of the data is useful for the model, we will not drop anything"
   ]
  },
  {
   "cell_type": "markdown",
   "metadata": {},
   "source": [
    "# days_in_waiting_list"
   ]
  },
  {
   "cell_type": "markdown",
   "metadata": {},
   "source": [
    "feature - how many days it took to confirm reservation"
   ]
  },
  {
   "cell_type": "code",
   "execution_count": 84,
   "metadata": {},
   "outputs": [
    {
     "name": "stdout",
     "output_type": "stream",
     "text": [
      "int64\n"
     ]
    }
   ],
   "source": [
    "print(df['days_in_waiting_list'].dtype)"
   ]
  },
  {
   "cell_type": "code",
   "execution_count": 85,
   "metadata": {},
   "outputs": [
    {
     "name": "stdout",
     "output_type": "stream",
     "text": [
      "[  0  50  47  65 122  75 101 150 125  22 142   2  13  44  38  48  33  77\n",
      "  21  80  59  40  58  89  53  49  60  69  87  91  57  99 111  79  98  85\n",
      "  63  15   3  20  93   4  41  34 224  31  39  56 187 176  71  55  96 236\n",
      " 259 207 215 160 120  30  32  27  62  24 108 147   5  14 107  70   8  35\n",
      " 178 174 162  68  11 193  10  76  17  45   6  19  28  42  25  46   9   1\n",
      "  43  72  12  61  81  74 167 100 121  83 113  18 185 109 154  64  16 165\n",
      "   7  84 175 183  23 117  54  26  73 223 105  36]\n"
     ]
    }
   ],
   "source": [
    "print(pd.unique(df['days_in_waiting_list']))"
   ]
  },
  {
   "cell_type": "code",
   "execution_count": 86,
   "metadata": {},
   "outputs": [
    {
     "data": {
      "image/png": "[encoded data removed]",
      "text/plain": [
       "<Figure size 432x288 with 1 Axes>"
      ]
     },
     "metadata": {
      "needs_background": "light"
     },
     "output_type": "display_data"
    }
   ],
   "source": [
    "plt.hist(df[df['days_in_waiting_list'] > 0]['days_in_waiting_list'], bins=20)\n",
    "plt.show()"
   ]
  },
  {
   "cell_type": "markdown",
   "metadata": {},
   "source": [
    "- no missing values\n",
    "- the distribution seems normal"
   ]
  },
  {
   "cell_type": "markdown",
   "metadata": {},
   "source": [
    "# customer_type"
   ]
  },
  {
   "cell_type": "markdown",
   "metadata": {},
   "source": [
    "feature - contract / group / transient / transient-praty"
   ]
  },
  {
   "cell_type": "code",
   "execution_count": 87,
   "metadata": {},
   "outputs": [
    {
     "name": "stdout",
     "output_type": "stream",
     "text": [
      "object\n"
     ]
    }
   ],
   "source": [
    "print(df['customer_type'].dtype)"
   ]
  },
  {
   "cell_type": "code",
   "execution_count": 88,
   "metadata": {},
   "outputs": [
    {
     "name": "stdout",
     "output_type": "stream",
     "text": [
      "['Transient' 'Contract' 'Transient-Party' 'Group']\n"
     ]
    }
   ],
   "source": [
    "print(pd.unique(df['customer_type']))"
   ]
  },
  {
   "cell_type": "code",
   "execution_count": 89,
   "metadata": {},
   "outputs": [],
   "source": [
    "customer_type = pd.get_dummies(df['customer_type'])"
   ]
  },
  {
   "cell_type": "code",
   "execution_count": 90,
   "metadata": {},
   "outputs": [
    {
     "name": "stdout",
     "output_type": "stream",
     "text": [
      "   Contract  Group  Transient  Transient-Party\n",
      "0         0      0          1                0\n",
      "1         0      0          1                0\n",
      "2         0      0          1                0\n",
      "3         0      0          1                0\n",
      "4         0      0          1                0\n"
     ]
    }
   ],
   "source": [
    "print(customer_type.head())"
   ]
  },
  {
   "cell_type": "markdown",
   "metadata": {},
   "source": [
    "- no missing values\n",
    "- ready to merge"
   ]
  },
  {
   "cell_type": "code",
   "execution_count": 91,
   "metadata": {},
   "outputs": [],
   "source": [
    "df = pd.merge(df, customer_type, left_index=True, right_index=True)"
   ]
  },
  {
   "cell_type": "markdown",
   "metadata": {},
   "source": [
    "# required_car_parking_spaces"
   ]
  },
  {
   "cell_type": "markdown",
   "metadata": {},
   "source": [
    "feature - required parking spaces"
   ]
  },
  {
   "cell_type": "code",
   "execution_count": 92,
   "metadata": {},
   "outputs": [
    {
     "name": "stdout",
     "output_type": "stream",
     "text": [
      "int64\n"
     ]
    }
   ],
   "source": [
    "print(df['required_car_parking_spaces'].dtype)"
   ]
  },
  {
   "cell_type": "code",
   "execution_count": 93,
   "metadata": {},
   "outputs": [
    {
     "name": "stdout",
     "output_type": "stream",
     "text": [
      "[0 1 2 3 8]\n"
     ]
    }
   ],
   "source": [
    "print(pd.unique(df['required_car_parking_spaces']))"
   ]
  },
  {
   "cell_type": "code",
   "execution_count": 94,
   "metadata": {},
   "outputs": [
    {
     "name": "stdout",
     "output_type": "stream",
     "text": [
      "0    92482\n",
      "1     5138\n",
      "2       17\n",
      "3        2\n",
      "8        2\n",
      "Name: required_car_parking_spaces, dtype: int64\n"
     ]
    }
   ],
   "source": [
    "print(pd.value_counts(df['required_car_parking_spaces']))"
   ]
  },
  {
   "cell_type": "markdown",
   "metadata": {},
   "source": [
    "- 8 parking spots seems like an outlier"
   ]
  },
  {
   "cell_type": "code",
   "execution_count": 95,
   "metadata": {},
   "outputs": [],
   "source": [
    "df['required_car_parking_spaces'] = df['required_car_parking_spaces'].replace(8, 0)"
   ]
  },
  {
   "cell_type": "code",
   "execution_count": 96,
   "metadata": {},
   "outputs": [
    {
     "name": "stdout",
     "output_type": "stream",
     "text": [
      "0    92484\n",
      "1     5138\n",
      "2       17\n",
      "3        2\n",
      "Name: required_car_parking_spaces, dtype: int64\n"
     ]
    }
   ],
   "source": [
    "print(pd.value_counts(df['required_car_parking_spaces']))"
   ]
  },
  {
   "cell_type": "markdown",
   "metadata": {},
   "source": [
    "# total_of_special_requests"
   ]
  },
  {
   "cell_type": "markdown",
   "metadata": {},
   "source": [
    "feature - number of special requests"
   ]
  },
  {
   "cell_type": "code",
   "execution_count": 97,
   "metadata": {},
   "outputs": [
    {
     "name": "stdout",
     "output_type": "stream",
     "text": [
      "int64\n"
     ]
    }
   ],
   "source": [
    "print(df['total_of_special_requests'].dtype)"
   ]
  },
  {
   "cell_type": "code",
   "execution_count": 98,
   "metadata": {},
   "outputs": [
    {
     "name": "stdout",
     "output_type": "stream",
     "text": [
      "[0 1 3 2 4 5]\n"
     ]
    }
   ],
   "source": [
    "print(pd.unique(df['total_of_special_requests']))"
   ]
  },
  {
   "cell_type": "markdown",
   "metadata": {},
   "source": [
    "- no missing values\n",
    "- ready to merge"
   ]
  },
  {
   "cell_type": "markdown",
   "metadata": {},
   "source": [
    "# total_nights"
   ]
  },
  {
   "cell_type": "markdown",
   "metadata": {},
   "source": [
    "feature - total number of nights"
   ]
  },
  {
   "cell_type": "code",
   "execution_count": 99,
   "metadata": {},
   "outputs": [
    {
     "name": "stdout",
     "output_type": "stream",
     "text": [
      "int64\n"
     ]
    }
   ],
   "source": [
    "print(df['total_nights'].dtype)"
   ]
  },
  {
   "cell_type": "code",
   "execution_count": 100,
   "metadata": {},
   "outputs": [
    {
     "name": "stdout",
     "output_type": "stream",
     "text": [
      "[ 1  2  3  4  6  7  5  8 10  9]\n"
     ]
    }
   ],
   "source": [
    "print(pd.unique(df['total_nights']))"
   ]
  },
  {
   "cell_type": "markdown",
   "metadata": {},
   "source": [
    "- no missing values\n",
    "- ready to merge"
   ]
  },
  {
   "cell_type": "markdown",
   "metadata": {},
   "source": [
    "# df_train df_test"
   ]
  },
  {
   "cell_type": "code",
   "execution_count": 101,
   "metadata": {},
   "outputs": [],
   "source": [
    "df_train = df[df['is_train'] == 1]\n",
    "df_test =  df[df['is_train'] == 0]"
   ]
  },
  {
   "cell_type": "code",
   "execution_count": 102,
   "metadata": {},
   "outputs": [],
   "source": [
    "df_train = df_train.reset_index(drop=True)\n",
    "df_test = df_test.reset_index(drop=True)"
   ]
  },
  {
   "cell_type": "code",
   "execution_count": 103,
   "metadata": {},
   "outputs": [],
   "source": [
    "df_train = df_train.drop(['is_train'], axis=1)\n",
    "df_test = df_test.drop(['is_train'], axis=1)"
   ]
  },
  {
   "cell_type": "code",
   "execution_count": 104,
   "metadata": {},
   "outputs": [],
   "source": [
    "df_train_features = df_train.drop(\n",
    "  ['id', 'is_canceled', 'arrival_date_month', 'meal', 'country', 'distribution_channel', 'reserved_room_type', 'customer_type'], axis=1)\n",
    "\n",
    "df_train_target = df_train['is_canceled']\n",
    "\n",
    "df_test_features = df_test.drop(\n",
    "  ['id', 'is_canceled', 'arrival_date_month', 'meal', 'country', 'distribution_channel', 'reserved_room_type', 'customer_type'], axis=1)"
   ]
  },
  {
   "cell_type": "code",
   "execution_count": 105,
   "metadata": {},
   "outputs": [
    {
     "name": "stdout",
     "output_type": "stream",
     "text": [
      "222\n"
     ]
    }
   ],
   "source": [
    "print(df_train_features.columns.size)"
   ]
  },
  {
   "cell_type": "code",
   "execution_count": 106,
   "metadata": {},
   "outputs": [
    {
     "name": "stdout",
     "output_type": "stream",
     "text": [
      "222\n"
     ]
    }
   ],
   "source": [
    "print(df_test_features.columns.size)"
   ]
  },
  {
   "cell_type": "markdown",
   "metadata": {},
   "source": [
    "# BUSINESS"
   ]
  },
  {
   "cell_type": "markdown",
   "metadata": {},
   "source": [
    "What is the income without deposits?"
   ]
  },
  {
   "cell_type": "markdown",
   "metadata": {},
   "source": [
    "People who showed up and payed vs people who didn't show up"
   ]
  },
  {
   "cell_type": "markdown",
   "metadata": {},
   "source": [
    "price factors:\n",
    "- showed up\n",
    "- season\n",
    "- room type\n",
    "- duration of the stay"
   ]
  },
  {
   "cell_type": "code",
   "execution_count": 107,
   "metadata": {},
   "outputs": [],
   "source": [
    "df_business = df_train_raw[['is_canceled', 'arrival_date_month', 'arrival_date_year', 'reserved_room_type', 'total_nights']]"
   ]
  },
  {
   "cell_type": "code",
   "execution_count": 108,
   "metadata": {},
   "outputs": [
    {
     "name": "stdout",
     "output_type": "stream",
     "text": [
      "[0 1]\n"
     ]
    }
   ],
   "source": [
    "print(pd.unique(df_business['is_canceled']))"
   ]
  },
  {
   "cell_type": "code",
   "execution_count": 109,
   "metadata": {},
   "outputs": [
    {
     "name": "stdout",
     "output_type": "stream",
     "text": [
      "['July' 'August' 'September' 'October' 'November' 'December' 'January'\n",
      " 'February' 'March' 'April' 'May' 'June']\n"
     ]
    }
   ],
   "source": [
    "print(pd.unique(df_business['arrival_date_month']))"
   ]
  },
  {
   "cell_type": "code",
   "execution_count": 110,
   "metadata": {},
   "outputs": [
    {
     "name": "stdout",
     "output_type": "stream",
     "text": [
      "[2015 2016]\n"
     ]
    }
   ],
   "source": [
    "print(pd.unique(df_business['arrival_date_year']))"
   ]
  },
  {
   "cell_type": "code",
   "execution_count": 111,
   "metadata": {},
   "outputs": [
    {
     "name": "stdout",
     "output_type": "stream",
     "text": [
      "['A               ' 'C               ' 'D               '\n",
      " 'E               ' 'G               ' 'F               '\n",
      " 'B               ']\n"
     ]
    }
   ],
   "source": [
    "print(pd.unique(df_business['reserved_room_type']))"
   ]
  },
  {
   "cell_type": "code",
   "execution_count": 112,
   "metadata": {},
   "outputs": [
    {
     "name": "stderr",
     "output_type": "stream",
     "text": [
      "/var/folders/7_/tt886s4d5kzb54xrj7p8yyp00000gn/T/ipykernel_6325/1553549690.py:1: SettingWithCopyWarning: \n",
      "A value is trying to be set on a copy of a slice from a DataFrame.\n",
      "Try using .loc[row_indexer,col_indexer] = value instead\n",
      "\n",
      "See the caveats in the documentation: https://pandas.pydata.org/pandas-docs/stable/user_guide/indexing.html#returning-a-view-versus-a-copy\n",
      "  df_business['reserved_room_type'] = df_business['reserved_room_type'].str.strip()\n"
     ]
    }
   ],
   "source": [
    "df_business['reserved_room_type'] = df_business['reserved_room_type'].str.strip()"
   ]
  },
  {
   "cell_type": "code",
   "execution_count": 113,
   "metadata": {},
   "outputs": [
    {
     "name": "stdout",
     "output_type": "stream",
     "text": [
      "['A' 'C' 'D' 'E' 'G' 'F' 'B']\n"
     ]
    }
   ],
   "source": [
    "print(pd.unique(df_business['reserved_room_type']))"
   ]
  },
  {
   "cell_type": "code",
   "execution_count": 114,
   "metadata": {},
   "outputs": [
    {
     "name": "stdout",
     "output_type": "stream",
     "text": [
      "[ 1  2  3  4  6  7  5  8 10  9]\n"
     ]
    }
   ],
   "source": [
    "print(pd.unique(df_business['total_nights']))"
   ]
  },
  {
   "cell_type": "code",
   "execution_count": 115,
   "metadata": {},
   "outputs": [],
   "source": [
    "price_room_type = {\n",
    "  'A':1000,\n",
    "  'B':800,\n",
    "  'C':600,\n",
    "  'D':550,\n",
    "  'E':500,\n",
    "  'F':450,\n",
    "  'G':350\n",
    "}\n",
    "price_cleaning_room_type = {\n",
    "  'A':400,\n",
    "  'B':350,\n",
    "  'C':350,\n",
    "  'D':150,\n",
    "  'E':150,\n",
    "  'F':150,\n",
    "  'G':150\n",
    "}"
   ]
  },
  {
   "cell_type": "code",
   "execution_count": 116,
   "metadata": {},
   "outputs": [],
   "source": [
    "price_multiplier_month = {\n",
    "  'July': 1.4,\n",
    "  'August': 1.4,\n",
    "  'September': 1.2,\n",
    "  'October': 1.2,\n",
    "  'November': 1.2,\n",
    "  'December': 1.0,\n",
    "  'January': 1.0,\n",
    "  'February': 1.0,\n",
    "  'March': 1.2,\n",
    "  'April': 1.2,\n",
    "  'May': 1.2,\n",
    "  'June': 1.4\n",
    "}"
   ]
  },
  {
   "cell_type": "code",
   "execution_count": 117,
   "metadata": {},
   "outputs": [],
   "source": [
    "def calculate_income(row):\n",
    "  room_type = row['reserved_room_type']\n",
    "  month = row['arrival_date_month']\n",
    "  n_nights = row['total_nights']\n",
    "  price_room = price_room_type[room_type]\n",
    "  price_cleaning_room = price_cleaning_room_type[room_type]\n",
    "  season_coefficient = price_multiplier_month[month]\n",
    "  if (row['is_canceled'] == 1):\n",
    "    return (price_room + price_cleaning_room) * season_coefficient * -1\n",
    "  return ((price_room * n_nights) - (price_cleaning_room * (n_nights // 2))) * season_coefficient\n",
    "  "
   ]
  },
  {
   "cell_type": "code",
   "execution_count": 118,
   "metadata": {},
   "outputs": [
    {
     "name": "stderr",
     "output_type": "stream",
     "text": [
      "/var/folders/7_/tt886s4d5kzb54xrj7p8yyp00000gn/T/ipykernel_6325/1269056741.py:1: SettingWithCopyWarning: \n",
      "A value is trying to be set on a copy of a slice from a DataFrame.\n",
      "Try using .loc[row_indexer,col_indexer] = value instead\n",
      "\n",
      "See the caveats in the documentation: https://pandas.pydata.org/pandas-docs/stable/user_guide/indexing.html#returning-a-view-versus-a-copy\n",
      "  df_business['costs'] = df_business.apply(lambda row: calculate_income(row), axis=1)\n"
     ]
    }
   ],
   "source": [
    "df_business['costs'] = df_business.apply(lambda row: calculate_income(row), axis=1)"
   ]
  },
  {
   "cell_type": "code",
   "execution_count": 119,
   "metadata": {},
   "outputs": [
    {
     "name": "stdout",
     "output_type": "stream",
     "text": [
      "   is_canceled arrival_date_month  arrival_date_year reserved_room_type  \\\n",
      "0            0               July               2015                  A   \n",
      "1            0               July               2015                  A   \n",
      "2            0               July               2015                  C   \n",
      "3            0               July               2015                  C   \n",
      "4            1               July               2015                  A   \n",
      "5            1               July               2015                  D   \n",
      "6            1               July               2015                  E   \n",
      "7            0               July               2015                  G   \n",
      "8            0               July               2015                  D   \n",
      "9            0               July               2015                  E   \n",
      "\n",
      "   total_nights   costs  \n",
      "0             1  1400.0  \n",
      "1             2  2240.0  \n",
      "2             2  1190.0  \n",
      "3             2  1190.0  \n",
      "4             3 -1960.0  \n",
      "5             3  -980.0  \n",
      "6             4  -910.0  \n",
      "7             4  1540.0  \n",
      "8             4  2660.0  \n",
      "9             4  2380.0  \n"
     ]
    }
   ],
   "source": [
    "print(df_business.head(10))"
   ]
  },
  {
   "cell_type": "code",
   "execution_count": 120,
   "metadata": {},
   "outputs": [],
   "source": [
    "df_business_monthly = df_business[['arrival_date_month', 'arrival_date_year', 'costs']]"
   ]
  },
  {
   "cell_type": "code",
   "execution_count": 121,
   "metadata": {},
   "outputs": [
    {
     "name": "stdout",
     "output_type": "stream",
     "text": [
      "                                          costs\n",
      "arrival_date_year arrival_date_month           \n",
      "2015              August              3210550.0\n",
      "                  December            2257550.0\n",
      "                  July                1590750.0\n",
      "                  November            3336480.0\n",
      "                  October             5011080.0\n",
      "                  September           4162140.0\n",
      "2016              April               4778760.0\n",
      "                  August              5862570.0\n",
      "                  December            3160900.0\n",
      "                  February            2750250.0\n",
      "                  January             1910000.0\n",
      "                  July                6193810.0\n",
      "                  June                4971890.0\n",
      "                  March               5716740.0\n",
      "                  May                 5422200.0\n",
      "                  November            4403880.0\n",
      "                  October             4772880.0\n",
      "                  September           4987920.0\n"
     ]
    }
   ],
   "source": [
    "print(df_business_monthly.groupby(['arrival_date_year', 'arrival_date_month']).sum())"
   ]
  },
  {
   "cell_type": "markdown",
   "metadata": {},
   "source": [
    "# MODEL"
   ]
  },
  {
   "cell_type": "code",
   "execution_count": 122,
   "metadata": {},
   "outputs": [],
   "source": [
    "scaler = StandardScaler()\n",
    "df_train_features = scaler.fit_transform(df_train_features)"
   ]
  },
  {
   "cell_type": "code",
   "execution_count": 123,
   "metadata": {},
   "outputs": [
    {
     "name": "stdout",
     "output_type": "stream",
     "text": [
      "Depth: 1\n",
      "Score: 0.36594661533019934\n",
      "Depth: 2\n",
      "Score: 0.37499874720949106\n",
      "Depth: 3\n",
      "Score: 0.5853668631871053\n",
      "Depth: 4\n",
      "Score: 0.5271843805563332\n",
      "Depth: 5\n",
      "Score: 0.5010518500257019\n",
      "Depth: 6\n",
      "Score: 0.47472995456512695\n",
      "Depth: 7\n",
      "Score: 0.4753169127803019\n",
      "Depth: 8\n",
      "Score: 0.49721742425210996\n",
      "Depth: 9\n",
      "Score: 0.5102549425594438\n",
      "Depth: 10\n",
      "Score: 0.4881466956480997\n"
     ]
    }
   ],
   "source": [
    "tree_depths = range(1, 11)\n",
    "for tree_depth in tree_depths:\n",
    "  model = DecisionTreeClassifier(max_depth=tree_depth, random_state=12345)\n",
    "  scores = cross_val_score(model, df_train_features, df_train_target, scoring='f1', cv=6)\n",
    "  print('Depth:', tree_depth)\n",
    "  print('Score:', sum(scores) / len(scores))\n",
    "  "
   ]
  },
  {
   "cell_type": "code",
   "execution_count": 124,
   "metadata": {},
   "outputs": [
    {
     "name": "stdout",
     "output_type": "stream",
     "text": [
      "tree_count 10\n",
      "best tree depth 5\n",
      "best score 0.5292272726096748\n",
      "tree_count 20\n",
      "best tree depth 9\n",
      "best score 0.4864300475466066\n",
      "tree_count 30\n",
      "best tree depth 9\n",
      "best score 0.49216327805383875\n"
     ]
    }
   ],
   "source": [
    "tree_counts = range(10, 40, 10)\n",
    "tree_depths = range(1, 11)\n",
    "for tree_count in tree_counts:\n",
    "  print('tree_count', tree_count)\n",
    "  current_scores = []\n",
    "  for tree_depth in tree_depths:\n",
    "    model = RandomForestClassifier(n_estimators=tree_count, max_depth=tree_depth, random_state=12345)\n",
    "    scores = cross_val_score(model, df_train_features, df_train_target, scoring='f1', cv=6)\n",
    "    current_scores.append(sum(scores) / len(scores))\n",
    "  max_score = max(current_scores)\n",
    "  max_score_index = current_scores.index(max_score)\n",
    "  print('best tree depth', max_score_index + 1)\n",
    "  print('best score', max_score)"
   ]
  },
  {
   "cell_type": "code",
   "execution_count": 125,
   "metadata": {},
   "outputs": [
    {
     "name": "stdout",
     "output_type": "stream",
     "text": [
      "LogisticRegression score 0.500885243119799\n"
     ]
    }
   ],
   "source": [
    "model = LogisticRegression(solver='liblinear', random_state=12345)\n",
    "scores = cross_val_score(model, df_train_features, df_train_target, scoring='f1', cv=6)\n",
    "print('LogisticRegression score', sum(scores) / len(scores))"
   ]
  },
  {
   "cell_type": "markdown",
   "metadata": {},
   "source": [
    "the best model is LogisticRegression(solver='liblinear', random_state=12345)"
   ]
  },
  {
   "cell_type": "code",
   "execution_count": 126,
   "metadata": {},
   "outputs": [],
   "source": [
    "model_tree = DecisionTreeClassifier(max_depth=3, random_state=12345)\n",
    "model_tree.fit(df_train_features, df_train_target)\n",
    "series_predicted = model_tree.predict(df_train_features)"
   ]
  },
  {
   "cell_type": "code",
   "execution_count": 127,
   "metadata": {},
   "outputs": [
    {
     "name": "stderr",
     "output_type": "stream",
     "text": [
      "/var/folders/7_/tt886s4d5kzb54xrj7p8yyp00000gn/T/ipykernel_6325/1095536524.py:1: SettingWithCopyWarning: \n",
      "A value is trying to be set on a copy of a slice from a DataFrame.\n",
      "Try using .loc[row_indexer,col_indexer] = value instead\n",
      "\n",
      "See the caveats in the documentation: https://pandas.pydata.org/pandas-docs/stable/user_guide/indexing.html#returning-a-view-versus-a-copy\n",
      "  df_business['predicted'] = series_predicted\n"
     ]
    }
   ],
   "source": [
    "df_business['predicted'] = series_predicted"
   ]
  },
  {
   "cell_type": "code",
   "execution_count": 128,
   "metadata": {},
   "outputs": [],
   "source": [
    "def calculate_model_income(row):\n",
    "  room_type = row['reserved_room_type']\n",
    "  month = row['arrival_date_month']\n",
    "  n_nights = row['total_nights']\n",
    "  price_room = price_room_type[room_type]\n",
    "  price_cleaning_room = price_cleaning_room_type[room_type]\n",
    "  season_coefficient = price_multiplier_month[month]\n",
    "  if (row['is_canceled'] == 1):\n",
    "    if(row['predicted'] == 1):\n",
    "      # 80% of money will be saved, by customer loosing his deposit\n",
    "      return (price_room + price_cleaning_room) * season_coefficient * -1 * 0.2\n",
    "    return (price_room + price_cleaning_room) * season_coefficient * -1\n",
    "  return ((price_room * n_nights) - (price_cleaning_room * (n_nights // 2))) * season_coefficient"
   ]
  },
  {
   "cell_type": "code",
   "execution_count": 129,
   "metadata": {},
   "outputs": [
    {
     "name": "stderr",
     "output_type": "stream",
     "text": [
      "/var/folders/7_/tt886s4d5kzb54xrj7p8yyp00000gn/T/ipykernel_6325/2648823243.py:1: SettingWithCopyWarning: \n",
      "A value is trying to be set on a copy of a slice from a DataFrame.\n",
      "Try using .loc[row_indexer,col_indexer] = value instead\n",
      "\n",
      "See the caveats in the documentation: https://pandas.pydata.org/pandas-docs/stable/user_guide/indexing.html#returning-a-view-versus-a-copy\n",
      "  df_business['model_costs'] = df_business.apply(lambda row: calculate_model_income(row), axis=1)\n"
     ]
    }
   ],
   "source": [
    "df_business['model_costs'] = df_business.apply(lambda row: calculate_model_income(row), axis=1)"
   ]
  },
  {
   "cell_type": "markdown",
   "metadata": {},
   "source": [
    "Lets look at year 2016 and find how much money we have saved"
   ]
  },
  {
   "cell_type": "code",
   "execution_count": 130,
   "metadata": {},
   "outputs": [],
   "source": [
    "df_business_2016 = df_business[df_business['arrival_date_year'] == 2016]"
   ]
  },
  {
   "cell_type": "code",
   "execution_count": 131,
   "metadata": {},
   "outputs": [
    {
     "name": "stdout",
     "output_type": "stream",
     "text": [
      "DecisionTreeClassifier\n",
      "2016 raw revenue: 54931800.0\n",
      "2016 model revenue: 66279760.0\n",
      "Percentage increase: 121%\n",
      "Money saved: 11347960.0\n"
     ]
    }
   ],
   "source": [
    "total_revenue_2016 = df_business_2016['costs'].sum()\n",
    "total_revenue_2016_with_model = df_business_2016['model_costs'].sum()\n",
    "\n",
    "print('DecisionTreeClassifier')\n",
    "print('2016 raw revenue:', total_revenue_2016)\n",
    "print('2016 model revenue:', total_revenue_2016_with_model)\n",
    "print('Percentage increase: {:0.0f}%'.format(total_revenue_2016_with_model / total_revenue_2016 * 100))\n",
    "print('Money saved:', total_revenue_2016_with_model - total_revenue_2016)"
   ]
  },
  {
   "cell_type": "code",
   "execution_count": 132,
   "metadata": {},
   "outputs": [],
   "source": [
    "model_forest = RandomForestClassifier(n_estimators=10, max_depth=5, random_state=12345)\n",
    "model_forest.fit(df_train_features, df_train_target)\n",
    "series_predicted = model_forest.predict(df_train_features)"
   ]
  },
  {
   "cell_type": "code",
   "execution_count": 133,
   "metadata": {},
   "outputs": [
    {
     "name": "stderr",
     "output_type": "stream",
     "text": [
      "/var/folders/7_/tt886s4d5kzb54xrj7p8yyp00000gn/T/ipykernel_6325/1095536524.py:1: SettingWithCopyWarning: \n",
      "A value is trying to be set on a copy of a slice from a DataFrame.\n",
      "Try using .loc[row_indexer,col_indexer] = value instead\n",
      "\n",
      "See the caveats in the documentation: https://pandas.pydata.org/pandas-docs/stable/user_guide/indexing.html#returning-a-view-versus-a-copy\n",
      "  df_business['predicted'] = series_predicted\n"
     ]
    }
   ],
   "source": [
    "df_business['predicted'] = series_predicted"
   ]
  },
  {
   "cell_type": "code",
   "execution_count": 134,
   "metadata": {},
   "outputs": [
    {
     "name": "stderr",
     "output_type": "stream",
     "text": [
      "/var/folders/7_/tt886s4d5kzb54xrj7p8yyp00000gn/T/ipykernel_6325/2648823243.py:1: SettingWithCopyWarning: \n",
      "A value is trying to be set on a copy of a slice from a DataFrame.\n",
      "Try using .loc[row_indexer,col_indexer] = value instead\n",
      "\n",
      "See the caveats in the documentation: https://pandas.pydata.org/pandas-docs/stable/user_guide/indexing.html#returning-a-view-versus-a-copy\n",
      "  df_business['model_costs'] = df_business.apply(lambda row: calculate_model_income(row), axis=1)\n"
     ]
    }
   ],
   "source": [
    "df_business['model_costs'] = df_business.apply(lambda row: calculate_model_income(row), axis=1)"
   ]
  },
  {
   "cell_type": "code",
   "execution_count": 135,
   "metadata": {},
   "outputs": [],
   "source": [
    "df_business_2016 = df_business[df_business['arrival_date_year'] == 2016]"
   ]
  },
  {
   "cell_type": "code",
   "execution_count": 136,
   "metadata": {},
   "outputs": [
    {
     "name": "stdout",
     "output_type": "stream",
     "text": [
      "RandomForestClassifier\n",
      "2016 raw revenue: 54931800.0\n",
      "2016 model revenue: 63197920.0\n",
      "Percentage increase: 115%\n",
      "Money saved: 8266120.0\n"
     ]
    }
   ],
   "source": [
    "total_revenue_2016 = df_business_2016['costs'].sum()\n",
    "total_revenue_2016_with_model = df_business_2016['model_costs'].sum()\n",
    "\n",
    "print('RandomForestClassifier')\n",
    "print('2016 raw revenue:', total_revenue_2016)\n",
    "print('2016 model revenue:', total_revenue_2016_with_model)\n",
    "print('Percentage increase: {:0.0f}%'.format(total_revenue_2016_with_model / total_revenue_2016 * 100))\n",
    "print('Money saved:', total_revenue_2016_with_model - total_revenue_2016)"
   ]
  },
  {
   "cell_type": "markdown",
   "metadata": {},
   "source": [
    "# TEST DATA"
   ]
  },
  {
   "cell_type": "code",
   "execution_count": 137,
   "metadata": {},
   "outputs": [],
   "source": [
    "# no need for a year, because its all 2017\n",
    "df_business_2017 = df_test_raw[['is_canceled', 'arrival_date_month', 'reserved_room_type', 'total_nights']]"
   ]
  },
  {
   "cell_type": "code",
   "execution_count": 138,
   "metadata": {},
   "outputs": [
    {
     "name": "stdout",
     "output_type": "stream",
     "text": [
      "['January' 'February' 'March' 'April' 'May' 'June' 'July' 'August']\n"
     ]
    }
   ],
   "source": [
    "print(pd.unique(df_business_2017['arrival_date_month']))"
   ]
  },
  {
   "cell_type": "code",
   "execution_count": 139,
   "metadata": {},
   "outputs": [
    {
     "name": "stdout",
     "output_type": "stream",
     "text": [
      "['A               ' 'E               ' 'G               '\n",
      " 'D               ' 'F               ' 'C               '\n",
      " 'B               ']\n"
     ]
    }
   ],
   "source": [
    "print(pd.unique(df_business_2017['reserved_room_type']))"
   ]
  },
  {
   "cell_type": "code",
   "execution_count": 140,
   "metadata": {},
   "outputs": [
    {
     "name": "stderr",
     "output_type": "stream",
     "text": [
      "/var/folders/7_/tt886s4d5kzb54xrj7p8yyp00000gn/T/ipykernel_6325/1880790177.py:1: SettingWithCopyWarning: \n",
      "A value is trying to be set on a copy of a slice from a DataFrame.\n",
      "Try using .loc[row_indexer,col_indexer] = value instead\n",
      "\n",
      "See the caveats in the documentation: https://pandas.pydata.org/pandas-docs/stable/user_guide/indexing.html#returning-a-view-versus-a-copy\n",
      "  df_business_2017['reserved_room_type'] = df_business_2017['reserved_room_type'].str.strip()\n"
     ]
    }
   ],
   "source": [
    "df_business_2017['reserved_room_type'] = df_business_2017['reserved_room_type'].str.strip()"
   ]
  },
  {
   "cell_type": "code",
   "execution_count": 141,
   "metadata": {},
   "outputs": [
    {
     "name": "stdout",
     "output_type": "stream",
     "text": [
      "['A' 'E' 'G' 'D' 'F' 'C' 'B']\n"
     ]
    }
   ],
   "source": [
    "print(pd.unique(df_business_2017['reserved_room_type']))"
   ]
  },
  {
   "cell_type": "code",
   "execution_count": 142,
   "metadata": {},
   "outputs": [
    {
     "name": "stderr",
     "output_type": "stream",
     "text": [
      "/var/folders/7_/tt886s4d5kzb54xrj7p8yyp00000gn/T/ipykernel_6325/835489900.py:1: SettingWithCopyWarning: \n",
      "A value is trying to be set on a copy of a slice from a DataFrame.\n",
      "Try using .loc[row_indexer,col_indexer] = value instead\n",
      "\n",
      "See the caveats in the documentation: https://pandas.pydata.org/pandas-docs/stable/user_guide/indexing.html#returning-a-view-versus-a-copy\n",
      "  df_business_2017['costs'] = df_business_2017.apply(lambda row: calculate_income(row), axis=1)\n"
     ]
    }
   ],
   "source": [
    "df_business_2017['costs'] = df_business_2017.apply(lambda row: calculate_income(row), axis=1)"
   ]
  },
  {
   "cell_type": "code",
   "execution_count": 143,
   "metadata": {},
   "outputs": [],
   "source": [
    "scaler = StandardScaler()\n",
    "df_test_features = scaler.fit_transform(df_test_features)"
   ]
  },
  {
   "cell_type": "code",
   "execution_count": 144,
   "metadata": {},
   "outputs": [],
   "source": [
    "series_predicted_2017 = model_tree.predict(df_test_features)"
   ]
  },
  {
   "cell_type": "code",
   "execution_count": 145,
   "metadata": {},
   "outputs": [
    {
     "name": "stdout",
     "output_type": "stream",
     "text": [
      "6327\n"
     ]
    }
   ],
   "source": [
    "print(series_predicted_2017.sum())"
   ]
  },
  {
   "cell_type": "code",
   "execution_count": 146,
   "metadata": {},
   "outputs": [
    {
     "name": "stderr",
     "output_type": "stream",
     "text": [
      "/var/folders/7_/tt886s4d5kzb54xrj7p8yyp00000gn/T/ipykernel_6325/571278239.py:1: SettingWithCopyWarning: \n",
      "A value is trying to be set on a copy of a slice from a DataFrame.\n",
      "Try using .loc[row_indexer,col_indexer] = value instead\n",
      "\n",
      "See the caveats in the documentation: https://pandas.pydata.org/pandas-docs/stable/user_guide/indexing.html#returning-a-view-versus-a-copy\n",
      "  df_business_2017['predicted'] = series_predicted_2017\n"
     ]
    }
   ],
   "source": [
    "df_business_2017['predicted'] = series_predicted_2017"
   ]
  },
  {
   "cell_type": "code",
   "execution_count": 147,
   "metadata": {},
   "outputs": [
    {
     "name": "stderr",
     "output_type": "stream",
     "text": [
      "/var/folders/7_/tt886s4d5kzb54xrj7p8yyp00000gn/T/ipykernel_6325/2957848983.py:1: SettingWithCopyWarning: \n",
      "A value is trying to be set on a copy of a slice from a DataFrame.\n",
      "Try using .loc[row_indexer,col_indexer] = value instead\n",
      "\n",
      "See the caveats in the documentation: https://pandas.pydata.org/pandas-docs/stable/user_guide/indexing.html#returning-a-view-versus-a-copy\n",
      "  df_business_2017['model_costs'] = df_business_2017.apply(lambda row: calculate_model_income(row), axis=1)\n"
     ]
    }
   ],
   "source": [
    "df_business_2017['model_costs'] = df_business_2017.apply(lambda row: calculate_model_income(row), axis=1)"
   ]
  },
  {
   "cell_type": "code",
   "execution_count": 148,
   "metadata": {},
   "outputs": [
    {
     "name": "stdout",
     "output_type": "stream",
     "text": [
      "2017 raw revenue: 36218760.0\n",
      "2017 model revenue: 42698560.0\n",
      "Percentage increase: 118%\n",
      "Money saved: 6479800.0\n"
     ]
    }
   ],
   "source": [
    "total_revenue_2017 = df_business_2017['costs'].sum()\n",
    "total_revenue_2017_with_model = df_business_2017['model_costs'].sum()\n",
    "\n",
    "print('2017 raw revenue:', total_revenue_2017)\n",
    "print('2017 model revenue:', total_revenue_2017_with_model)\n",
    "print('Percentage increase: {:0.0f}%'.format(total_revenue_2017_with_model / total_revenue_2017 * 100))\n",
    "print('Money saved:', total_revenue_2017_with_model - total_revenue_2017)"
   ]
  },
  {
   "cell_type": "markdown",
   "metadata": {},
   "source": [
    "# Guest that is likely to loose money"
   ]
  },
  {
   "cell_type": "code",
   "execution_count": 149,
   "metadata": {},
   "outputs": [],
   "source": [
    "df_train_features = df_train.drop(\n",
    "  ['id', 'is_canceled', 'arrival_date_month', 'meal', 'country', 'distribution_channel', 'reserved_room_type', 'customer_type'], axis=1)"
   ]
  },
  {
   "cell_type": "code",
   "execution_count": 150,
   "metadata": {},
   "outputs": [
    {
     "name": "stderr",
     "output_type": "stream",
     "text": [
      "/Users/vlad/Library/Python/3.8/lib/python/site-packages/sklearn/base.py:443: UserWarning: X has feature names, but DecisionTreeClassifier was fitted without feature names\n",
      "  warnings.warn(\n"
     ]
    }
   ],
   "source": [
    "series_predicted = model_tree.predict(df_train_features)\n",
    "df_bad_visitor = df_train_features.copy()\n",
    "df_bad_visitor['predicted'] = series_predicted"
   ]
  },
  {
   "cell_type": "code",
   "execution_count": 151,
   "metadata": {},
   "outputs": [],
   "source": [
    "df_bad_visitor = df_bad_visitor[df_bad_visitor['predicted'] == 1]"
   ]
  },
  {
   "cell_type": "code",
   "execution_count": 152,
   "metadata": {},
   "outputs": [
    {
     "name": "stdout",
     "output_type": "stream",
     "text": [
      "Index(['lead_time', 'arrival_date_year', 'arrival_date_week_number',\n",
      "       'arrival_date_day_of_month', 'stays_in_weekend_nights',\n",
      "       'stays_in_week_nights', 'adults', 'children', 'babies',\n",
      "       'is_repeated_guest',\n",
      "       ...\n",
      "       'B', 'C', 'D', 'E', 'F', 'G', 'Contract', 'Group', 'Transient',\n",
      "       'Transient-Party'],\n",
      "      dtype='object', length=222)\n"
     ]
    }
   ],
   "source": [
    "print(df_train_features.columns)"
   ]
  },
  {
   "cell_type": "code",
   "execution_count": 153,
   "metadata": {},
   "outputs": [
    {
     "name": "stdout",
     "output_type": "stream",
     "text": [
      "mean lead_time 96.33791718407457\n",
      "bad lead_time 112.14862474419895\n",
      "mean adults 1.8365757561820664\n",
      "bad adults 1.7598071520238632\n",
      "mean children 0.07489000291281485\n",
      "bad children 0.048142624258610524\n",
      "mean babies 0.006944763832037897\n",
      "bad babies 0.007006347334466373\n",
      "mean is_repeated_guest 0.02715050054423646\n",
      "bad is_repeated_guest 0.05452464361277791\n",
      "mean booking_changes 0.1942694200432323\n",
      "bad booking_changes 0.14217335506919634\n",
      "mean previous_bookings_not_canceled 0.10771282711677321\n",
      "bad previous_bookings_not_canceled 0.22878151989178316\n",
      "mean previous_cancellations 0.12891505312054455\n",
      "bad previous_cancellations 0.263362353022788\n",
      "mean required_car_parking_spaces 0.056646583574790355\n",
      "bad required_car_parking_spaces 0.05244355034511464\n",
      "mean total_of_special_requests 0.5127627282343743\n",
      "bad total_of_special_requests 0.32055773299573376\n",
      "mean total_nights 3.049977770623496\n",
      "bad total_nights 2.6773611737366028\n"
     ]
    }
   ],
   "source": [
    "print('mean lead_time', df_train_features['lead_time'].mean())\n",
    "print('bad lead_time', df_bad_visitor['lead_time'].mean())\n",
    "print('mean adults', df_train_features['adults'].mean())\n",
    "print('bad adults', df_bad_visitor['adults'].mean())\n",
    "print('mean children', df_train_features['children'].mean())\n",
    "print('bad children', df_bad_visitor['children'].mean())\n",
    "print('mean babies', df_train_features['babies'].mean())\n",
    "print('bad babies', df_bad_visitor['babies'].mean())\n",
    "print('mean is_repeated_guest', df_train_features['is_repeated_guest'].mean())\n",
    "print('bad is_repeated_guest', df_bad_visitor['is_repeated_guest'].mean())\n",
    "print('mean booking_changes', df_train_features['booking_changes'].mean())\n",
    "print('bad booking_changes', df_bad_visitor['booking_changes'].mean())\n",
    "print('mean previous_bookings_not_canceled', df_train_features['previous_bookings_not_canceled'].mean())\n",
    "print('bad previous_bookings_not_canceled', df_bad_visitor['previous_bookings_not_canceled'].mean())\n",
    "print('mean previous_cancellations', df_train_features['previous_cancellations'].mean())\n",
    "print('bad previous_cancellations', df_bad_visitor['previous_cancellations'].mean())\n",
    "print('mean required_car_parking_spaces', df_train_features['required_car_parking_spaces'].mean())\n",
    "print('bad required_car_parking_spaces', df_bad_visitor['required_car_parking_spaces'].mean())\n",
    "print('mean total_of_special_requests', df_train_features['total_of_special_requests'].mean())\n",
    "print('bad total_of_special_requests', df_bad_visitor['total_of_special_requests'].mean())\n",
    "print('mean total_nights', df_train_features['total_nights'].mean())\n",
    "print('bad total_nights', df_bad_visitor['total_nights'].mean())"
   ]
  },
  {
   "cell_type": "markdown",
   "metadata": {},
   "source": [
    "# CONCLUSION"
   ]
  },
  {
   "cell_type": "markdown",
   "metadata": {},
   "source": [
    "Основная задача веполнена:\n",
    "- Построит модель которая будет предсказывать если посетители появятся или нет <br/>\n",
    "\n",
    "Мы протестировали несколько вариантов моделей с помощью 'cross validation', также ме тестировали разные гиперпараметры. \n",
    "- Лучшей моделью оказался DecisionTreeClassifier с f1-score 0.58, что привело к 14% увеличению в прибыли на тренировочной модели и к 12% прибыли на тестировочных данных\n",
    "- На тестировочных данные мы заработали больше 6 миллионов, что значит исследование окупилось <br/>\n",
    "\n",
    "Описать клиента оказалось довольно трудно, но некоторые показатили можно выявить\n",
    "- меньше детей\n",
    "- дольше занимает время до подтверждения брони\n",
    "- чаще повторные клиенты, что может говорить о неудовлетворении гостей\n"
   ]
  },
  {
   "cell_type": "markdown",
   "metadata": {},
   "source": []
  }
 ],
 "metadata": {
  "kernelspec": {
   "display_name": "Python 3.8.9 64-bit",
   "language": "python",
   "name": "python3"
  },
  "language_info": {
   "codemirror_mode": {
    "name": "ipython",
    "version": 3
   },
   "file_extension": ".py",
   "mimetype": "text/x-python",
   "name": "python",
   "nbconvert_exporter": "python",
   "pygments_lexer": "ipython3",
   "version": "3.8.9"
  },
  "orig_nbformat": 4,
  "vscode": {
   "interpreter": {
    "hash": "31f2aee4e71d21fbe5cf8b01ff0e069b9275f58929596ceb00d14d90e3e16cd6"
   }
  }
 },
 "nbformat": 4,
 "nbformat_minor": 2
}
